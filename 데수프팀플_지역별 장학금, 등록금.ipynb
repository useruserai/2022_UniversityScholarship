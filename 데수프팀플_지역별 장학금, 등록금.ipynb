{
  "nbformat": 4,
  "nbformat_minor": 0,
  "metadata": {
    "colab": {
      "provenance": []
    },
    "kernelspec": {
      "name": "python3",
      "display_name": "Python 3"
    },
    "language_info": {
      "name": "python"
    }
  },
  "cells": [
    {
      "cell_type": "code",
      "source": [
        "import matplotlib.font_manager as fm\n",
        "#fm.fontManager.ttflist #설치된 폰트 리스트\n",
        "!sudo apt-get install -y fonts-nanum\n",
        "!sudo fc-cache -fv\n",
        "!rm ~/.cache/matplotlib -rf"
      ],
      "metadata": {
        "id": "gDQL0RMh-Mei",
        "colab": {
          "base_uri": "https://localhost:8080/"
        },
        "outputId": "f9c114a1-dac3-4c31-f9cf-55d6ed5e62cf"
      },
      "execution_count": null,
      "outputs": [
        {
          "output_type": "stream",
          "name": "stdout",
          "text": [
            "Reading package lists... Done\n",
            "Building dependency tree       \n",
            "Reading state information... Done\n",
            "The following NEW packages will be installed:\n",
            "  fonts-nanum\n",
            "0 upgraded, 1 newly installed, 0 to remove and 38 not upgraded.\n",
            "Need to get 9,599 kB of archives.\n",
            "After this operation, 29.6 MB of additional disk space will be used.\n",
            "Get:1 http://archive.ubuntu.com/ubuntu focal/universe amd64 fonts-nanum all 20180306-3 [9,599 kB]\n",
            "Fetched 9,599 kB in 1s (7,559 kB/s)\n",
            "debconf: unable to initialize frontend: Dialog\n",
            "debconf: (No usable dialog-like program is installed, so the dialog based frontend cannot be used. at /usr/share/perl5/Debconf/FrontEnd/Dialog.pm line 76, <> line 1.)\n",
            "debconf: falling back to frontend: Readline\n",
            "debconf: unable to initialize frontend: Readline\n",
            "debconf: (This frontend requires a controlling tty.)\n",
            "debconf: falling back to frontend: Teletype\n",
            "dpkg-preconfigure: unable to re-open stdin: \n",
            "Selecting previously unselected package fonts-nanum.\n",
            "(Reading database ... 122541 files and directories currently installed.)\n",
            "Preparing to unpack .../fonts-nanum_20180306-3_all.deb ...\n",
            "Unpacking fonts-nanum (20180306-3) ...\n",
            "Setting up fonts-nanum (20180306-3) ...\n",
            "Processing triggers for fontconfig (2.13.1-2ubuntu3) ...\n",
            "/usr/share/fonts: caching, new cache contents: 0 fonts, 1 dirs\n",
            "/usr/share/fonts/truetype: caching, new cache contents: 0 fonts, 3 dirs\n",
            "/usr/share/fonts/truetype/humor-sans: caching, new cache contents: 1 fonts, 0 dirs\n",
            "/usr/share/fonts/truetype/liberation: caching, new cache contents: 16 fonts, 0 dirs\n",
            "/usr/share/fonts/truetype/nanum: caching, new cache contents: 10 fonts, 0 dirs\n",
            "/usr/local/share/fonts: caching, new cache contents: 0 fonts, 0 dirs\n",
            "/root/.local/share/fonts: skipping, no such directory\n",
            "/root/.fonts: skipping, no such directory\n",
            "/usr/share/fonts/truetype: skipping, looped directory detected\n",
            "/usr/share/fonts/truetype/humor-sans: skipping, looped directory detected\n",
            "/usr/share/fonts/truetype/liberation: skipping, looped directory detected\n",
            "/usr/share/fonts/truetype/nanum: skipping, looped directory detected\n",
            "/var/cache/fontconfig: cleaning cache directory\n",
            "/root/.cache/fontconfig: not cleaning non-existent cache directory\n",
            "/root/.fontconfig: not cleaning non-existent cache directory\n",
            "fc-cache: succeeded\n"
          ]
        }
      ]
    },
    {
      "cell_type": "code",
      "execution_count": null,
      "metadata": {
        "id": "q8FENMrT2F6u"
      },
      "outputs": [],
      "source": [
        "import pandas as pd\n",
        "import numpy as np\n",
        "\n",
        "#시각화 관련된 코드\n",
        "import seaborn as sns\n",
        "import matplotlib.pyplot as plt"
      ]
    },
    {
      "cell_type": "code",
      "source": [
        "plt.rcParams[\"font.family\"]=\"NanumGothic\"\n",
        "plt.rcParams[\"font.size\"]=13"
      ],
      "metadata": {
        "id": "UQqsG9hp-UjY"
      },
      "execution_count": null,
      "outputs": []
    },
    {
      "cell_type": "code",
      "source": [
        "from google.colab import drive\n",
        "drive.mount('/content/drive')"
      ],
      "metadata": {
        "colab": {
          "base_uri": "https://localhost:8080/"
        },
        "id": "pw3_7RJQ6JD9",
        "outputId": "b7a13fd5-40a0-4a12-eab7-04af19861cda"
      },
      "execution_count": null,
      "outputs": [
        {
          "output_type": "stream",
          "name": "stdout",
          "text": [
            "Mounted at /content/drive\n"
          ]
        }
      ]
    },
    {
      "cell_type": "markdown",
      "source": [
        "excel 파일로된 데이터 셋을 csv로 바꾸는 코드"
      ],
      "metadata": {
        "id": "YUgEkPrcr6oM"
      }
    },
    {
      "cell_type": "code",
      "source": [
        "#excel_data= \"/content/drive/MyDrive/데수프팀플/등록금 현황.xlsx\"\n",
        "#csv_data = \"/content/drive/MyDrive/데수프팀플/등록금 현황.csv\"\n",
        "#df = pd.read_excel(excel_data)\n",
        "#df.to_csv(csv_data, index=False)"
      ],
      "metadata": {
        "id": "M94hMCtW2Kfs"
      },
      "execution_count": null,
      "outputs": []
    },
    {
      "cell_type": "code",
      "source": [
        "data=pd.read_csv(\"/content/drive/MyDrive/데수프팀플/등록금 현황.csv\",na_values=0.0,encoding='utf-8',skiprows=[0,1,2,4])\n",
        "data"
      ],
      "metadata": {
        "colab": {
          "base_uri": "https://localhost:8080/",
          "height": 1000
        },
        "id": "wxde3KqC2Kin",
        "outputId": "05e72e5e-aef0-4c6d-89ee-d47f74022461"
      },
      "execution_count": null,
      "outputs": [
        {
          "output_type": "execute_result",
          "data": {
            "text/plain": [
              "     기준연도       학교종류 설립구분  지역  상태            학교  입학금\\n(A)   수업료\\n(B)  \\\n",
              "0    2021        대학교   사립  경남  기존    가야대학교(김해)   120000.0  6758560.2   \n",
              "1    2021        대학교   사립  경기  기존        가천대학교   318000.0  8249738.7   \n",
              "2    2021        대학교   사립  강원  기존     가톨릭관동대학교   154000.0  7165673.8   \n",
              "3    2021        대학교   사립  충북  기존    가톨릭꽃동네대학교        NaN  7152463.0   \n",
              "4    2021        대학교   사립  경기  기존       가톨릭대학교   316600.0  6964630.1   \n",
              "..    ...        ...  ...  ..  ..           ...       ...        ...   \n",
              "240  2021       산업대학   사립  전북  기존        호원대학교    94000.0  6929052.0   \n",
              "241  2021        대학교   사립  서울  기존        홍익대학교   358400.0  8315003.9   \n",
              "242  2021        대학교   사립  세종  기존  홍익대학교 _제2캠퍼스  358400.0  8443408.1   \n",
              "243  2021        대학교   사립  경기  기존     화성의과학대학교   306000.0  6986129.1   \n",
              "244  2021  사이버대학(대학)   사립  부산  기존     화신사이버대학교   166000.0  2423209.9   \n",
              "\n",
              "     등록금\\n(D=B)       인문사회       자연과학        예체능         공학         의학  \n",
              "0     6758560.2  5849683.7  7206556.7        NaN        NaN        NaN  \n",
              "1     8249738.7  7098467.3  8283509.9  9177055.6  9076000.0  9890000.0  \n",
              "2     7165673.8  6157422.8  7459344.9  8218086.6  8135562.7  9850000.0  \n",
              "3     7152463.0  6618000.0  7796000.0        NaN        NaN        NaN  \n",
              "4     6964630.1  6122000.0  7454336.6  8562000.0  8284000.0        NaN  \n",
              "..          ...        ...        ...        ...        ...        ...  \n",
              "240   6929052.0  5814127.5  7148930.2  7484849.1  6999745.6        NaN  \n",
              "241   8315003.9  6848000.0  6848000.0  9070658.5  8810861.6        NaN  \n",
              "242   8443408.1  6848000.0        NaN  8984000.0  8799536.4        NaN  \n",
              "243   6986129.1  6526100.0  7424894.3  6982754.7        NaN        NaN  \n",
              "244   2423209.9  2423209.9        NaN        NaN        NaN        NaN  \n",
              "\n",
              "[245 rows x 14 columns]"
            ],
            "text/html": [
              "\n",
              "  <div id=\"df-e143e14b-a600-4dec-bcb8-f13eb0ae45b4\">\n",
              "    <div class=\"colab-df-container\">\n",
              "      <div>\n",
              "<style scoped>\n",
              "    .dataframe tbody tr th:only-of-type {\n",
              "        vertical-align: middle;\n",
              "    }\n",
              "\n",
              "    .dataframe tbody tr th {\n",
              "        vertical-align: top;\n",
              "    }\n",
              "\n",
              "    .dataframe thead th {\n",
              "        text-align: right;\n",
              "    }\n",
              "</style>\n",
              "<table border=\"1\" class=\"dataframe\">\n",
              "  <thead>\n",
              "    <tr style=\"text-align: right;\">\n",
              "      <th></th>\n",
              "      <th>기준연도</th>\n",
              "      <th>학교종류</th>\n",
              "      <th>설립구분</th>\n",
              "      <th>지역</th>\n",
              "      <th>상태</th>\n",
              "      <th>학교</th>\n",
              "      <th>입학금\\n(A)</th>\n",
              "      <th>수업료\\n(B)</th>\n",
              "      <th>등록금\\n(D=B)</th>\n",
              "      <th>인문사회</th>\n",
              "      <th>자연과학</th>\n",
              "      <th>예체능</th>\n",
              "      <th>공학</th>\n",
              "      <th>의학</th>\n",
              "    </tr>\n",
              "  </thead>\n",
              "  <tbody>\n",
              "    <tr>\n",
              "      <th>0</th>\n",
              "      <td>2021</td>\n",
              "      <td>대학교</td>\n",
              "      <td>사립</td>\n",
              "      <td>경남</td>\n",
              "      <td>기존</td>\n",
              "      <td>가야대학교(김해)</td>\n",
              "      <td>120000.0</td>\n",
              "      <td>6758560.2</td>\n",
              "      <td>6758560.2</td>\n",
              "      <td>5849683.7</td>\n",
              "      <td>7206556.7</td>\n",
              "      <td>NaN</td>\n",
              "      <td>NaN</td>\n",
              "      <td>NaN</td>\n",
              "    </tr>\n",
              "    <tr>\n",
              "      <th>1</th>\n",
              "      <td>2021</td>\n",
              "      <td>대학교</td>\n",
              "      <td>사립</td>\n",
              "      <td>경기</td>\n",
              "      <td>기존</td>\n",
              "      <td>가천대학교</td>\n",
              "      <td>318000.0</td>\n",
              "      <td>8249738.7</td>\n",
              "      <td>8249738.7</td>\n",
              "      <td>7098467.3</td>\n",
              "      <td>8283509.9</td>\n",
              "      <td>9177055.6</td>\n",
              "      <td>9076000.0</td>\n",
              "      <td>9890000.0</td>\n",
              "    </tr>\n",
              "    <tr>\n",
              "      <th>2</th>\n",
              "      <td>2021</td>\n",
              "      <td>대학교</td>\n",
              "      <td>사립</td>\n",
              "      <td>강원</td>\n",
              "      <td>기존</td>\n",
              "      <td>가톨릭관동대학교</td>\n",
              "      <td>154000.0</td>\n",
              "      <td>7165673.8</td>\n",
              "      <td>7165673.8</td>\n",
              "      <td>6157422.8</td>\n",
              "      <td>7459344.9</td>\n",
              "      <td>8218086.6</td>\n",
              "      <td>8135562.7</td>\n",
              "      <td>9850000.0</td>\n",
              "    </tr>\n",
              "    <tr>\n",
              "      <th>3</th>\n",
              "      <td>2021</td>\n",
              "      <td>대학교</td>\n",
              "      <td>사립</td>\n",
              "      <td>충북</td>\n",
              "      <td>기존</td>\n",
              "      <td>가톨릭꽃동네대학교</td>\n",
              "      <td>NaN</td>\n",
              "      <td>7152463.0</td>\n",
              "      <td>7152463.0</td>\n",
              "      <td>6618000.0</td>\n",
              "      <td>7796000.0</td>\n",
              "      <td>NaN</td>\n",
              "      <td>NaN</td>\n",
              "      <td>NaN</td>\n",
              "    </tr>\n",
              "    <tr>\n",
              "      <th>4</th>\n",
              "      <td>2021</td>\n",
              "      <td>대학교</td>\n",
              "      <td>사립</td>\n",
              "      <td>경기</td>\n",
              "      <td>기존</td>\n",
              "      <td>가톨릭대학교</td>\n",
              "      <td>316600.0</td>\n",
              "      <td>6964630.1</td>\n",
              "      <td>6964630.1</td>\n",
              "      <td>6122000.0</td>\n",
              "      <td>7454336.6</td>\n",
              "      <td>8562000.0</td>\n",
              "      <td>8284000.0</td>\n",
              "      <td>NaN</td>\n",
              "    </tr>\n",
              "    <tr>\n",
              "      <th>...</th>\n",
              "      <td>...</td>\n",
              "      <td>...</td>\n",
              "      <td>...</td>\n",
              "      <td>...</td>\n",
              "      <td>...</td>\n",
              "      <td>...</td>\n",
              "      <td>...</td>\n",
              "      <td>...</td>\n",
              "      <td>...</td>\n",
              "      <td>...</td>\n",
              "      <td>...</td>\n",
              "      <td>...</td>\n",
              "      <td>...</td>\n",
              "      <td>...</td>\n",
              "    </tr>\n",
              "    <tr>\n",
              "      <th>240</th>\n",
              "      <td>2021</td>\n",
              "      <td>산업대학</td>\n",
              "      <td>사립</td>\n",
              "      <td>전북</td>\n",
              "      <td>기존</td>\n",
              "      <td>호원대학교</td>\n",
              "      <td>94000.0</td>\n",
              "      <td>6929052.0</td>\n",
              "      <td>6929052.0</td>\n",
              "      <td>5814127.5</td>\n",
              "      <td>7148930.2</td>\n",
              "      <td>7484849.1</td>\n",
              "      <td>6999745.6</td>\n",
              "      <td>NaN</td>\n",
              "    </tr>\n",
              "    <tr>\n",
              "      <th>241</th>\n",
              "      <td>2021</td>\n",
              "      <td>대학교</td>\n",
              "      <td>사립</td>\n",
              "      <td>서울</td>\n",
              "      <td>기존</td>\n",
              "      <td>홍익대학교</td>\n",
              "      <td>358400.0</td>\n",
              "      <td>8315003.9</td>\n",
              "      <td>8315003.9</td>\n",
              "      <td>6848000.0</td>\n",
              "      <td>6848000.0</td>\n",
              "      <td>9070658.5</td>\n",
              "      <td>8810861.6</td>\n",
              "      <td>NaN</td>\n",
              "    </tr>\n",
              "    <tr>\n",
              "      <th>242</th>\n",
              "      <td>2021</td>\n",
              "      <td>대학교</td>\n",
              "      <td>사립</td>\n",
              "      <td>세종</td>\n",
              "      <td>기존</td>\n",
              "      <td>홍익대학교 _제2캠퍼스</td>\n",
              "      <td>358400.0</td>\n",
              "      <td>8443408.1</td>\n",
              "      <td>8443408.1</td>\n",
              "      <td>6848000.0</td>\n",
              "      <td>NaN</td>\n",
              "      <td>8984000.0</td>\n",
              "      <td>8799536.4</td>\n",
              "      <td>NaN</td>\n",
              "    </tr>\n",
              "    <tr>\n",
              "      <th>243</th>\n",
              "      <td>2021</td>\n",
              "      <td>대학교</td>\n",
              "      <td>사립</td>\n",
              "      <td>경기</td>\n",
              "      <td>기존</td>\n",
              "      <td>화성의과학대학교</td>\n",
              "      <td>306000.0</td>\n",
              "      <td>6986129.1</td>\n",
              "      <td>6986129.1</td>\n",
              "      <td>6526100.0</td>\n",
              "      <td>7424894.3</td>\n",
              "      <td>6982754.7</td>\n",
              "      <td>NaN</td>\n",
              "      <td>NaN</td>\n",
              "    </tr>\n",
              "    <tr>\n",
              "      <th>244</th>\n",
              "      <td>2021</td>\n",
              "      <td>사이버대학(대학)</td>\n",
              "      <td>사립</td>\n",
              "      <td>부산</td>\n",
              "      <td>기존</td>\n",
              "      <td>화신사이버대학교</td>\n",
              "      <td>166000.0</td>\n",
              "      <td>2423209.9</td>\n",
              "      <td>2423209.9</td>\n",
              "      <td>2423209.9</td>\n",
              "      <td>NaN</td>\n",
              "      <td>NaN</td>\n",
              "      <td>NaN</td>\n",
              "      <td>NaN</td>\n",
              "    </tr>\n",
              "  </tbody>\n",
              "</table>\n",
              "<p>245 rows × 14 columns</p>\n",
              "</div>\n",
              "      <button class=\"colab-df-convert\" onclick=\"convertToInteractive('df-e143e14b-a600-4dec-bcb8-f13eb0ae45b4')\"\n",
              "              title=\"Convert this dataframe to an interactive table.\"\n",
              "              style=\"display:none;\">\n",
              "        \n",
              "  <svg xmlns=\"http://www.w3.org/2000/svg\" height=\"24px\"viewBox=\"0 0 24 24\"\n",
              "       width=\"24px\">\n",
              "    <path d=\"M0 0h24v24H0V0z\" fill=\"none\"/>\n",
              "    <path d=\"M18.56 5.44l.94 2.06.94-2.06 2.06-.94-2.06-.94-.94-2.06-.94 2.06-2.06.94zm-11 1L8.5 8.5l.94-2.06 2.06-.94-2.06-.94L8.5 2.5l-.94 2.06-2.06.94zm10 10l.94 2.06.94-2.06 2.06-.94-2.06-.94-.94-2.06-.94 2.06-2.06.94z\"/><path d=\"M17.41 7.96l-1.37-1.37c-.4-.4-.92-.59-1.43-.59-.52 0-1.04.2-1.43.59L10.3 9.45l-7.72 7.72c-.78.78-.78 2.05 0 2.83L4 21.41c.39.39.9.59 1.41.59.51 0 1.02-.2 1.41-.59l7.78-7.78 2.81-2.81c.8-.78.8-2.07 0-2.86zM5.41 20L4 18.59l7.72-7.72 1.47 1.35L5.41 20z\"/>\n",
              "  </svg>\n",
              "      </button>\n",
              "      \n",
              "  <style>\n",
              "    .colab-df-container {\n",
              "      display:flex;\n",
              "      flex-wrap:wrap;\n",
              "      gap: 12px;\n",
              "    }\n",
              "\n",
              "    .colab-df-convert {\n",
              "      background-color: #E8F0FE;\n",
              "      border: none;\n",
              "      border-radius: 50%;\n",
              "      cursor: pointer;\n",
              "      display: none;\n",
              "      fill: #1967D2;\n",
              "      height: 32px;\n",
              "      padding: 0 0 0 0;\n",
              "      width: 32px;\n",
              "    }\n",
              "\n",
              "    .colab-df-convert:hover {\n",
              "      background-color: #E2EBFA;\n",
              "      box-shadow: 0px 1px 2px rgba(60, 64, 67, 0.3), 0px 1px 3px 1px rgba(60, 64, 67, 0.15);\n",
              "      fill: #174EA6;\n",
              "    }\n",
              "\n",
              "    [theme=dark] .colab-df-convert {\n",
              "      background-color: #3B4455;\n",
              "      fill: #D2E3FC;\n",
              "    }\n",
              "\n",
              "    [theme=dark] .colab-df-convert:hover {\n",
              "      background-color: #434B5C;\n",
              "      box-shadow: 0px 1px 3px 1px rgba(0, 0, 0, 0.15);\n",
              "      filter: drop-shadow(0px 1px 2px rgba(0, 0, 0, 0.3));\n",
              "      fill: #FFFFFF;\n",
              "    }\n",
              "  </style>\n",
              "\n",
              "      <script>\n",
              "        const buttonEl =\n",
              "          document.querySelector('#df-e143e14b-a600-4dec-bcb8-f13eb0ae45b4 button.colab-df-convert');\n",
              "        buttonEl.style.display =\n",
              "          google.colab.kernel.accessAllowed ? 'block' : 'none';\n",
              "\n",
              "        async function convertToInteractive(key) {\n",
              "          const element = document.querySelector('#df-e143e14b-a600-4dec-bcb8-f13eb0ae45b4');\n",
              "          const dataTable =\n",
              "            await google.colab.kernel.invokeFunction('convertToInteractive',\n",
              "                                                     [key], {});\n",
              "          if (!dataTable) return;\n",
              "\n",
              "          const docLinkHtml = 'Like what you see? Visit the ' +\n",
              "            '<a target=\"_blank\" href=https://colab.research.google.com/notebooks/data_table.ipynb>data table notebook</a>'\n",
              "            + ' to learn more about interactive tables.';\n",
              "          element.innerHTML = '';\n",
              "          dataTable['output_type'] = 'display_data';\n",
              "          await google.colab.output.renderOutput(dataTable, element);\n",
              "          const docLink = document.createElement('div');\n",
              "          docLink.innerHTML = docLinkHtml;\n",
              "          element.appendChild(docLink);\n",
              "        }\n",
              "      </script>\n",
              "    </div>\n",
              "  </div>\n",
              "  "
            ]
          },
          "metadata": {},
          "execution_count": 4
        }
      ]
    },
    {
      "cell_type": "markdown",
      "source": [
        "## 1. 데이터 전처리"
      ],
      "metadata": {
        "id": "Bz_L-OHDBrNl"
      }
    },
    {
      "cell_type": "markdown",
      "source": [
        "1) 전문대, 대학원등은 제외하고 4년제 대학교를 대상으로 확인"
      ],
      "metadata": {
        "id": "0AhIF3OJsFuH"
      }
    },
    {
      "cell_type": "code",
      "source": [
        "data = data[data['학교종류'] == '대학교']\n",
        "data = data.reset_index()\n",
        "data"
      ],
      "metadata": {
        "colab": {
          "base_uri": "https://localhost:8080/",
          "height": 1000
        },
        "id": "iYoHj6xa_msP",
        "outputId": "7fab3799-bc6c-4be7-d2dc-e9eacdb419ce"
      },
      "execution_count": null,
      "outputs": [
        {
          "output_type": "execute_result",
          "data": {
            "text/plain": [
              "     index  기준연도 학교종류 설립구분  지역  상태            학교  입학금\\n(A)   수업료\\n(B)  \\\n",
              "0        0  2021  대학교   사립  경남  기존    가야대학교(김해)   120000.0  6758560.2   \n",
              "1        1  2021  대학교   사립  경기  기존        가천대학교   318000.0  8249738.7   \n",
              "2        2  2021  대학교   사립  강원  기존     가톨릭관동대학교   154000.0  7165673.8   \n",
              "3        3  2021  대학교   사립  충북  기존    가톨릭꽃동네대학교        NaN  7152463.0   \n",
              "4        4  2021  대학교   사립  경기  기존       가톨릭대학교   316600.0  6964630.1   \n",
              "..     ...   ...  ...  ...  ..  ..           ...       ...        ...   \n",
              "207    238  2021  대학교   사립  광주  기존      호남신학대학교    99200.0  6686101.4   \n",
              "208    239  2021  대학교   사립  충남  기존        호서대학교   150000.0  7724277.6   \n",
              "209    241  2021  대학교   사립  서울  기존        홍익대학교   358400.0  8315003.9   \n",
              "210    242  2021  대학교   사립  세종  기존  홍익대학교 _제2캠퍼스  358400.0  8443408.1   \n",
              "211    243  2021  대학교   사립  경기  기존     화성의과학대학교   306000.0  6986129.1   \n",
              "\n",
              "     등록금\\n(D=B)       인문사회       자연과학        예체능         공학         의학  \n",
              "0     6758560.2  5849683.7  7206556.7        NaN        NaN        NaN  \n",
              "1     8249738.7  7098467.3  8283509.9  9177055.6  9076000.0  9890000.0  \n",
              "2     7165673.8  6157422.8  7459344.9  8218086.6  8135562.7  9850000.0  \n",
              "3     7152463.0  6618000.0  7796000.0        NaN        NaN        NaN  \n",
              "4     6964630.1  6122000.0  7454336.6  8562000.0  8284000.0        NaN  \n",
              "..          ...        ...        ...        ...        ...        ...  \n",
              "207   6686101.4  5770956.1        NaN  7936800.0        NaN        NaN  \n",
              "208   7724277.6  6825340.8  7733012.9  8219724.7  8264385.0        NaN  \n",
              "209   8315003.9  6848000.0  6848000.0  9070658.5  8810861.6        NaN  \n",
              "210   8443408.1  6848000.0        NaN  8984000.0  8799536.4        NaN  \n",
              "211   6986129.1  6526100.0  7424894.3  6982754.7        NaN        NaN  \n",
              "\n",
              "[212 rows x 15 columns]"
            ],
            "text/html": [
              "\n",
              "  <div id=\"df-63c4993d-db93-4c28-ae63-d8bb70a42b1f\">\n",
              "    <div class=\"colab-df-container\">\n",
              "      <div>\n",
              "<style scoped>\n",
              "    .dataframe tbody tr th:only-of-type {\n",
              "        vertical-align: middle;\n",
              "    }\n",
              "\n",
              "    .dataframe tbody tr th {\n",
              "        vertical-align: top;\n",
              "    }\n",
              "\n",
              "    .dataframe thead th {\n",
              "        text-align: right;\n",
              "    }\n",
              "</style>\n",
              "<table border=\"1\" class=\"dataframe\">\n",
              "  <thead>\n",
              "    <tr style=\"text-align: right;\">\n",
              "      <th></th>\n",
              "      <th>index</th>\n",
              "      <th>기준연도</th>\n",
              "      <th>학교종류</th>\n",
              "      <th>설립구분</th>\n",
              "      <th>지역</th>\n",
              "      <th>상태</th>\n",
              "      <th>학교</th>\n",
              "      <th>입학금\\n(A)</th>\n",
              "      <th>수업료\\n(B)</th>\n",
              "      <th>등록금\\n(D=B)</th>\n",
              "      <th>인문사회</th>\n",
              "      <th>자연과학</th>\n",
              "      <th>예체능</th>\n",
              "      <th>공학</th>\n",
              "      <th>의학</th>\n",
              "    </tr>\n",
              "  </thead>\n",
              "  <tbody>\n",
              "    <tr>\n",
              "      <th>0</th>\n",
              "      <td>0</td>\n",
              "      <td>2021</td>\n",
              "      <td>대학교</td>\n",
              "      <td>사립</td>\n",
              "      <td>경남</td>\n",
              "      <td>기존</td>\n",
              "      <td>가야대학교(김해)</td>\n",
              "      <td>120000.0</td>\n",
              "      <td>6758560.2</td>\n",
              "      <td>6758560.2</td>\n",
              "      <td>5849683.7</td>\n",
              "      <td>7206556.7</td>\n",
              "      <td>NaN</td>\n",
              "      <td>NaN</td>\n",
              "      <td>NaN</td>\n",
              "    </tr>\n",
              "    <tr>\n",
              "      <th>1</th>\n",
              "      <td>1</td>\n",
              "      <td>2021</td>\n",
              "      <td>대학교</td>\n",
              "      <td>사립</td>\n",
              "      <td>경기</td>\n",
              "      <td>기존</td>\n",
              "      <td>가천대학교</td>\n",
              "      <td>318000.0</td>\n",
              "      <td>8249738.7</td>\n",
              "      <td>8249738.7</td>\n",
              "      <td>7098467.3</td>\n",
              "      <td>8283509.9</td>\n",
              "      <td>9177055.6</td>\n",
              "      <td>9076000.0</td>\n",
              "      <td>9890000.0</td>\n",
              "    </tr>\n",
              "    <tr>\n",
              "      <th>2</th>\n",
              "      <td>2</td>\n",
              "      <td>2021</td>\n",
              "      <td>대학교</td>\n",
              "      <td>사립</td>\n",
              "      <td>강원</td>\n",
              "      <td>기존</td>\n",
              "      <td>가톨릭관동대학교</td>\n",
              "      <td>154000.0</td>\n",
              "      <td>7165673.8</td>\n",
              "      <td>7165673.8</td>\n",
              "      <td>6157422.8</td>\n",
              "      <td>7459344.9</td>\n",
              "      <td>8218086.6</td>\n",
              "      <td>8135562.7</td>\n",
              "      <td>9850000.0</td>\n",
              "    </tr>\n",
              "    <tr>\n",
              "      <th>3</th>\n",
              "      <td>3</td>\n",
              "      <td>2021</td>\n",
              "      <td>대학교</td>\n",
              "      <td>사립</td>\n",
              "      <td>충북</td>\n",
              "      <td>기존</td>\n",
              "      <td>가톨릭꽃동네대학교</td>\n",
              "      <td>NaN</td>\n",
              "      <td>7152463.0</td>\n",
              "      <td>7152463.0</td>\n",
              "      <td>6618000.0</td>\n",
              "      <td>7796000.0</td>\n",
              "      <td>NaN</td>\n",
              "      <td>NaN</td>\n",
              "      <td>NaN</td>\n",
              "    </tr>\n",
              "    <tr>\n",
              "      <th>4</th>\n",
              "      <td>4</td>\n",
              "      <td>2021</td>\n",
              "      <td>대학교</td>\n",
              "      <td>사립</td>\n",
              "      <td>경기</td>\n",
              "      <td>기존</td>\n",
              "      <td>가톨릭대학교</td>\n",
              "      <td>316600.0</td>\n",
              "      <td>6964630.1</td>\n",
              "      <td>6964630.1</td>\n",
              "      <td>6122000.0</td>\n",
              "      <td>7454336.6</td>\n",
              "      <td>8562000.0</td>\n",
              "      <td>8284000.0</td>\n",
              "      <td>NaN</td>\n",
              "    </tr>\n",
              "    <tr>\n",
              "      <th>...</th>\n",
              "      <td>...</td>\n",
              "      <td>...</td>\n",
              "      <td>...</td>\n",
              "      <td>...</td>\n",
              "      <td>...</td>\n",
              "      <td>...</td>\n",
              "      <td>...</td>\n",
              "      <td>...</td>\n",
              "      <td>...</td>\n",
              "      <td>...</td>\n",
              "      <td>...</td>\n",
              "      <td>...</td>\n",
              "      <td>...</td>\n",
              "      <td>...</td>\n",
              "      <td>...</td>\n",
              "    </tr>\n",
              "    <tr>\n",
              "      <th>207</th>\n",
              "      <td>238</td>\n",
              "      <td>2021</td>\n",
              "      <td>대학교</td>\n",
              "      <td>사립</td>\n",
              "      <td>광주</td>\n",
              "      <td>기존</td>\n",
              "      <td>호남신학대학교</td>\n",
              "      <td>99200.0</td>\n",
              "      <td>6686101.4</td>\n",
              "      <td>6686101.4</td>\n",
              "      <td>5770956.1</td>\n",
              "      <td>NaN</td>\n",
              "      <td>7936800.0</td>\n",
              "      <td>NaN</td>\n",
              "      <td>NaN</td>\n",
              "    </tr>\n",
              "    <tr>\n",
              "      <th>208</th>\n",
              "      <td>239</td>\n",
              "      <td>2021</td>\n",
              "      <td>대학교</td>\n",
              "      <td>사립</td>\n",
              "      <td>충남</td>\n",
              "      <td>기존</td>\n",
              "      <td>호서대학교</td>\n",
              "      <td>150000.0</td>\n",
              "      <td>7724277.6</td>\n",
              "      <td>7724277.6</td>\n",
              "      <td>6825340.8</td>\n",
              "      <td>7733012.9</td>\n",
              "      <td>8219724.7</td>\n",
              "      <td>8264385.0</td>\n",
              "      <td>NaN</td>\n",
              "    </tr>\n",
              "    <tr>\n",
              "      <th>209</th>\n",
              "      <td>241</td>\n",
              "      <td>2021</td>\n",
              "      <td>대학교</td>\n",
              "      <td>사립</td>\n",
              "      <td>서울</td>\n",
              "      <td>기존</td>\n",
              "      <td>홍익대학교</td>\n",
              "      <td>358400.0</td>\n",
              "      <td>8315003.9</td>\n",
              "      <td>8315003.9</td>\n",
              "      <td>6848000.0</td>\n",
              "      <td>6848000.0</td>\n",
              "      <td>9070658.5</td>\n",
              "      <td>8810861.6</td>\n",
              "      <td>NaN</td>\n",
              "    </tr>\n",
              "    <tr>\n",
              "      <th>210</th>\n",
              "      <td>242</td>\n",
              "      <td>2021</td>\n",
              "      <td>대학교</td>\n",
              "      <td>사립</td>\n",
              "      <td>세종</td>\n",
              "      <td>기존</td>\n",
              "      <td>홍익대학교 _제2캠퍼스</td>\n",
              "      <td>358400.0</td>\n",
              "      <td>8443408.1</td>\n",
              "      <td>8443408.1</td>\n",
              "      <td>6848000.0</td>\n",
              "      <td>NaN</td>\n",
              "      <td>8984000.0</td>\n",
              "      <td>8799536.4</td>\n",
              "      <td>NaN</td>\n",
              "    </tr>\n",
              "    <tr>\n",
              "      <th>211</th>\n",
              "      <td>243</td>\n",
              "      <td>2021</td>\n",
              "      <td>대학교</td>\n",
              "      <td>사립</td>\n",
              "      <td>경기</td>\n",
              "      <td>기존</td>\n",
              "      <td>화성의과학대학교</td>\n",
              "      <td>306000.0</td>\n",
              "      <td>6986129.1</td>\n",
              "      <td>6986129.1</td>\n",
              "      <td>6526100.0</td>\n",
              "      <td>7424894.3</td>\n",
              "      <td>6982754.7</td>\n",
              "      <td>NaN</td>\n",
              "      <td>NaN</td>\n",
              "    </tr>\n",
              "  </tbody>\n",
              "</table>\n",
              "<p>212 rows × 15 columns</p>\n",
              "</div>\n",
              "      <button class=\"colab-df-convert\" onclick=\"convertToInteractive('df-63c4993d-db93-4c28-ae63-d8bb70a42b1f')\"\n",
              "              title=\"Convert this dataframe to an interactive table.\"\n",
              "              style=\"display:none;\">\n",
              "        \n",
              "  <svg xmlns=\"http://www.w3.org/2000/svg\" height=\"24px\"viewBox=\"0 0 24 24\"\n",
              "       width=\"24px\">\n",
              "    <path d=\"M0 0h24v24H0V0z\" fill=\"none\"/>\n",
              "    <path d=\"M18.56 5.44l.94 2.06.94-2.06 2.06-.94-2.06-.94-.94-2.06-.94 2.06-2.06.94zm-11 1L8.5 8.5l.94-2.06 2.06-.94-2.06-.94L8.5 2.5l-.94 2.06-2.06.94zm10 10l.94 2.06.94-2.06 2.06-.94-2.06-.94-.94-2.06-.94 2.06-2.06.94z\"/><path d=\"M17.41 7.96l-1.37-1.37c-.4-.4-.92-.59-1.43-.59-.52 0-1.04.2-1.43.59L10.3 9.45l-7.72 7.72c-.78.78-.78 2.05 0 2.83L4 21.41c.39.39.9.59 1.41.59.51 0 1.02-.2 1.41-.59l7.78-7.78 2.81-2.81c.8-.78.8-2.07 0-2.86zM5.41 20L4 18.59l7.72-7.72 1.47 1.35L5.41 20z\"/>\n",
              "  </svg>\n",
              "      </button>\n",
              "      \n",
              "  <style>\n",
              "    .colab-df-container {\n",
              "      display:flex;\n",
              "      flex-wrap:wrap;\n",
              "      gap: 12px;\n",
              "    }\n",
              "\n",
              "    .colab-df-convert {\n",
              "      background-color: #E8F0FE;\n",
              "      border: none;\n",
              "      border-radius: 50%;\n",
              "      cursor: pointer;\n",
              "      display: none;\n",
              "      fill: #1967D2;\n",
              "      height: 32px;\n",
              "      padding: 0 0 0 0;\n",
              "      width: 32px;\n",
              "    }\n",
              "\n",
              "    .colab-df-convert:hover {\n",
              "      background-color: #E2EBFA;\n",
              "      box-shadow: 0px 1px 2px rgba(60, 64, 67, 0.3), 0px 1px 3px 1px rgba(60, 64, 67, 0.15);\n",
              "      fill: #174EA6;\n",
              "    }\n",
              "\n",
              "    [theme=dark] .colab-df-convert {\n",
              "      background-color: #3B4455;\n",
              "      fill: #D2E3FC;\n",
              "    }\n",
              "\n",
              "    [theme=dark] .colab-df-convert:hover {\n",
              "      background-color: #434B5C;\n",
              "      box-shadow: 0px 1px 3px 1px rgba(0, 0, 0, 0.15);\n",
              "      filter: drop-shadow(0px 1px 2px rgba(0, 0, 0, 0.3));\n",
              "      fill: #FFFFFF;\n",
              "    }\n",
              "  </style>\n",
              "\n",
              "      <script>\n",
              "        const buttonEl =\n",
              "          document.querySelector('#df-63c4993d-db93-4c28-ae63-d8bb70a42b1f button.colab-df-convert');\n",
              "        buttonEl.style.display =\n",
              "          google.colab.kernel.accessAllowed ? 'block' : 'none';\n",
              "\n",
              "        async function convertToInteractive(key) {\n",
              "          const element = document.querySelector('#df-63c4993d-db93-4c28-ae63-d8bb70a42b1f');\n",
              "          const dataTable =\n",
              "            await google.colab.kernel.invokeFunction('convertToInteractive',\n",
              "                                                     [key], {});\n",
              "          if (!dataTable) return;\n",
              "\n",
              "          const docLinkHtml = 'Like what you see? Visit the ' +\n",
              "            '<a target=\"_blank\" href=https://colab.research.google.com/notebooks/data_table.ipynb>data table notebook</a>'\n",
              "            + ' to learn more about interactive tables.';\n",
              "          element.innerHTML = '';\n",
              "          dataTable['output_type'] = 'display_data';\n",
              "          await google.colab.output.renderOutput(dataTable, element);\n",
              "          const docLink = document.createElement('div');\n",
              "          docLink.innerHTML = docLinkHtml;\n",
              "          element.appendChild(docLink);\n",
              "        }\n",
              "      </script>\n",
              "    </div>\n",
              "  </div>\n",
              "  "
            ]
          },
          "metadata": {},
          "execution_count": 5
        }
      ]
    },
    {
      "cell_type": "code",
      "source": [
        "data.info()"
      ],
      "metadata": {
        "colab": {
          "base_uri": "https://localhost:8080/"
        },
        "id": "gVFg3SO72Klp",
        "outputId": "e56dbc83-5f91-4a28-d375-ef29c6bfa007"
      },
      "execution_count": null,
      "outputs": [
        {
          "output_type": "stream",
          "name": "stdout",
          "text": [
            "<class 'pandas.core.frame.DataFrame'>\n",
            "RangeIndex: 212 entries, 0 to 211\n",
            "Data columns (total 15 columns):\n",
            " #   Column     Non-Null Count  Dtype  \n",
            "---  ------     --------------  -----  \n",
            " 0   index      212 non-null    int64  \n",
            " 1   기준연도       212 non-null    int64  \n",
            " 2   학교종류       212 non-null    object \n",
            " 3   설립구분       212 non-null    object \n",
            " 4   지역         212 non-null    object \n",
            " 5   상태         212 non-null    object \n",
            " 6   학교         212 non-null    object \n",
            " 7   입학금\n",
            "(A)    166 non-null    float64\n",
            " 8   수업료\n",
            "(B)    211 non-null    float64\n",
            " 9   등록금\n",
            "(D=B)  211 non-null    float64\n",
            " 10  인문사회       198 non-null    float64\n",
            " 11  자연과학       167 non-null    float64\n",
            " 12  예체능        166 non-null    float64\n",
            " 13  공학         159 non-null    float64\n",
            " 14  의학         47 non-null     float64\n",
            "dtypes: float64(8), int64(2), object(5)\n",
            "memory usage: 25.0+ KB\n"
          ]
        }
      ]
    },
    {
      "cell_type": "code",
      "source": [
        "#data.describe(include = 'all')"
      ],
      "metadata": {
        "id": "x9AR1cBl2Koh"
      },
      "execution_count": null,
      "outputs": []
    },
    {
      "cell_type": "code",
      "source": [
        "data.columns"
      ],
      "metadata": {
        "colab": {
          "base_uri": "https://localhost:8080/"
        },
        "id": "Kueuo5yBB1nP",
        "outputId": "1acbf67d-5747-4384-bd19-ff97566c8a0a"
      },
      "execution_count": null,
      "outputs": [
        {
          "output_type": "execute_result",
          "data": {
            "text/plain": [
              "Index(['index', '기준연도', '학교종류', '설립구분', '지역', '상태', '학교', '입학금\\n(A)',\n",
              "       '수업료\\n(B)', '등록금\\n(D=B)', '인문사회', '자연과학', '예체능', '공학', '의학'],\n",
              "      dtype='object')"
            ]
          },
          "metadata": {},
          "execution_count": 10
        }
      ]
    },
    {
      "cell_type": "markdown",
      "source": [
        "2) 무의미한 컬럼: 기준연도, 입학금 제외"
      ],
      "metadata": {
        "id": "jhgvEyH0sOhv"
      }
    },
    {
      "cell_type": "code",
      "source": [
        "#무의미한 컬럼\n",
        "data.drop(['기준연도','입학금\\n(A)'],axis=1,inplace=True)"
      ],
      "metadata": {
        "id": "CLSrM3DfEL8C"
      },
      "execution_count": null,
      "outputs": []
    },
    {
      "cell_type": "markdown",
      "source": [
        "3)문과,자연과학,공학대학이 모두 있는 종합대학만 고려"
      ],
      "metadata": {
        "id": "S8iP-rn4sSqJ"
      }
    },
    {
      "cell_type": "code",
      "source": [
        "#종합대학만 보겠다\n",
        "data.drop(['의학','예체능'],axis=1,inplace=True)"
      ],
      "metadata": {
        "id": "bci_bgBaBAXn"
      },
      "execution_count": null,
      "outputs": []
    },
    {
      "cell_type": "code",
      "source": [
        "data.columns"
      ],
      "metadata": {
        "colab": {
          "base_uri": "https://localhost:8080/"
        },
        "id": "ezOfRw8UCBW2",
        "outputId": "8fc9ece7-293e-461b-9f5c-d5fe00f63a70"
      },
      "execution_count": null,
      "outputs": [
        {
          "output_type": "execute_result",
          "data": {
            "text/plain": [
              "Index(['index', '학교종류', '설립구분', '지역', '상태', '학교', '수업료\\n(B)', '등록금\\n(D=B)',\n",
              "       '인문사회', '자연과학', '공학'],\n",
              "      dtype='object')"
            ]
          },
          "metadata": {},
          "execution_count": 13
        }
      ]
    },
    {
      "cell_type": "markdown",
      "source": [
        "4) 결측치가 많은 행 제거"
      ],
      "metadata": {
        "id": "x_geLgZrsdNo"
      }
    },
    {
      "cell_type": "code",
      "source": [
        "data.isnull().sum()"
      ],
      "metadata": {
        "colab": {
          "base_uri": "https://localhost:8080/"
        },
        "id": "EdbKeaddshLI",
        "outputId": "9110f88b-dcdb-4c50-90b2-290154de5a68"
      },
      "execution_count": null,
      "outputs": [
        {
          "output_type": "execute_result",
          "data": {
            "text/plain": [
              "index          0\n",
              "학교종류           0\n",
              "설립구분           0\n",
              "지역             0\n",
              "상태             0\n",
              "학교             0\n",
              "수업료\\n(B)       1\n",
              "등록금\\n(D=B)     1\n",
              "인문사회          14\n",
              "자연과학          45\n",
              "공학            53\n",
              "dtype: int64"
            ]
          },
          "metadata": {},
          "execution_count": 8
        }
      ]
    },
    {
      "cell_type": "code",
      "source": [
        "data=data.dropna(axis=0)\n",
        "data.head()"
      ],
      "metadata": {
        "colab": {
          "base_uri": "https://localhost:8080/",
          "height": 892
        },
        "id": "zVQLQ3D92Krn",
        "outputId": "3f4d0b3c-9d07-4e3b-9a67-e264c5738b8f"
      },
      "execution_count": null,
      "outputs": [
        {
          "output_type": "execute_result",
          "data": {
            "text/plain": [
              "    index 학교종류 설립구분  지역  상태              학교   수업료\\n(B)  등록금\\n(D=B)       인문사회  \\\n",
              "1       1  대학교   사립  경기  기존          가천대학교   8249738.7   8249738.7  7098467.3   \n",
              "2       2  대학교   사립  강원  기존       가톨릭관동대학교   7165673.8   7165673.8  6157422.8   \n",
              "4       4  대학교   사립  경기  기존         가톨릭대학교   6964630.1   6964630.1  6122000.0   \n",
              "9       9  대학교   국립  강원  기존        강릉원주대학교   4253234.2   4253234.2  3488000.0   \n",
              "10     10  대학교   국립  강원  기존  강릉원주대학교 _제2캠퍼스  4290340.0   4290340.0  3488000.0   \n",
              "\n",
              "         자연과학         공학  \n",
              "1   8283509.9  9076000.0  \n",
              "2   7459344.9  8135562.7  \n",
              "4   7454336.6  8284000.0  \n",
              "9   4301374.9  4616000.0  \n",
              "10  4298000.0  4616000.0  "
            ],
            "text/html": [
              "\n",
              "  <div id=\"df-9b5b327d-f20c-4c36-adfc-87315dc14ca3\">\n",
              "    <div class=\"colab-df-container\">\n",
              "      <div>\n",
              "<style scoped>\n",
              "    .dataframe tbody tr th:only-of-type {\n",
              "        vertical-align: middle;\n",
              "    }\n",
              "\n",
              "    .dataframe tbody tr th {\n",
              "        vertical-align: top;\n",
              "    }\n",
              "\n",
              "    .dataframe thead th {\n",
              "        text-align: right;\n",
              "    }\n",
              "</style>\n",
              "<table border=\"1\" class=\"dataframe\">\n",
              "  <thead>\n",
              "    <tr style=\"text-align: right;\">\n",
              "      <th></th>\n",
              "      <th>index</th>\n",
              "      <th>학교종류</th>\n",
              "      <th>설립구분</th>\n",
              "      <th>지역</th>\n",
              "      <th>상태</th>\n",
              "      <th>학교</th>\n",
              "      <th>수업료\\n(B)</th>\n",
              "      <th>등록금\\n(D=B)</th>\n",
              "      <th>인문사회</th>\n",
              "      <th>자연과학</th>\n",
              "      <th>공학</th>\n",
              "    </tr>\n",
              "  </thead>\n",
              "  <tbody>\n",
              "    <tr>\n",
              "      <th>1</th>\n",
              "      <td>1</td>\n",
              "      <td>대학교</td>\n",
              "      <td>사립</td>\n",
              "      <td>경기</td>\n",
              "      <td>기존</td>\n",
              "      <td>가천대학교</td>\n",
              "      <td>8249738.7</td>\n",
              "      <td>8249738.7</td>\n",
              "      <td>7098467.3</td>\n",
              "      <td>8283509.9</td>\n",
              "      <td>9076000.0</td>\n",
              "    </tr>\n",
              "    <tr>\n",
              "      <th>2</th>\n",
              "      <td>2</td>\n",
              "      <td>대학교</td>\n",
              "      <td>사립</td>\n",
              "      <td>강원</td>\n",
              "      <td>기존</td>\n",
              "      <td>가톨릭관동대학교</td>\n",
              "      <td>7165673.8</td>\n",
              "      <td>7165673.8</td>\n",
              "      <td>6157422.8</td>\n",
              "      <td>7459344.9</td>\n",
              "      <td>8135562.7</td>\n",
              "    </tr>\n",
              "    <tr>\n",
              "      <th>4</th>\n",
              "      <td>4</td>\n",
              "      <td>대학교</td>\n",
              "      <td>사립</td>\n",
              "      <td>경기</td>\n",
              "      <td>기존</td>\n",
              "      <td>가톨릭대학교</td>\n",
              "      <td>6964630.1</td>\n",
              "      <td>6964630.1</td>\n",
              "      <td>6122000.0</td>\n",
              "      <td>7454336.6</td>\n",
              "      <td>8284000.0</td>\n",
              "    </tr>\n",
              "    <tr>\n",
              "      <th>9</th>\n",
              "      <td>9</td>\n",
              "      <td>대학교</td>\n",
              "      <td>국립</td>\n",
              "      <td>강원</td>\n",
              "      <td>기존</td>\n",
              "      <td>강릉원주대학교</td>\n",
              "      <td>4253234.2</td>\n",
              "      <td>4253234.2</td>\n",
              "      <td>3488000.0</td>\n",
              "      <td>4301374.9</td>\n",
              "      <td>4616000.0</td>\n",
              "    </tr>\n",
              "    <tr>\n",
              "      <th>10</th>\n",
              "      <td>10</td>\n",
              "      <td>대학교</td>\n",
              "      <td>국립</td>\n",
              "      <td>강원</td>\n",
              "      <td>기존</td>\n",
              "      <td>강릉원주대학교 _제2캠퍼스</td>\n",
              "      <td>4290340.0</td>\n",
              "      <td>4290340.0</td>\n",
              "      <td>3488000.0</td>\n",
              "      <td>4298000.0</td>\n",
              "      <td>4616000.0</td>\n",
              "    </tr>\n",
              "  </tbody>\n",
              "</table>\n",
              "</div>\n",
              "      <button class=\"colab-df-convert\" onclick=\"convertToInteractive('df-9b5b327d-f20c-4c36-adfc-87315dc14ca3')\"\n",
              "              title=\"Convert this dataframe to an interactive table.\"\n",
              "              style=\"display:none;\">\n",
              "        \n",
              "  <svg xmlns=\"http://www.w3.org/2000/svg\" height=\"24px\"viewBox=\"0 0 24 24\"\n",
              "       width=\"24px\">\n",
              "    <path d=\"M0 0h24v24H0V0z\" fill=\"none\"/>\n",
              "    <path d=\"M18.56 5.44l.94 2.06.94-2.06 2.06-.94-2.06-.94-.94-2.06-.94 2.06-2.06.94zm-11 1L8.5 8.5l.94-2.06 2.06-.94-2.06-.94L8.5 2.5l-.94 2.06-2.06.94zm10 10l.94 2.06.94-2.06 2.06-.94-2.06-.94-.94-2.06-.94 2.06-2.06.94z\"/><path d=\"M17.41 7.96l-1.37-1.37c-.4-.4-.92-.59-1.43-.59-.52 0-1.04.2-1.43.59L10.3 9.45l-7.72 7.72c-.78.78-.78 2.05 0 2.83L4 21.41c.39.39.9.59 1.41.59.51 0 1.02-.2 1.41-.59l7.78-7.78 2.81-2.81c.8-.78.8-2.07 0-2.86zM5.41 20L4 18.59l7.72-7.72 1.47 1.35L5.41 20z\"/>\n",
              "  </svg>\n",
              "      </button>\n",
              "      \n",
              "  <style>\n",
              "    .colab-df-container {\n",
              "      display:flex;\n",
              "      flex-wrap:wrap;\n",
              "      gap: 12px;\n",
              "    }\n",
              "\n",
              "    .colab-df-convert {\n",
              "      background-color: #E8F0FE;\n",
              "      border: none;\n",
              "      border-radius: 50%;\n",
              "      cursor: pointer;\n",
              "      display: none;\n",
              "      fill: #1967D2;\n",
              "      height: 32px;\n",
              "      padding: 0 0 0 0;\n",
              "      width: 32px;\n",
              "    }\n",
              "\n",
              "    .colab-df-convert:hover {\n",
              "      background-color: #E2EBFA;\n",
              "      box-shadow: 0px 1px 2px rgba(60, 64, 67, 0.3), 0px 1px 3px 1px rgba(60, 64, 67, 0.15);\n",
              "      fill: #174EA6;\n",
              "    }\n",
              "\n",
              "    [theme=dark] .colab-df-convert {\n",
              "      background-color: #3B4455;\n",
              "      fill: #D2E3FC;\n",
              "    }\n",
              "\n",
              "    [theme=dark] .colab-df-convert:hover {\n",
              "      background-color: #434B5C;\n",
              "      box-shadow: 0px 1px 3px 1px rgba(0, 0, 0, 0.15);\n",
              "      filter: drop-shadow(0px 1px 2px rgba(0, 0, 0, 0.3));\n",
              "      fill: #FFFFFF;\n",
              "    }\n",
              "  </style>\n",
              "\n",
              "      <script>\n",
              "        const buttonEl =\n",
              "          document.querySelector('#df-9b5b327d-f20c-4c36-adfc-87315dc14ca3 button.colab-df-convert');\n",
              "        buttonEl.style.display =\n",
              "          google.colab.kernel.accessAllowed ? 'block' : 'none';\n",
              "\n",
              "        async function convertToInteractive(key) {\n",
              "          const element = document.querySelector('#df-9b5b327d-f20c-4c36-adfc-87315dc14ca3');\n",
              "          const dataTable =\n",
              "            await google.colab.kernel.invokeFunction('convertToInteractive',\n",
              "                                                     [key], {});\n",
              "          if (!dataTable) return;\n",
              "\n",
              "          const docLinkHtml = 'Like what you see? Visit the ' +\n",
              "            '<a target=\"_blank\" href=https://colab.research.google.com/notebooks/data_table.ipynb>data table notebook</a>'\n",
              "            + ' to learn more about interactive tables.';\n",
              "          element.innerHTML = '';\n",
              "          dataTable['output_type'] = 'display_data';\n",
              "          await google.colab.output.renderOutput(dataTable, element);\n",
              "          const docLink = document.createElement('div');\n",
              "          docLink.innerHTML = docLinkHtml;\n",
              "          element.appendChild(docLink);\n",
              "        }\n",
              "      </script>\n",
              "    </div>\n",
              "  </div>\n",
              "  "
            ]
          },
          "metadata": {},
          "execution_count": 11
        }
      ]
    },
    {
      "cell_type": "code",
      "source": [
        "data.info()"
      ],
      "metadata": {
        "colab": {
          "base_uri": "https://localhost:8080/"
        },
        "id": "ry7Q_G8T2Kt9",
        "outputId": "8ec5067b-77bb-4825-eca4-22b31b8e834f"
      },
      "execution_count": null,
      "outputs": [
        {
          "output_type": "stream",
          "name": "stdout",
          "text": [
            "<class 'pandas.core.frame.DataFrame'>\n",
            "Int64Index: 141 entries, 1 to 209\n",
            "Data columns (total 11 columns):\n",
            " #   Column     Non-Null Count  Dtype  \n",
            "---  ------     --------------  -----  \n",
            " 0   index      141 non-null    int64  \n",
            " 1   학교종류       141 non-null    object \n",
            " 2   설립구분       141 non-null    object \n",
            " 3   지역         141 non-null    object \n",
            " 4   상태         141 non-null    object \n",
            " 5   학교         141 non-null    object \n",
            " 6   수업료\n",
            "(B)    141 non-null    float64\n",
            " 7   등록금\n",
            "(D=B)  141 non-null    float64\n",
            " 8   인문사회       141 non-null    float64\n",
            " 9   자연과학       141 non-null    float64\n",
            " 10  공학         141 non-null    float64\n",
            "dtypes: float64(5), int64(1), object(5)\n",
            "memory usage: 13.2+ KB\n"
          ]
        }
      ]
    },
    {
      "cell_type": "markdown",
      "source": [
        "5) 사립대학만 고려"
      ],
      "metadata": {
        "id": "5EHNDMPbFhMH"
      }
    },
    {
      "cell_type": "code",
      "source": [
        "#국공립 대학과 사립대학의 등록금 차이가 크기 때문에 사립으로만 비교\n",
        "group_data = data.groupby([\"설립구분\"])\n",
        "data_sa=group_data.get_group('사립')"
      ],
      "metadata": {
        "id": "i5qNjJwHCMa9"
      },
      "execution_count": null,
      "outputs": []
    },
    {
      "cell_type": "markdown",
      "source": [
        "#지역에 따른 값"
      ],
      "metadata": {
        "id": "ihKRkFNVtNo9"
      }
    },
    {
      "cell_type": "code",
      "source": [
        "data_sa.groupby([\"지역\"]).mean()"
      ],
      "metadata": {
        "colab": {
          "base_uri": "https://localhost:8080/",
          "height": 1000
        },
        "id": "-GvRkzfpDQRw",
        "outputId": "076998d7-2568-40f5-c029-dc89540c0259"
      },
      "execution_count": null,
      "outputs": [
        {
          "output_type": "stream",
          "name": "stderr",
          "text": [
            "<ipython-input-14-336233347742>:1: FutureWarning: The default value of numeric_only in DataFrameGroupBy.mean is deprecated. In a future version, numeric_only will default to False. Either specify numeric_only or select only columns which should be valid for the function.\n",
            "  data_sa.groupby([\"지역\"]).mean()\n"
          ]
        },
        {
          "output_type": "execute_result",
          "data": {
            "text/plain": [
              "         index      수업료\\n(B)    등록금\\n(D=B)          인문사회          자연과학  \\\n",
              "지역                                                                       \n",
              "강원  120.000000  7.536443e+06  7.536443e+06  6.647051e+06  7.798808e+06   \n",
              "경기  133.166667  7.873358e+06  7.873358e+06  6.825607e+06  8.190025e+06   \n",
              "경남  148.400000  6.654106e+06  6.654106e+06  5.638574e+06  6.945445e+06   \n",
              "경북   86.250000  7.268526e+06  7.268526e+06  6.129737e+06  7.733880e+06   \n",
              "광주  130.800000  6.632963e+06  6.632963e+06  5.887877e+06  6.891446e+06   \n",
              "대구   35.000000  7.187091e+06  7.187091e+06  5.984912e+06  7.882609e+06   \n",
              "대전  108.000000  7.203872e+06  7.203872e+06  6.446898e+06  7.282843e+06   \n",
              "부산   83.142857  6.749633e+06  6.749633e+06  5.682602e+06  7.083380e+06   \n",
              "서울  121.043478  7.975213e+06  7.975213e+06  6.931318e+06  8.187118e+06   \n",
              "세종   37.000000  8.373668e+06  8.373668e+06  7.120000e+06  8.822531e+06   \n",
              "울산  160.000000  7.300443e+06  7.300443e+06  5.750000e+06  7.483991e+06   \n",
              "인천  173.000000  7.701519e+06  7.701519e+06  6.669161e+06  7.967217e+06   \n",
              "전남  157.250000  6.636411e+06  6.636411e+06  5.718687e+06  6.767084e+06   \n",
              "전북  165.666667  7.119567e+06  7.119567e+06  6.071011e+06  7.387384e+06   \n",
              "제주  181.000000  5.780848e+06  5.780848e+06  5.472000e+06  5.976000e+06   \n",
              "충남  127.333333  7.644002e+06  7.644002e+06  6.773835e+06  7.965738e+06   \n",
              "충북  122.571429  7.362034e+06  7.362034e+06  6.403770e+06  7.645857e+06   \n",
              "\n",
              "              공학  \n",
              "지역                \n",
              "강원  8.441552e+06  \n",
              "경기  8.668421e+06  \n",
              "경남  7.439073e+06  \n",
              "경북  7.889740e+06  \n",
              "광주  7.095200e+06  \n",
              "대구  8.238000e+06  \n",
              "대전  7.764020e+06  \n",
              "부산  7.627382e+06  \n",
              "서울  8.802986e+06  \n",
              "세종  9.680000e+06  \n",
              "울산  8.125751e+06  \n",
              "인천  8.396476e+06  \n",
              "전남  7.251179e+06  \n",
              "전북  7.942028e+06  \n",
              "제주  5.976000e+06  \n",
              "충남  8.180597e+06  \n",
              "충북  8.046745e+06  "
            ],
            "text/html": [
              "\n",
              "  <div id=\"df-1ab303fe-ac69-424a-85ae-b50d6fc506b8\">\n",
              "    <div class=\"colab-df-container\">\n",
              "      <div>\n",
              "<style scoped>\n",
              "    .dataframe tbody tr th:only-of-type {\n",
              "        vertical-align: middle;\n",
              "    }\n",
              "\n",
              "    .dataframe tbody tr th {\n",
              "        vertical-align: top;\n",
              "    }\n",
              "\n",
              "    .dataframe thead th {\n",
              "        text-align: right;\n",
              "    }\n",
              "</style>\n",
              "<table border=\"1\" class=\"dataframe\">\n",
              "  <thead>\n",
              "    <tr style=\"text-align: right;\">\n",
              "      <th></th>\n",
              "      <th>index</th>\n",
              "      <th>수업료\\n(B)</th>\n",
              "      <th>등록금\\n(D=B)</th>\n",
              "      <th>인문사회</th>\n",
              "      <th>자연과학</th>\n",
              "      <th>공학</th>\n",
              "    </tr>\n",
              "    <tr>\n",
              "      <th>지역</th>\n",
              "      <th></th>\n",
              "      <th></th>\n",
              "      <th></th>\n",
              "      <th></th>\n",
              "      <th></th>\n",
              "      <th></th>\n",
              "    </tr>\n",
              "  </thead>\n",
              "  <tbody>\n",
              "    <tr>\n",
              "      <th>강원</th>\n",
              "      <td>120.000000</td>\n",
              "      <td>7.536443e+06</td>\n",
              "      <td>7.536443e+06</td>\n",
              "      <td>6.647051e+06</td>\n",
              "      <td>7.798808e+06</td>\n",
              "      <td>8.441552e+06</td>\n",
              "    </tr>\n",
              "    <tr>\n",
              "      <th>경기</th>\n",
              "      <td>133.166667</td>\n",
              "      <td>7.873358e+06</td>\n",
              "      <td>7.873358e+06</td>\n",
              "      <td>6.825607e+06</td>\n",
              "      <td>8.190025e+06</td>\n",
              "      <td>8.668421e+06</td>\n",
              "    </tr>\n",
              "    <tr>\n",
              "      <th>경남</th>\n",
              "      <td>148.400000</td>\n",
              "      <td>6.654106e+06</td>\n",
              "      <td>6.654106e+06</td>\n",
              "      <td>5.638574e+06</td>\n",
              "      <td>6.945445e+06</td>\n",
              "      <td>7.439073e+06</td>\n",
              "    </tr>\n",
              "    <tr>\n",
              "      <th>경북</th>\n",
              "      <td>86.250000</td>\n",
              "      <td>7.268526e+06</td>\n",
              "      <td>7.268526e+06</td>\n",
              "      <td>6.129737e+06</td>\n",
              "      <td>7.733880e+06</td>\n",
              "      <td>7.889740e+06</td>\n",
              "    </tr>\n",
              "    <tr>\n",
              "      <th>광주</th>\n",
              "      <td>130.800000</td>\n",
              "      <td>6.632963e+06</td>\n",
              "      <td>6.632963e+06</td>\n",
              "      <td>5.887877e+06</td>\n",
              "      <td>6.891446e+06</td>\n",
              "      <td>7.095200e+06</td>\n",
              "    </tr>\n",
              "    <tr>\n",
              "      <th>대구</th>\n",
              "      <td>35.000000</td>\n",
              "      <td>7.187091e+06</td>\n",
              "      <td>7.187091e+06</td>\n",
              "      <td>5.984912e+06</td>\n",
              "      <td>7.882609e+06</td>\n",
              "      <td>8.238000e+06</td>\n",
              "    </tr>\n",
              "    <tr>\n",
              "      <th>대전</th>\n",
              "      <td>108.000000</td>\n",
              "      <td>7.203872e+06</td>\n",
              "      <td>7.203872e+06</td>\n",
              "      <td>6.446898e+06</td>\n",
              "      <td>7.282843e+06</td>\n",
              "      <td>7.764020e+06</td>\n",
              "    </tr>\n",
              "    <tr>\n",
              "      <th>부산</th>\n",
              "      <td>83.142857</td>\n",
              "      <td>6.749633e+06</td>\n",
              "      <td>6.749633e+06</td>\n",
              "      <td>5.682602e+06</td>\n",
              "      <td>7.083380e+06</td>\n",
              "      <td>7.627382e+06</td>\n",
              "    </tr>\n",
              "    <tr>\n",
              "      <th>서울</th>\n",
              "      <td>121.043478</td>\n",
              "      <td>7.975213e+06</td>\n",
              "      <td>7.975213e+06</td>\n",
              "      <td>6.931318e+06</td>\n",
              "      <td>8.187118e+06</td>\n",
              "      <td>8.802986e+06</td>\n",
              "    </tr>\n",
              "    <tr>\n",
              "      <th>세종</th>\n",
              "      <td>37.000000</td>\n",
              "      <td>8.373668e+06</td>\n",
              "      <td>8.373668e+06</td>\n",
              "      <td>7.120000e+06</td>\n",
              "      <td>8.822531e+06</td>\n",
              "      <td>9.680000e+06</td>\n",
              "    </tr>\n",
              "    <tr>\n",
              "      <th>울산</th>\n",
              "      <td>160.000000</td>\n",
              "      <td>7.300443e+06</td>\n",
              "      <td>7.300443e+06</td>\n",
              "      <td>5.750000e+06</td>\n",
              "      <td>7.483991e+06</td>\n",
              "      <td>8.125751e+06</td>\n",
              "    </tr>\n",
              "    <tr>\n",
              "      <th>인천</th>\n",
              "      <td>173.000000</td>\n",
              "      <td>7.701519e+06</td>\n",
              "      <td>7.701519e+06</td>\n",
              "      <td>6.669161e+06</td>\n",
              "      <td>7.967217e+06</td>\n",
              "      <td>8.396476e+06</td>\n",
              "    </tr>\n",
              "    <tr>\n",
              "      <th>전남</th>\n",
              "      <td>157.250000</td>\n",
              "      <td>6.636411e+06</td>\n",
              "      <td>6.636411e+06</td>\n",
              "      <td>5.718687e+06</td>\n",
              "      <td>6.767084e+06</td>\n",
              "      <td>7.251179e+06</td>\n",
              "    </tr>\n",
              "    <tr>\n",
              "      <th>전북</th>\n",
              "      <td>165.666667</td>\n",
              "      <td>7.119567e+06</td>\n",
              "      <td>7.119567e+06</td>\n",
              "      <td>6.071011e+06</td>\n",
              "      <td>7.387384e+06</td>\n",
              "      <td>7.942028e+06</td>\n",
              "    </tr>\n",
              "    <tr>\n",
              "      <th>제주</th>\n",
              "      <td>181.000000</td>\n",
              "      <td>5.780848e+06</td>\n",
              "      <td>5.780848e+06</td>\n",
              "      <td>5.472000e+06</td>\n",
              "      <td>5.976000e+06</td>\n",
              "      <td>5.976000e+06</td>\n",
              "    </tr>\n",
              "    <tr>\n",
              "      <th>충남</th>\n",
              "      <td>127.333333</td>\n",
              "      <td>7.644002e+06</td>\n",
              "      <td>7.644002e+06</td>\n",
              "      <td>6.773835e+06</td>\n",
              "      <td>7.965738e+06</td>\n",
              "      <td>8.180597e+06</td>\n",
              "    </tr>\n",
              "    <tr>\n",
              "      <th>충북</th>\n",
              "      <td>122.571429</td>\n",
              "      <td>7.362034e+06</td>\n",
              "      <td>7.362034e+06</td>\n",
              "      <td>6.403770e+06</td>\n",
              "      <td>7.645857e+06</td>\n",
              "      <td>8.046745e+06</td>\n",
              "    </tr>\n",
              "  </tbody>\n",
              "</table>\n",
              "</div>\n",
              "      <button class=\"colab-df-convert\" onclick=\"convertToInteractive('df-1ab303fe-ac69-424a-85ae-b50d6fc506b8')\"\n",
              "              title=\"Convert this dataframe to an interactive table.\"\n",
              "              style=\"display:none;\">\n",
              "        \n",
              "  <svg xmlns=\"http://www.w3.org/2000/svg\" height=\"24px\"viewBox=\"0 0 24 24\"\n",
              "       width=\"24px\">\n",
              "    <path d=\"M0 0h24v24H0V0z\" fill=\"none\"/>\n",
              "    <path d=\"M18.56 5.44l.94 2.06.94-2.06 2.06-.94-2.06-.94-.94-2.06-.94 2.06-2.06.94zm-11 1L8.5 8.5l.94-2.06 2.06-.94-2.06-.94L8.5 2.5l-.94 2.06-2.06.94zm10 10l.94 2.06.94-2.06 2.06-.94-2.06-.94-.94-2.06-.94 2.06-2.06.94z\"/><path d=\"M17.41 7.96l-1.37-1.37c-.4-.4-.92-.59-1.43-.59-.52 0-1.04.2-1.43.59L10.3 9.45l-7.72 7.72c-.78.78-.78 2.05 0 2.83L4 21.41c.39.39.9.59 1.41.59.51 0 1.02-.2 1.41-.59l7.78-7.78 2.81-2.81c.8-.78.8-2.07 0-2.86zM5.41 20L4 18.59l7.72-7.72 1.47 1.35L5.41 20z\"/>\n",
              "  </svg>\n",
              "      </button>\n",
              "      \n",
              "  <style>\n",
              "    .colab-df-container {\n",
              "      display:flex;\n",
              "      flex-wrap:wrap;\n",
              "      gap: 12px;\n",
              "    }\n",
              "\n",
              "    .colab-df-convert {\n",
              "      background-color: #E8F0FE;\n",
              "      border: none;\n",
              "      border-radius: 50%;\n",
              "      cursor: pointer;\n",
              "      display: none;\n",
              "      fill: #1967D2;\n",
              "      height: 32px;\n",
              "      padding: 0 0 0 0;\n",
              "      width: 32px;\n",
              "    }\n",
              "\n",
              "    .colab-df-convert:hover {\n",
              "      background-color: #E2EBFA;\n",
              "      box-shadow: 0px 1px 2px rgba(60, 64, 67, 0.3), 0px 1px 3px 1px rgba(60, 64, 67, 0.15);\n",
              "      fill: #174EA6;\n",
              "    }\n",
              "\n",
              "    [theme=dark] .colab-df-convert {\n",
              "      background-color: #3B4455;\n",
              "      fill: #D2E3FC;\n",
              "    }\n",
              "\n",
              "    [theme=dark] .colab-df-convert:hover {\n",
              "      background-color: #434B5C;\n",
              "      box-shadow: 0px 1px 3px 1px rgba(0, 0, 0, 0.15);\n",
              "      filter: drop-shadow(0px 1px 2px rgba(0, 0, 0, 0.3));\n",
              "      fill: #FFFFFF;\n",
              "    }\n",
              "  </style>\n",
              "\n",
              "      <script>\n",
              "        const buttonEl =\n",
              "          document.querySelector('#df-1ab303fe-ac69-424a-85ae-b50d6fc506b8 button.colab-df-convert');\n",
              "        buttonEl.style.display =\n",
              "          google.colab.kernel.accessAllowed ? 'block' : 'none';\n",
              "\n",
              "        async function convertToInteractive(key) {\n",
              "          const element = document.querySelector('#df-1ab303fe-ac69-424a-85ae-b50d6fc506b8');\n",
              "          const dataTable =\n",
              "            await google.colab.kernel.invokeFunction('convertToInteractive',\n",
              "                                                     [key], {});\n",
              "          if (!dataTable) return;\n",
              "\n",
              "          const docLinkHtml = 'Like what you see? Visit the ' +\n",
              "            '<a target=\"_blank\" href=https://colab.research.google.com/notebooks/data_table.ipynb>data table notebook</a>'\n",
              "            + ' to learn more about interactive tables.';\n",
              "          element.innerHTML = '';\n",
              "          dataTable['output_type'] = 'display_data';\n",
              "          await google.colab.output.renderOutput(dataTable, element);\n",
              "          const docLink = document.createElement('div');\n",
              "          docLink.innerHTML = docLinkHtml;\n",
              "          element.appendChild(docLink);\n",
              "        }\n",
              "      </script>\n",
              "    </div>\n",
              "  </div>\n",
              "  "
            ]
          },
          "metadata": {},
          "execution_count": 14
        }
      ]
    },
    {
      "cell_type": "markdown",
      "source": [
        "6) 지역별로 대학교의 수가 적기 때문에 일반화를 위해 대학교가 5개 초과인 지역만 고려"
      ],
      "metadata": {
        "id": "xeYTY4pXtUYe"
      }
    },
    {
      "cell_type": "code",
      "source": [
        "df = data_sa.groupby('지역').filter(lambda x: len(x) > 5)\n",
        "df.groupby('지역').count()"
      ],
      "metadata": {
        "colab": {
          "base_uri": "https://localhost:8080/",
          "height": 500
        },
        "id": "OCp6a_7tCEMh",
        "outputId": "15dc1efd-cf95-4ca3-9bd5-5968afe5af6f"
      },
      "execution_count": null,
      "outputs": [
        {
          "output_type": "execute_result",
          "data": {
            "text/plain": [
              "    index  학교종류  설립구분  상태  학교  수업료\\n(B)  등록금\\n(D=B)  인문사회  자연과학  공학\n",
              "지역                                                                 \n",
              "경기     18    18    18  18  18        18          18    18    18  18\n",
              "경북     12    12    12  12  12        12          12    12    12  12\n",
              "대전      6     6     6   6   6         6           6     6     6   6\n",
              "부산      7     7     7   7   7         7           7     7     7   7\n",
              "서울     23    23    23  23  23        23          23    23    23  23\n",
              "충남      9     9     9   9   9         9           9     9     9   9\n",
              "충북      7     7     7   7   7         7           7     7     7   7"
            ],
            "text/html": [
              "\n",
              "  <div id=\"df-36d94a77-d115-4ea6-8e41-0f6da81fa7d5\">\n",
              "    <div class=\"colab-df-container\">\n",
              "      <div>\n",
              "<style scoped>\n",
              "    .dataframe tbody tr th:only-of-type {\n",
              "        vertical-align: middle;\n",
              "    }\n",
              "\n",
              "    .dataframe tbody tr th {\n",
              "        vertical-align: top;\n",
              "    }\n",
              "\n",
              "    .dataframe thead th {\n",
              "        text-align: right;\n",
              "    }\n",
              "</style>\n",
              "<table border=\"1\" class=\"dataframe\">\n",
              "  <thead>\n",
              "    <tr style=\"text-align: right;\">\n",
              "      <th></th>\n",
              "      <th>index</th>\n",
              "      <th>학교종류</th>\n",
              "      <th>설립구분</th>\n",
              "      <th>상태</th>\n",
              "      <th>학교</th>\n",
              "      <th>수업료\\n(B)</th>\n",
              "      <th>등록금\\n(D=B)</th>\n",
              "      <th>인문사회</th>\n",
              "      <th>자연과학</th>\n",
              "      <th>공학</th>\n",
              "    </tr>\n",
              "    <tr>\n",
              "      <th>지역</th>\n",
              "      <th></th>\n",
              "      <th></th>\n",
              "      <th></th>\n",
              "      <th></th>\n",
              "      <th></th>\n",
              "      <th></th>\n",
              "      <th></th>\n",
              "      <th></th>\n",
              "      <th></th>\n",
              "      <th></th>\n",
              "    </tr>\n",
              "  </thead>\n",
              "  <tbody>\n",
              "    <tr>\n",
              "      <th>경기</th>\n",
              "      <td>18</td>\n",
              "      <td>18</td>\n",
              "      <td>18</td>\n",
              "      <td>18</td>\n",
              "      <td>18</td>\n",
              "      <td>18</td>\n",
              "      <td>18</td>\n",
              "      <td>18</td>\n",
              "      <td>18</td>\n",
              "      <td>18</td>\n",
              "    </tr>\n",
              "    <tr>\n",
              "      <th>경북</th>\n",
              "      <td>12</td>\n",
              "      <td>12</td>\n",
              "      <td>12</td>\n",
              "      <td>12</td>\n",
              "      <td>12</td>\n",
              "      <td>12</td>\n",
              "      <td>12</td>\n",
              "      <td>12</td>\n",
              "      <td>12</td>\n",
              "      <td>12</td>\n",
              "    </tr>\n",
              "    <tr>\n",
              "      <th>대전</th>\n",
              "      <td>6</td>\n",
              "      <td>6</td>\n",
              "      <td>6</td>\n",
              "      <td>6</td>\n",
              "      <td>6</td>\n",
              "      <td>6</td>\n",
              "      <td>6</td>\n",
              "      <td>6</td>\n",
              "      <td>6</td>\n",
              "      <td>6</td>\n",
              "    </tr>\n",
              "    <tr>\n",
              "      <th>부산</th>\n",
              "      <td>7</td>\n",
              "      <td>7</td>\n",
              "      <td>7</td>\n",
              "      <td>7</td>\n",
              "      <td>7</td>\n",
              "      <td>7</td>\n",
              "      <td>7</td>\n",
              "      <td>7</td>\n",
              "      <td>7</td>\n",
              "      <td>7</td>\n",
              "    </tr>\n",
              "    <tr>\n",
              "      <th>서울</th>\n",
              "      <td>23</td>\n",
              "      <td>23</td>\n",
              "      <td>23</td>\n",
              "      <td>23</td>\n",
              "      <td>23</td>\n",
              "      <td>23</td>\n",
              "      <td>23</td>\n",
              "      <td>23</td>\n",
              "      <td>23</td>\n",
              "      <td>23</td>\n",
              "    </tr>\n",
              "    <tr>\n",
              "      <th>충남</th>\n",
              "      <td>9</td>\n",
              "      <td>9</td>\n",
              "      <td>9</td>\n",
              "      <td>9</td>\n",
              "      <td>9</td>\n",
              "      <td>9</td>\n",
              "      <td>9</td>\n",
              "      <td>9</td>\n",
              "      <td>9</td>\n",
              "      <td>9</td>\n",
              "    </tr>\n",
              "    <tr>\n",
              "      <th>충북</th>\n",
              "      <td>7</td>\n",
              "      <td>7</td>\n",
              "      <td>7</td>\n",
              "      <td>7</td>\n",
              "      <td>7</td>\n",
              "      <td>7</td>\n",
              "      <td>7</td>\n",
              "      <td>7</td>\n",
              "      <td>7</td>\n",
              "      <td>7</td>\n",
              "    </tr>\n",
              "  </tbody>\n",
              "</table>\n",
              "</div>\n",
              "      <button class=\"colab-df-convert\" onclick=\"convertToInteractive('df-36d94a77-d115-4ea6-8e41-0f6da81fa7d5')\"\n",
              "              title=\"Convert this dataframe to an interactive table.\"\n",
              "              style=\"display:none;\">\n",
              "        \n",
              "  <svg xmlns=\"http://www.w3.org/2000/svg\" height=\"24px\"viewBox=\"0 0 24 24\"\n",
              "       width=\"24px\">\n",
              "    <path d=\"M0 0h24v24H0V0z\" fill=\"none\"/>\n",
              "    <path d=\"M18.56 5.44l.94 2.06.94-2.06 2.06-.94-2.06-.94-.94-2.06-.94 2.06-2.06.94zm-11 1L8.5 8.5l.94-2.06 2.06-.94-2.06-.94L8.5 2.5l-.94 2.06-2.06.94zm10 10l.94 2.06.94-2.06 2.06-.94-2.06-.94-.94-2.06-.94 2.06-2.06.94z\"/><path d=\"M17.41 7.96l-1.37-1.37c-.4-.4-.92-.59-1.43-.59-.52 0-1.04.2-1.43.59L10.3 9.45l-7.72 7.72c-.78.78-.78 2.05 0 2.83L4 21.41c.39.39.9.59 1.41.59.51 0 1.02-.2 1.41-.59l7.78-7.78 2.81-2.81c.8-.78.8-2.07 0-2.86zM5.41 20L4 18.59l7.72-7.72 1.47 1.35L5.41 20z\"/>\n",
              "  </svg>\n",
              "      </button>\n",
              "      \n",
              "  <style>\n",
              "    .colab-df-container {\n",
              "      display:flex;\n",
              "      flex-wrap:wrap;\n",
              "      gap: 12px;\n",
              "    }\n",
              "\n",
              "    .colab-df-convert {\n",
              "      background-color: #E8F0FE;\n",
              "      border: none;\n",
              "      border-radius: 50%;\n",
              "      cursor: pointer;\n",
              "      display: none;\n",
              "      fill: #1967D2;\n",
              "      height: 32px;\n",
              "      padding: 0 0 0 0;\n",
              "      width: 32px;\n",
              "    }\n",
              "\n",
              "    .colab-df-convert:hover {\n",
              "      background-color: #E2EBFA;\n",
              "      box-shadow: 0px 1px 2px rgba(60, 64, 67, 0.3), 0px 1px 3px 1px rgba(60, 64, 67, 0.15);\n",
              "      fill: #174EA6;\n",
              "    }\n",
              "\n",
              "    [theme=dark] .colab-df-convert {\n",
              "      background-color: #3B4455;\n",
              "      fill: #D2E3FC;\n",
              "    }\n",
              "\n",
              "    [theme=dark] .colab-df-convert:hover {\n",
              "      background-color: #434B5C;\n",
              "      box-shadow: 0px 1px 3px 1px rgba(0, 0, 0, 0.15);\n",
              "      filter: drop-shadow(0px 1px 2px rgba(0, 0, 0, 0.3));\n",
              "      fill: #FFFFFF;\n",
              "    }\n",
              "  </style>\n",
              "\n",
              "      <script>\n",
              "        const buttonEl =\n",
              "          document.querySelector('#df-36d94a77-d115-4ea6-8e41-0f6da81fa7d5 button.colab-df-convert');\n",
              "        buttonEl.style.display =\n",
              "          google.colab.kernel.accessAllowed ? 'block' : 'none';\n",
              "\n",
              "        async function convertToInteractive(key) {\n",
              "          const element = document.querySelector('#df-36d94a77-d115-4ea6-8e41-0f6da81fa7d5');\n",
              "          const dataTable =\n",
              "            await google.colab.kernel.invokeFunction('convertToInteractive',\n",
              "                                                     [key], {});\n",
              "          if (!dataTable) return;\n",
              "\n",
              "          const docLinkHtml = 'Like what you see? Visit the ' +\n",
              "            '<a target=\"_blank\" href=https://colab.research.google.com/notebooks/data_table.ipynb>data table notebook</a>'\n",
              "            + ' to learn more about interactive tables.';\n",
              "          element.innerHTML = '';\n",
              "          dataTable['output_type'] = 'display_data';\n",
              "          await google.colab.output.renderOutput(dataTable, element);\n",
              "          const docLink = document.createElement('div');\n",
              "          docLink.innerHTML = docLinkHtml;\n",
              "          element.appendChild(docLink);\n",
              "        }\n",
              "      </script>\n",
              "    </div>\n",
              "  </div>\n",
              "  "
            ]
          },
          "metadata": {},
          "execution_count": 15
        }
      ]
    },
    {
      "cell_type": "code",
      "source": [
        "sns.barplot(x=\"지역\",y=\"등록금\\n(D=B)\",data=df)\n",
        "plt.show()"
      ],
      "metadata": {
        "colab": {
          "base_uri": "https://localhost:8080/",
          "height": 473
        },
        "id": "_WH8ctZUDmAL",
        "outputId": "8435f796-e220-4d76-e8b0-1812d730c1a4"
      },
      "execution_count": null,
      "outputs": [
        {
          "output_type": "display_data",
          "data": {
            "text/plain": [
              "<Figure size 640x480 with 1 Axes>"
            ],
            "image/png": "[encoded data removed]"
          },
          "metadata": {}
        }
      ]
    },
    {
      "cell_type": "code",
      "source": [
        "sns.barplot(x=\"지역\",y=\"인문사회\",data=df)\n",
        "plt.title(\"지역별 인문사회 등록금\")\n",
        "plt.show()"
      ],
      "metadata": {
        "id": "sr_Wp1fmGfg7",
        "colab": {
          "base_uri": "https://localhost:8080/",
          "height": 480
        },
        "outputId": "72005d4f-799d-40cd-9aec-4ad94bd92a0e"
      },
      "execution_count": null,
      "outputs": [
        {
          "output_type": "display_data",
          "data": {
            "text/plain": [
              "<Figure size 640x480 with 1 Axes>"
            ],
            "image/png": "[encoded data removed]"
          },
          "metadata": {}
        }
      ]
    },
    {
      "cell_type": "code",
      "source": [
        "sns.barplot(x=\"지역\",y=\"자연과학\",data=df)\n",
        "plt.title(\"지역별 자연과학 등록금\")\n",
        "plt.show()"
      ],
      "metadata": {
        "colab": {
          "base_uri": "https://localhost:8080/",
          "height": 480
        },
        "id": "kvYFwMTeAW49",
        "outputId": "de9129ab-c218-4231-929d-6a170ad046fb"
      },
      "execution_count": null,
      "outputs": [
        {
          "output_type": "display_data",
          "data": {
            "text/plain": [
              "<Figure size 640x480 with 1 Axes>"
            ],
            "image/png": "[encoded data removed]"
          },
          "metadata": {}
        }
      ]
    },
    {
      "cell_type": "code",
      "source": [
        "sns.barplot(x=\"지역\",y=\"공학\",data=df)\n",
        "plt.title(\"지역별 공학 등록금\")\n",
        "plt.show()"
      ],
      "metadata": {
        "colab": {
          "base_uri": "https://localhost:8080/",
          "height": 480
        },
        "id": "Rv99P21PAW0J",
        "outputId": "a667842d-0d69-433b-b611-7097a1e35f91"
      },
      "execution_count": null,
      "outputs": [
        {
          "output_type": "display_data",
          "data": {
            "text/plain": [
              "<Figure size 640x480 with 1 Axes>"
            ],
            "image/png": "[encoded data removed]"
          },
          "metadata": {}
        }
      ]
    },
    {
      "cell_type": "code",
      "source": [
        "sns.barplot(x=\"지역\",y=\"등록금\\n(D=B)\",data=df)\n",
        "plt.show()\n",
        "sns.barplot(x=\"지역\",y=\"인문사회\",data=df)\n",
        "plt.title(\"지역별 인문사회 등록금\")\n",
        "plt.show()\n",
        "sns.barplot(x=\"지역\",y=\"자연과학\",data=df)\n",
        "plt.title(\"지역별 자연과학 등록금\")\n",
        "plt.show()\n",
        "sns.barplot(x=\"지역\",y=\"공학\",data=df)\n",
        "plt.title(\"지역별 공학 등록금\")\n",
        "plt.show()"
      ],
      "metadata": {
        "colab": {
          "base_uri": "https://localhost:8080/",
          "height": 1000
        },
        "id": "xTp73gkItvw7",
        "outputId": "0b514016-f70f-44cc-e68f-bbed5eb9c8ac"
      },
      "execution_count": null,
      "outputs": [
        {
          "output_type": "display_data",
          "data": {
            "text/plain": [
              "<Figure size 640x480 with 1 Axes>"
            ],
            "image/png": "[encoded data removed]"
          },
          "metadata": {}
        },
        {
          "output_type": "display_data",
          "data": {
            "text/plain": [
              "<Figure size 640x480 with 1 Axes>"
            ],
            "image/png": "[encoded data removed]"
          },
          "metadata": {}
        },
        {
          "output_type": "display_data",
          "data": {
            "text/plain": [
              "<Figure size 640x480 with 1 Axes>"
            ],
            "image/png": "[encoded data removed]"
          },
          "metadata": {}
        },
        {
          "output_type": "display_data",
          "data": {
            "text/plain": [
              "<Figure size 640x480 with 1 Axes>"
            ],
            "image/png": "[encoded data removed]"
          },
          "metadata": {}
        }
      ]
    },
    {
      "cell_type": "code",
      "source": [
        "g=df.groupby([\"지역\"])[\"등록금\\n(D=B)\"].mean().sort_values(ascending = False)\n",
        "g.plot.bar()"
      ],
      "metadata": {
        "colab": {
          "base_uri": "https://localhost:8080/",
          "height": 507
        },
        "id": "qbDFEN4xxmoa",
        "outputId": "e8d5b7f9-1578-4cea-8d75-7368686c4e4f"
      },
      "execution_count": null,
      "outputs": [
        {
          "output_type": "execute_result",
          "data": {
            "text/plain": [
              "<Axes: xlabel='지역'>"
            ]
          },
          "metadata": {},
          "execution_count": 33
        },
        {
          "output_type": "display_data",
          "data": {
            "text/plain": [
              "<Figure size 640x480 with 1 Axes>"
            ],
            "image/png": "[encoded data removed]"
          },
          "metadata": {}
        }
      ]
    },
    {
      "cell_type": "code",
      "source": [
        "g=df.groupby([\"지역\"])[\"인문사회\"].mean().sort_values(ascending = False)\n",
        "g.plot.bar()"
      ],
      "metadata": {
        "colab": {
          "base_uri": "https://localhost:8080/",
          "height": 507
        },
        "id": "TPehgX0eyo9H",
        "outputId": "063ca2fb-8029-4cd9-b05d-f039b5aebb1b"
      },
      "execution_count": null,
      "outputs": [
        {
          "output_type": "execute_result",
          "data": {
            "text/plain": [
              "<Axes: xlabel='지역'>"
            ]
          },
          "metadata": {},
          "execution_count": 34
        },
        {
          "output_type": "display_data",
          "data": {
            "text/plain": [
              "<Figure size 640x480 with 1 Axes>"
            ],
            "image/png": "[encoded data removed]"
          },
          "metadata": {}
        }
      ]
    },
    {
      "cell_type": "code",
      "source": [
        "g=df.groupby([\"지역\"])[\"자연과학\"].mean().sort_values(ascending = False)\n",
        "g.plot.bar()"
      ],
      "metadata": {
        "colab": {
          "base_uri": "https://localhost:8080/",
          "height": 507
        },
        "id": "fWlwSDpTyo5D",
        "outputId": "cc4be195-4201-46ff-92fe-43317bad68ab"
      },
      "execution_count": null,
      "outputs": [
        {
          "output_type": "execute_result",
          "data": {
            "text/plain": [
              "<Axes: xlabel='지역'>"
            ]
          },
          "metadata": {},
          "execution_count": 35
        },
        {
          "output_type": "display_data",
          "data": {
            "text/plain": [
              "<Figure size 640x480 with 1 Axes>"
            ],
            "image/png": "[encoded data removed]"
          },
          "metadata": {}
        }
      ]
    },
    {
      "cell_type": "code",
      "source": [
        "g=df.groupby([\"지역\"])[\"공학\"].mean().sort_values(ascending = False)\n",
        "g.plot.bar()"
      ],
      "metadata": {
        "colab": {
          "base_uri": "https://localhost:8080/",
          "height": 507
        },
        "id": "pwOvx2wmyozJ",
        "outputId": "d926778c-a602-4acd-a49a-f136ed885779"
      },
      "execution_count": null,
      "outputs": [
        {
          "output_type": "execute_result",
          "data": {
            "text/plain": [
              "<Axes: xlabel='지역'>"
            ]
          },
          "metadata": {},
          "execution_count": 36
        },
        {
          "output_type": "display_data",
          "data": {
            "text/plain": [
              "<Figure size 640x480 with 1 Axes>"
            ],
            "image/png": "[encoded data removed]"
          },
          "metadata": {}
        }
      ]
    },
    {
      "cell_type": "code",
      "source": [
        "sns.boxplot(y=\"등록금\\n(D=B)\",x=\"지역\",data=df)\n",
        "plt.show()\n",
        "sns.boxplot(y=\"인문사회\",x=\"지역\",data=df)\n",
        "plt.show()\n",
        "sns.boxplot(y=\"자연과학\",x=\"지역\",data=df)\n",
        "plt.show()\n",
        "sns.boxplot(y=\"공학\",x=\"지역\",data=df)\n",
        "plt.show()"
      ],
      "metadata": {
        "colab": {
          "base_uri": "https://localhost:8080/",
          "height": 1000
        },
        "id": "w6s_WiTWzQvr",
        "outputId": "976afcea-09e4-45c4-9fa5-8400575b6091"
      },
      "execution_count": null,
      "outputs": [
        {
          "output_type": "display_data",
          "data": {
            "text/plain": [
              "<Figure size 640x480 with 1 Axes>"
            ],
            "image/png": "[encoded data removed]"
          },
          "metadata": {}
        },
        {
          "output_type": "display_data",
          "data": {
            "text/plain": [
              "<Figure size 640x480 with 1 Axes>"
            ],
            "image/png": "[encoded data removed]"
          },
          "metadata": {}
        },
        {
          "output_type": "display_data",
          "data": {
            "text/plain": [
              "<Figure size 640x480 with 1 Axes>"
            ],
            "image/png": "[encoded data removed]"
          },
          "metadata": {}
        },
        {
          "output_type": "display_data",
          "data": {
            "text/plain": [
              "<Figure size 640x480 with 1 Axes>"
            ],
            "image/png": "[encoded data removed]"
          },
          "metadata": {}
        }
      ]
    },
    {
      "cell_type": "code",
      "source": [
        "sns.violinplot(y=\"공학\",x=\"지역\",data=df)\n",
        "plt.show()\n",
        "sns.violinplot(y=\"인문사회\",x=\"지역\",data=df)\n",
        "plt.show()\n",
        "sns.violinplot(y=\"자연과학\",x=\"지역\",data=df)\n",
        "plt.show()\n",
        "sns.violinplot(y=\"공학\",x=\"지역\",data=df)\n",
        "plt.show()"
      ],
      "metadata": {
        "colab": {
          "base_uri": "https://localhost:8080/",
          "height": 1000
        },
        "id": "kEYJjAPz0m-u",
        "outputId": "8adea3ef-90fb-4828-88eb-3505103b950a"
      },
      "execution_count": null,
      "outputs": [
        {
          "output_type": "display_data",
          "data": {
            "text/plain": [
              "<Figure size 640x480 with 1 Axes>"
            ],
            "image/png": "[encoded data removed]"
          },
          "metadata": {}
        },
        {
          "output_type": "display_data",
          "data": {
            "text/plain": [
              "<Figure size 640x480 with 1 Axes>"
            ],
            "image/png": "[encoded data removed]"
          },
          "metadata": {}
        },
        {
          "output_type": "display_data",
          "data": {
            "text/plain": [
              "<Figure size 640x480 with 1 Axes>"
            ],
            "image/png": "[encoded data removed]"
          },
          "metadata": {}
        },
        {
          "output_type": "display_data",
          "data": {
            "text/plain": [
              "<Figure size 640x480 with 1 Axes>"
            ],
            "image/png": "[encoded data removed]"
          },
          "metadata": {}
        }
      ]
    },
    {
      "cell_type": "markdown",
      "source": [],
      "metadata": {
        "id": "gkj5XXwhvog4"
      }
    },
    {
      "cell_type": "markdown",
      "source": [],
      "metadata": {
        "id": "oHbwQgayvoW7"
      }
    },
    {
      "cell_type": "markdown",
      "source": [
        "#2.장학금"
      ],
      "metadata": {
        "id": "X01-kb9aJk_2"
      }
    },
    {
      "cell_type": "markdown",
      "source": [
        "excel을 csv로 바꾸는"
      ],
      "metadata": {
        "id": "db7fOySJ0-rA"
      }
    },
    {
      "cell_type": "code",
      "source": [
        "#excel_data= \"/content/drive/MyDrive/데수프팀플/장학금 수혜 현황.xlsx\"\n",
        "#csv_data = \"/content/drive/MyDrive/데수프팀플/장학금 수혜 현황.csv\"\n",
        "#df = pd.read_excel(excel_data)\n",
        "#df.to_csv(csv_data, index=False)"
      ],
      "metadata": {
        "id": "XmdE89TkAWuh"
      },
      "execution_count": null,
      "outputs": []
    },
    {
      "cell_type": "code",
      "source": [
        "data2=pd.read_csv(\"/content/drive/MyDrive/데수프팀플/장학금 수혜 현황.csv\",na_values=0.0,encoding='utf-8',skiprows=[0,1,2,4])\n",
        "#data"
      ],
      "metadata": {
        "id": "mvyKmyPUKRuj"
      },
      "execution_count": null,
      "outputs": []
    },
    {
      "cell_type": "markdown",
      "source": [
        "#csv의 형태가 독특하기때문에 리네임"
      ],
      "metadata": {
        "id": "XLpy1fJY1Cp-"
      }
    },
    {
      "cell_type": "code",
      "source": [
        "data2= data2.rename(columns={'Unnamed: 12':'성적우수장학금'})\n",
        "data2"
      ],
      "metadata": {
        "id": "dXomK8tkNt7X",
        "outputId": "2ec55101-3c6a-4d37-9232-8ee3dfac0d83",
        "colab": {
          "base_uri": "https://localhost:8080/",
          "height": 991
        }
      },
      "execution_count": null,
      "outputs": [
        {
          "output_type": "execute_result",
          "data": {
            "text/plain": [
              "       기준연도       학교종류 설립구분   지역   상태           학교명  재학생\\n(A)        장학금현황  \\\n",
              "0       NaN        NaN  NaN  NaN  NaN           NaN       NaN           소계   \n",
              "1       NaN        NaN  NaN  NaN  NaN           NaN       NaN          NaN   \n",
              "2    2021.0        대학교   사립   경남   기존    가야대학교(김해)     1962.0   4995635065   \n",
              "3    2021.0        대학교   사립   경기   기존        가천대학교    18777.0  35109669872   \n",
              "4    2021.0        대학교   사립   강원   기존     가톨릭관동대학교     7135.0  16159991032   \n",
              "..      ...        ...  ...  ...  ...           ...       ...          ...   \n",
              "240  2021.0       산업대학   사립   전북   기존        호원대학교     4983.0  14773426820   \n",
              "241  2021.0        대학교   사립   서울   기존        홍익대학교    11899.0  19427031590   \n",
              "242  2021.0        대학교   사립   세종   기존  홍익대학교 _제2캠퍼스    5517.0  10889074157   \n",
              "243  2021.0        대학교   사립   경기   기존     화성의과학대학교      450.0    184351650   \n",
              "244  2021.0  사이버대학(대학)   사립   부산   기존     화신사이버대학교     1485.0   3335479744   \n",
              "\n",
              "      Unnamed: 8 Unnamed: 9  ...  Unnamed: 11      성적우수장학금 Unnamed: 13  \\\n",
              "0             국가     지방자치단체  ...           소계    성적우수\\n장학금    저소득층 장학금   \n",
              "1            NaN        NaN  ...          NaN          NaN         NaN   \n",
              "2     4957301385    7315680  ...   2285214810    674255020   915679450   \n",
              "3    34484846547  101976165  ...  28256078762   6294783100  8068027560   \n",
              "4    15525791002  478532550  ...   6660115923   2922916230   906426550   \n",
              "..           ...        ...  ...          ...          ...         ...   \n",
              "240  14643067510   77136810  ...   7202190410   1387375600    91608200   \n",
              "241  18744932720   36001820  ...  25942431295  11178671200  5166935080   \n",
              "242  10766939297   23138360  ...  12478234384   5008837400  3123994600   \n",
              "243    155151650   22000000  ...    275102700    129448500    78461300   \n",
              "244   3335479744        NaN  ...    542509254          NaN   128005000   \n",
              "\n",
              "    Unnamed: 14 Unnamed: 15 Unnamed: 16  Unnamed: 17   Unnamed: 18  \\\n",
              "0        근로 장학금      재난 장학금     교직원 장학금           기타           NaN   \n",
              "1           NaN         NaN         NaN          NaN           NaN   \n",
              "2     129785340         NaN    35822000    529673000  7.280850e+09   \n",
              "3    1480963771    10139300   176458600  12225706431  6.336575e+10   \n",
              "4     210252628   115200000   156439000   2348881515  2.282011e+10   \n",
              "..          ...         ...         ...          ...           ...   \n",
              "240   197757260     2347250   104038000   5419064100  2.197562e+10   \n",
              "241  3399562670  2681347200    65244000   3450671145  4.536946e+10   \n",
              "242   923131984  1159682800    56260000   2206327600  2.336731e+10   \n",
              "243      914400         NaN         NaN     66278500  4.594544e+08   \n",
              "244     5445836         NaN    66108000    342950418  3.877989e+09   \n",
              "\n",
              "      교내외국인유학생장학금  재학생1인당장학금  \n",
              "0             NaN        NaN  \n",
              "1             NaN        NaN  \n",
              "2    1.845978e+07  3710932.7  \n",
              "3    4.409106e+09  3374647.1  \n",
              "4    1.931274e+08  3198333.1  \n",
              "..            ...        ...  \n",
              "240  2.948520e+08  4410117.8  \n",
              "241  1.157779e+09  3812880.3  \n",
              "242  3.185845e+08  4235510.0  \n",
              "243           NaN  1021009.7  \n",
              "244           NaN  2611440.4  \n",
              "\n",
              "[245 rows x 21 columns]"
            ],
            "text/html": [
              "\n",
              "  <div id=\"df-c35dfecc-d1b5-4fd0-a6e6-5b46aa66133a\">\n",
              "    <div class=\"colab-df-container\">\n",
              "      <div>\n",
              "<style scoped>\n",
              "    .dataframe tbody tr th:only-of-type {\n",
              "        vertical-align: middle;\n",
              "    }\n",
              "\n",
              "    .dataframe tbody tr th {\n",
              "        vertical-align: top;\n",
              "    }\n",
              "\n",
              "    .dataframe thead th {\n",
              "        text-align: right;\n",
              "    }\n",
              "</style>\n",
              "<table border=\"1\" class=\"dataframe\">\n",
              "  <thead>\n",
              "    <tr style=\"text-align: right;\">\n",
              "      <th></th>\n",
              "      <th>기준연도</th>\n",
              "      <th>학교종류</th>\n",
              "      <th>설립구분</th>\n",
              "      <th>지역</th>\n",
              "      <th>상태</th>\n",
              "      <th>학교명</th>\n",
              "      <th>재학생\\n(A)</th>\n",
              "      <th>장학금현황</th>\n",
              "      <th>Unnamed: 8</th>\n",
              "      <th>Unnamed: 9</th>\n",
              "      <th>...</th>\n",
              "      <th>Unnamed: 11</th>\n",
              "      <th>성적우수장학금</th>\n",
              "      <th>Unnamed: 13</th>\n",
              "      <th>Unnamed: 14</th>\n",
              "      <th>Unnamed: 15</th>\n",
              "      <th>Unnamed: 16</th>\n",
              "      <th>Unnamed: 17</th>\n",
              "      <th>Unnamed: 18</th>\n",
              "      <th>교내외국인유학생장학금</th>\n",
              "      <th>재학생1인당장학금</th>\n",
              "    </tr>\n",
              "  </thead>\n",
              "  <tbody>\n",
              "    <tr>\n",
              "      <th>0</th>\n",
              "      <td>NaN</td>\n",
              "      <td>NaN</td>\n",
              "      <td>NaN</td>\n",
              "      <td>NaN</td>\n",
              "      <td>NaN</td>\n",
              "      <td>NaN</td>\n",
              "      <td>NaN</td>\n",
              "      <td>소계</td>\n",
              "      <td>국가</td>\n",
              "      <td>지방자치단체</td>\n",
              "      <td>...</td>\n",
              "      <td>소계</td>\n",
              "      <td>성적우수\\n장학금</td>\n",
              "      <td>저소득층 장학금</td>\n",
              "      <td>근로 장학금</td>\n",
              "      <td>재난 장학금</td>\n",
              "      <td>교직원 장학금</td>\n",
              "      <td>기타</td>\n",
              "      <td>NaN</td>\n",
              "      <td>NaN</td>\n",
              "      <td>NaN</td>\n",
              "    </tr>\n",
              "    <tr>\n",
              "      <th>1</th>\n",
              "      <td>NaN</td>\n",
              "      <td>NaN</td>\n",
              "      <td>NaN</td>\n",
              "      <td>NaN</td>\n",
              "      <td>NaN</td>\n",
              "      <td>NaN</td>\n",
              "      <td>NaN</td>\n",
              "      <td>NaN</td>\n",
              "      <td>NaN</td>\n",
              "      <td>NaN</td>\n",
              "      <td>...</td>\n",
              "      <td>NaN</td>\n",
              "      <td>NaN</td>\n",
              "      <td>NaN</td>\n",
              "      <td>NaN</td>\n",
              "      <td>NaN</td>\n",
              "      <td>NaN</td>\n",
              "      <td>NaN</td>\n",
              "      <td>NaN</td>\n",
              "      <td>NaN</td>\n",
              "      <td>NaN</td>\n",
              "    </tr>\n",
              "    <tr>\n",
              "      <th>2</th>\n",
              "      <td>2021.0</td>\n",
              "      <td>대학교</td>\n",
              "      <td>사립</td>\n",
              "      <td>경남</td>\n",
              "      <td>기존</td>\n",
              "      <td>가야대학교(김해)</td>\n",
              "      <td>1962.0</td>\n",
              "      <td>4995635065</td>\n",
              "      <td>4957301385</td>\n",
              "      <td>7315680</td>\n",
              "      <td>...</td>\n",
              "      <td>2285214810</td>\n",
              "      <td>674255020</td>\n",
              "      <td>915679450</td>\n",
              "      <td>129785340</td>\n",
              "      <td>NaN</td>\n",
              "      <td>35822000</td>\n",
              "      <td>529673000</td>\n",
              "      <td>7.280850e+09</td>\n",
              "      <td>1.845978e+07</td>\n",
              "      <td>3710932.7</td>\n",
              "    </tr>\n",
              "    <tr>\n",
              "      <th>3</th>\n",
              "      <td>2021.0</td>\n",
              "      <td>대학교</td>\n",
              "      <td>사립</td>\n",
              "      <td>경기</td>\n",
              "      <td>기존</td>\n",
              "      <td>가천대학교</td>\n",
              "      <td>18777.0</td>\n",
              "      <td>35109669872</td>\n",
              "      <td>34484846547</td>\n",
              "      <td>101976165</td>\n",
              "      <td>...</td>\n",
              "      <td>28256078762</td>\n",
              "      <td>6294783100</td>\n",
              "      <td>8068027560</td>\n",
              "      <td>1480963771</td>\n",
              "      <td>10139300</td>\n",
              "      <td>176458600</td>\n",
              "      <td>12225706431</td>\n",
              "      <td>6.336575e+10</td>\n",
              "      <td>4.409106e+09</td>\n",
              "      <td>3374647.1</td>\n",
              "    </tr>\n",
              "    <tr>\n",
              "      <th>4</th>\n",
              "      <td>2021.0</td>\n",
              "      <td>대학교</td>\n",
              "      <td>사립</td>\n",
              "      <td>강원</td>\n",
              "      <td>기존</td>\n",
              "      <td>가톨릭관동대학교</td>\n",
              "      <td>7135.0</td>\n",
              "      <td>16159991032</td>\n",
              "      <td>15525791002</td>\n",
              "      <td>478532550</td>\n",
              "      <td>...</td>\n",
              "      <td>6660115923</td>\n",
              "      <td>2922916230</td>\n",
              "      <td>906426550</td>\n",
              "      <td>210252628</td>\n",
              "      <td>115200000</td>\n",
              "      <td>156439000</td>\n",
              "      <td>2348881515</td>\n",
              "      <td>2.282011e+10</td>\n",
              "      <td>1.931274e+08</td>\n",
              "      <td>3198333.1</td>\n",
              "    </tr>\n",
              "    <tr>\n",
              "      <th>...</th>\n",
              "      <td>...</td>\n",
              "      <td>...</td>\n",
              "      <td>...</td>\n",
              "      <td>...</td>\n",
              "      <td>...</td>\n",
              "      <td>...</td>\n",
              "      <td>...</td>\n",
              "      <td>...</td>\n",
              "      <td>...</td>\n",
              "      <td>...</td>\n",
              "      <td>...</td>\n",
              "      <td>...</td>\n",
              "      <td>...</td>\n",
              "      <td>...</td>\n",
              "      <td>...</td>\n",
              "      <td>...</td>\n",
              "      <td>...</td>\n",
              "      <td>...</td>\n",
              "      <td>...</td>\n",
              "      <td>...</td>\n",
              "      <td>...</td>\n",
              "    </tr>\n",
              "    <tr>\n",
              "      <th>240</th>\n",
              "      <td>2021.0</td>\n",
              "      <td>산업대학</td>\n",
              "      <td>사립</td>\n",
              "      <td>전북</td>\n",
              "      <td>기존</td>\n",
              "      <td>호원대학교</td>\n",
              "      <td>4983.0</td>\n",
              "      <td>14773426820</td>\n",
              "      <td>14643067510</td>\n",
              "      <td>77136810</td>\n",
              "      <td>...</td>\n",
              "      <td>7202190410</td>\n",
              "      <td>1387375600</td>\n",
              "      <td>91608200</td>\n",
              "      <td>197757260</td>\n",
              "      <td>2347250</td>\n",
              "      <td>104038000</td>\n",
              "      <td>5419064100</td>\n",
              "      <td>2.197562e+10</td>\n",
              "      <td>2.948520e+08</td>\n",
              "      <td>4410117.8</td>\n",
              "    </tr>\n",
              "    <tr>\n",
              "      <th>241</th>\n",
              "      <td>2021.0</td>\n",
              "      <td>대학교</td>\n",
              "      <td>사립</td>\n",
              "      <td>서울</td>\n",
              "      <td>기존</td>\n",
              "      <td>홍익대학교</td>\n",
              "      <td>11899.0</td>\n",
              "      <td>19427031590</td>\n",
              "      <td>18744932720</td>\n",
              "      <td>36001820</td>\n",
              "      <td>...</td>\n",
              "      <td>25942431295</td>\n",
              "      <td>11178671200</td>\n",
              "      <td>5166935080</td>\n",
              "      <td>3399562670</td>\n",
              "      <td>2681347200</td>\n",
              "      <td>65244000</td>\n",
              "      <td>3450671145</td>\n",
              "      <td>4.536946e+10</td>\n",
              "      <td>1.157779e+09</td>\n",
              "      <td>3812880.3</td>\n",
              "    </tr>\n",
              "    <tr>\n",
              "      <th>242</th>\n",
              "      <td>2021.0</td>\n",
              "      <td>대학교</td>\n",
              "      <td>사립</td>\n",
              "      <td>세종</td>\n",
              "      <td>기존</td>\n",
              "      <td>홍익대학교 _제2캠퍼스</td>\n",
              "      <td>5517.0</td>\n",
              "      <td>10889074157</td>\n",
              "      <td>10766939297</td>\n",
              "      <td>23138360</td>\n",
              "      <td>...</td>\n",
              "      <td>12478234384</td>\n",
              "      <td>5008837400</td>\n",
              "      <td>3123994600</td>\n",
              "      <td>923131984</td>\n",
              "      <td>1159682800</td>\n",
              "      <td>56260000</td>\n",
              "      <td>2206327600</td>\n",
              "      <td>2.336731e+10</td>\n",
              "      <td>3.185845e+08</td>\n",
              "      <td>4235510.0</td>\n",
              "    </tr>\n",
              "    <tr>\n",
              "      <th>243</th>\n",
              "      <td>2021.0</td>\n",
              "      <td>대학교</td>\n",
              "      <td>사립</td>\n",
              "      <td>경기</td>\n",
              "      <td>기존</td>\n",
              "      <td>화성의과학대학교</td>\n",
              "      <td>450.0</td>\n",
              "      <td>184351650</td>\n",
              "      <td>155151650</td>\n",
              "      <td>22000000</td>\n",
              "      <td>...</td>\n",
              "      <td>275102700</td>\n",
              "      <td>129448500</td>\n",
              "      <td>78461300</td>\n",
              "      <td>914400</td>\n",
              "      <td>NaN</td>\n",
              "      <td>NaN</td>\n",
              "      <td>66278500</td>\n",
              "      <td>4.594544e+08</td>\n",
              "      <td>NaN</td>\n",
              "      <td>1021009.7</td>\n",
              "    </tr>\n",
              "    <tr>\n",
              "      <th>244</th>\n",
              "      <td>2021.0</td>\n",
              "      <td>사이버대학(대학)</td>\n",
              "      <td>사립</td>\n",
              "      <td>부산</td>\n",
              "      <td>기존</td>\n",
              "      <td>화신사이버대학교</td>\n",
              "      <td>1485.0</td>\n",
              "      <td>3335479744</td>\n",
              "      <td>3335479744</td>\n",
              "      <td>NaN</td>\n",
              "      <td>...</td>\n",
              "      <td>542509254</td>\n",
              "      <td>NaN</td>\n",
              "      <td>128005000</td>\n",
              "      <td>5445836</td>\n",
              "      <td>NaN</td>\n",
              "      <td>66108000</td>\n",
              "      <td>342950418</td>\n",
              "      <td>3.877989e+09</td>\n",
              "      <td>NaN</td>\n",
              "      <td>2611440.4</td>\n",
              "    </tr>\n",
              "  </tbody>\n",
              "</table>\n",
              "<p>245 rows × 21 columns</p>\n",
              "</div>\n",
              "      <button class=\"colab-df-convert\" onclick=\"convertToInteractive('df-c35dfecc-d1b5-4fd0-a6e6-5b46aa66133a')\"\n",
              "              title=\"Convert this dataframe to an interactive table.\"\n",
              "              style=\"display:none;\">\n",
              "        \n",
              "  <svg xmlns=\"http://www.w3.org/2000/svg\" height=\"24px\"viewBox=\"0 0 24 24\"\n",
              "       width=\"24px\">\n",
              "    <path d=\"M0 0h24v24H0V0z\" fill=\"none\"/>\n",
              "    <path d=\"M18.56 5.44l.94 2.06.94-2.06 2.06-.94-2.06-.94-.94-2.06-.94 2.06-2.06.94zm-11 1L8.5 8.5l.94-2.06 2.06-.94-2.06-.94L8.5 2.5l-.94 2.06-2.06.94zm10 10l.94 2.06.94-2.06 2.06-.94-2.06-.94-.94-2.06-.94 2.06-2.06.94z\"/><path d=\"M17.41 7.96l-1.37-1.37c-.4-.4-.92-.59-1.43-.59-.52 0-1.04.2-1.43.59L10.3 9.45l-7.72 7.72c-.78.78-.78 2.05 0 2.83L4 21.41c.39.39.9.59 1.41.59.51 0 1.02-.2 1.41-.59l7.78-7.78 2.81-2.81c.8-.78.8-2.07 0-2.86zM5.41 20L4 18.59l7.72-7.72 1.47 1.35L5.41 20z\"/>\n",
              "  </svg>\n",
              "      </button>\n",
              "      \n",
              "  <style>\n",
              "    .colab-df-container {\n",
              "      display:flex;\n",
              "      flex-wrap:wrap;\n",
              "      gap: 12px;\n",
              "    }\n",
              "\n",
              "    .colab-df-convert {\n",
              "      background-color: #E8F0FE;\n",
              "      border: none;\n",
              "      border-radius: 50%;\n",
              "      cursor: pointer;\n",
              "      display: none;\n",
              "      fill: #1967D2;\n",
              "      height: 32px;\n",
              "      padding: 0 0 0 0;\n",
              "      width: 32px;\n",
              "    }\n",
              "\n",
              "    .colab-df-convert:hover {\n",
              "      background-color: #E2EBFA;\n",
              "      box-shadow: 0px 1px 2px rgba(60, 64, 67, 0.3), 0px 1px 3px 1px rgba(60, 64, 67, 0.15);\n",
              "      fill: #174EA6;\n",
              "    }\n",
              "\n",
              "    [theme=dark] .colab-df-convert {\n",
              "      background-color: #3B4455;\n",
              "      fill: #D2E3FC;\n",
              "    }\n",
              "\n",
              "    [theme=dark] .colab-df-convert:hover {\n",
              "      background-color: #434B5C;\n",
              "      box-shadow: 0px 1px 3px 1px rgba(0, 0, 0, 0.15);\n",
              "      filter: drop-shadow(0px 1px 2px rgba(0, 0, 0, 0.3));\n",
              "      fill: #FFFFFF;\n",
              "    }\n",
              "  </style>\n",
              "\n",
              "      <script>\n",
              "        const buttonEl =\n",
              "          document.querySelector('#df-c35dfecc-d1b5-4fd0-a6e6-5b46aa66133a button.colab-df-convert');\n",
              "        buttonEl.style.display =\n",
              "          google.colab.kernel.accessAllowed ? 'block' : 'none';\n",
              "\n",
              "        async function convertToInteractive(key) {\n",
              "          const element = document.querySelector('#df-c35dfecc-d1b5-4fd0-a6e6-5b46aa66133a');\n",
              "          const dataTable =\n",
              "            await google.colab.kernel.invokeFunction('convertToInteractive',\n",
              "                                                     [key], {});\n",
              "          if (!dataTable) return;\n",
              "\n",
              "          const docLinkHtml = 'Like what you see? Visit the ' +\n",
              "            '<a target=\"_blank\" href=https://colab.research.google.com/notebooks/data_table.ipynb>data table notebook</a>'\n",
              "            + ' to learn more about interactive tables.';\n",
              "          element.innerHTML = '';\n",
              "          dataTable['output_type'] = 'display_data';\n",
              "          await google.colab.output.renderOutput(dataTable, element);\n",
              "          const docLink = document.createElement('div');\n",
              "          docLink.innerHTML = docLinkHtml;\n",
              "          element.appendChild(docLink);\n",
              "        }\n",
              "      </script>\n",
              "    </div>\n",
              "  </div>\n",
              "  "
            ]
          },
          "metadata": {},
          "execution_count": 74
        }
      ]
    },
    {
      "cell_type": "code",
      "source": [
        "data2.info()"
      ],
      "metadata": {
        "id": "LRo0NXrzO-dK",
        "outputId": "f6a2f20f-8ce3-4869-833d-1fc8bee403ff",
        "colab": {
          "base_uri": "https://localhost:8080/"
        }
      },
      "execution_count": null,
      "outputs": [
        {
          "output_type": "stream",
          "name": "stdout",
          "text": [
            "<class 'pandas.core.frame.DataFrame'>\n",
            "RangeIndex: 245 entries, 0 to 244\n",
            "Data columns (total 21 columns):\n",
            " #   Column       Non-Null Count  Dtype  \n",
            "---  ------       --------------  -----  \n",
            " 0   기준연도         243 non-null    float64\n",
            " 1   학교종류         243 non-null    object \n",
            " 2   설립구분         243 non-null    object \n",
            " 3   지역           243 non-null    object \n",
            " 4   상태           243 non-null    object \n",
            " 5   학교명          243 non-null    object \n",
            " 6   재학생\n",
            "(A)      243 non-null    float64\n",
            " 7   장학금현황        243 non-null    object \n",
            " 8   Unnamed: 8   242 non-null    object \n",
            " 9   Unnamed: 9   211 non-null    object \n",
            " 10  Unnamed: 10  234 non-null    object \n",
            " 11  Unnamed: 11  244 non-null    object \n",
            " 12  성적우수장학금      239 non-null    object \n",
            " 13  Unnamed: 13  238 non-null    object \n",
            " 14  Unnamed: 14  232 non-null    object \n",
            " 15  Unnamed: 15  98 non-null     object \n",
            " 16  Unnamed: 16  161 non-null    object \n",
            " 17  Unnamed: 17  243 non-null    object \n",
            " 18  Unnamed: 18  243 non-null    float64\n",
            " 19  교내외국인유학생장학금  188 non-null    float64\n",
            " 20  재학생1인당장학금    243 non-null    float64\n",
            "dtypes: float64(5), object(16)\n",
            "memory usage: 40.3+ KB\n"
          ]
        }
      ]
    },
    {
      "cell_type": "markdown",
      "source": [
        "1) 무의미한 컬럼 제거\n",
        "'기준연도','상태','Unnamed: 8','Unnamed: 9','Unnamed: 10','Unnamed: 11','Unnamed: 13','Unnamed: 14','Unnamed: 15','Unnamed: 16','Unnamed: 17','Unnamed: 18','교내외국인유학생장학금'"
      ],
      "metadata": {
        "id": "gWUOYSaX1gTg"
      }
    },
    {
      "cell_type": "code",
      "source": [
        "#무의미한 컬럼 제거\n",
        "data2.drop(['기준연도','상태','Unnamed: 8','Unnamed: 9','Unnamed: 10','Unnamed: 11','Unnamed: 13','Unnamed: 14','Unnamed: 15','Unnamed: 16','Unnamed: 17','Unnamed: 18','교내외국인유학생장학금'],axis=1,inplace=True)"
      ],
      "metadata": {
        "id": "4KNOd4ORKfMO"
      },
      "execution_count": null,
      "outputs": []
    },
    {
      "cell_type": "code",
      "source": [
        "data2.info()"
      ],
      "metadata": {
        "id": "hJE3QUZlPoyH",
        "outputId": "cee9d0f3-cc42-4470-bade-3db03023f0ad",
        "colab": {
          "base_uri": "https://localhost:8080/"
        }
      },
      "execution_count": null,
      "outputs": [
        {
          "output_type": "stream",
          "name": "stdout",
          "text": [
            "<class 'pandas.core.frame.DataFrame'>\n",
            "RangeIndex: 245 entries, 0 to 244\n",
            "Data columns (total 8 columns):\n",
            " #   Column     Non-Null Count  Dtype  \n",
            "---  ------     --------------  -----  \n",
            " 0   학교종류       243 non-null    object \n",
            " 1   설립구분       243 non-null    object \n",
            " 2   지역         243 non-null    object \n",
            " 3   학교명        243 non-null    object \n",
            " 4   재학생\n",
            "(A)    243 non-null    float64\n",
            " 5   장학금현황      243 non-null    object \n",
            " 6   성적우수장학금    239 non-null    object \n",
            " 7   재학생1인당장학금  243 non-null    float64\n",
            "dtypes: float64(2), object(6)\n",
            "memory usage: 15.4+ KB\n"
          ]
        }
      ]
    },
    {
      "cell_type": "markdown",
      "source": [
        "2) 전문대, 대학원등은 제외하고 4년제 대학교만 뽑음"
      ],
      "metadata": {
        "id": "aXgPMPFV1qaw"
      }
    },
    {
      "cell_type": "code",
      "source": [
        "#대학교 중 4년제 대학교만 뽑음\n",
        "data2 = data2[data2['학교종류'] == '대학교']\n",
        "data2 = data2.reset_index()\n",
        "#data"
      ],
      "metadata": {
        "id": "9-mFoAfvKfUw"
      },
      "execution_count": null,
      "outputs": []
    },
    {
      "cell_type": "code",
      "source": [
        "data2.info()"
      ],
      "metadata": {
        "id": "_AtXfoAtKfQK",
        "outputId": "a6cedbbc-c770-4631-851b-b5f02f664b3f",
        "colab": {
          "base_uri": "https://localhost:8080/"
        }
      },
      "execution_count": null,
      "outputs": [
        {
          "output_type": "stream",
          "name": "stdout",
          "text": [
            "<class 'pandas.core.frame.DataFrame'>\n",
            "RangeIndex: 210 entries, 0 to 209\n",
            "Data columns (total 9 columns):\n",
            " #   Column     Non-Null Count  Dtype  \n",
            "---  ------     --------------  -----  \n",
            " 0   index      210 non-null    int64  \n",
            " 1   학교종류       210 non-null    object \n",
            " 2   설립구분       210 non-null    object \n",
            " 3   지역         210 non-null    object \n",
            " 4   학교명        210 non-null    object \n",
            " 5   재학생\n",
            "(A)    210 non-null    float64\n",
            " 6   장학금현황      209 non-null    object \n",
            " 7   성적우수장학금    206 non-null    object \n",
            " 8   재학생1인당장학금  210 non-null    float64\n",
            "dtypes: float64(2), int64(1), object(6)\n",
            "memory usage: 14.9+ KB\n"
          ]
        }
      ]
    },
    {
      "cell_type": "code",
      "source": [
        "data2.columns"
      ],
      "metadata": {
        "id": "dEmYQIzAKfJQ",
        "outputId": "048277a2-fb13-4284-ce42-871f15e70284",
        "colab": {
          "base_uri": "https://localhost:8080/"
        }
      },
      "execution_count": null,
      "outputs": [
        {
          "output_type": "execute_result",
          "data": {
            "text/plain": [
              "Index(['index', '학교종류', '설립구분', '지역', '학교명', '재학생\\n(A)', '장학금현황', '성적우수장학금',\n",
              "       '재학생1인당장학금'],\n",
              "      dtype='object')"
            ]
          },
          "metadata": {},
          "execution_count": 102
        }
      ]
    },
    {
      "cell_type": "markdown",
      "source": [],
      "metadata": {
        "id": "FSXdE5QkIVib"
      }
    },
    {
      "cell_type": "markdown",
      "source": [
        "3) 결측치가 있는 행 제거"
      ],
      "metadata": {
        "id": "SxR8_S8l2Kpm"
      }
    },
    {
      "cell_type": "code",
      "source": [
        "data2.isnull().sum()"
      ],
      "metadata": {
        "colab": {
          "base_uri": "https://localhost:8080/"
        },
        "id": "mBtbsTMv1ync",
        "outputId": "eebce884-d605-47b2-d788-d093e6b0234c"
      },
      "execution_count": null,
      "outputs": [
        {
          "output_type": "execute_result",
          "data": {
            "text/plain": [
              "index        0\n",
              "학교종류         0\n",
              "설립구분         0\n",
              "지역           0\n",
              "학교명          0\n",
              "재학생\\n(A)     0\n",
              "장학금현황        1\n",
              "성적우수장학금      4\n",
              "재학생1인당장학금    0\n",
              "dtype: int64"
            ]
          },
          "metadata": {},
          "execution_count": 77
        }
      ]
    },
    {
      "cell_type": "code",
      "source": [
        "data2=data2.dropna(axis=0)\n",
        "data2.head()"
      ],
      "metadata": {
        "id": "wmWHMSYcP3JP",
        "outputId": "d2a5f948-42d8-4bac-dbd0-2212d1523dc6",
        "colab": {
          "base_uri": "https://localhost:8080/",
          "height": 441
        }
      },
      "execution_count": null,
      "outputs": [
        {
          "output_type": "execute_result",
          "data": {
            "text/plain": [
              "   index 학교종류 설립구분  지역         학교명  재학생\\n(A)        장학금현황     성적우수장학금  \\\n",
              "0      2  대학교   사립  경남  가야대학교(김해)     1962.0   4995635065   674255020   \n",
              "1      3  대학교   사립  경기      가천대학교    18777.0  35109669872  6294783100   \n",
              "2      4  대학교   사립  강원   가톨릭관동대학교     7135.0  16159991032  2922916230   \n",
              "3      5  대학교   사립  충북  가톨릭꽃동네대학교      421.0   1468923590    80527500   \n",
              "4      6  대학교   사립  경기     가톨릭대학교     6600.0  12826472948  3074032050   \n",
              "\n",
              "   재학생1인당장학금  \n",
              "0  3710932.7  \n",
              "1  3374647.1  \n",
              "2  3198333.1  \n",
              "3  4927226.5  \n",
              "4  3287924.4  "
            ],
            "text/html": [
              "\n",
              "  <div id=\"df-7dc9b12e-1a8f-43dd-a0db-7bb9e2fc73b8\">\n",
              "    <div class=\"colab-df-container\">\n",
              "      <div>\n",
              "<style scoped>\n",
              "    .dataframe tbody tr th:only-of-type {\n",
              "        vertical-align: middle;\n",
              "    }\n",
              "\n",
              "    .dataframe tbody tr th {\n",
              "        vertical-align: top;\n",
              "    }\n",
              "\n",
              "    .dataframe thead th {\n",
              "        text-align: right;\n",
              "    }\n",
              "</style>\n",
              "<table border=\"1\" class=\"dataframe\">\n",
              "  <thead>\n",
              "    <tr style=\"text-align: right;\">\n",
              "      <th></th>\n",
              "      <th>index</th>\n",
              "      <th>학교종류</th>\n",
              "      <th>설립구분</th>\n",
              "      <th>지역</th>\n",
              "      <th>학교명</th>\n",
              "      <th>재학생\\n(A)</th>\n",
              "      <th>장학금현황</th>\n",
              "      <th>성적우수장학금</th>\n",
              "      <th>재학생1인당장학금</th>\n",
              "    </tr>\n",
              "  </thead>\n",
              "  <tbody>\n",
              "    <tr>\n",
              "      <th>0</th>\n",
              "      <td>2</td>\n",
              "      <td>대학교</td>\n",
              "      <td>사립</td>\n",
              "      <td>경남</td>\n",
              "      <td>가야대학교(김해)</td>\n",
              "      <td>1962.0</td>\n",
              "      <td>4995635065</td>\n",
              "      <td>674255020</td>\n",
              "      <td>3710932.7</td>\n",
              "    </tr>\n",
              "    <tr>\n",
              "      <th>1</th>\n",
              "      <td>3</td>\n",
              "      <td>대학교</td>\n",
              "      <td>사립</td>\n",
              "      <td>경기</td>\n",
              "      <td>가천대학교</td>\n",
              "      <td>18777.0</td>\n",
              "      <td>35109669872</td>\n",
              "      <td>6294783100</td>\n",
              "      <td>3374647.1</td>\n",
              "    </tr>\n",
              "    <tr>\n",
              "      <th>2</th>\n",
              "      <td>4</td>\n",
              "      <td>대학교</td>\n",
              "      <td>사립</td>\n",
              "      <td>강원</td>\n",
              "      <td>가톨릭관동대학교</td>\n",
              "      <td>7135.0</td>\n",
              "      <td>16159991032</td>\n",
              "      <td>2922916230</td>\n",
              "      <td>3198333.1</td>\n",
              "    </tr>\n",
              "    <tr>\n",
              "      <th>3</th>\n",
              "      <td>5</td>\n",
              "      <td>대학교</td>\n",
              "      <td>사립</td>\n",
              "      <td>충북</td>\n",
              "      <td>가톨릭꽃동네대학교</td>\n",
              "      <td>421.0</td>\n",
              "      <td>1468923590</td>\n",
              "      <td>80527500</td>\n",
              "      <td>4927226.5</td>\n",
              "    </tr>\n",
              "    <tr>\n",
              "      <th>4</th>\n",
              "      <td>6</td>\n",
              "      <td>대학교</td>\n",
              "      <td>사립</td>\n",
              "      <td>경기</td>\n",
              "      <td>가톨릭대학교</td>\n",
              "      <td>6600.0</td>\n",
              "      <td>12826472948</td>\n",
              "      <td>3074032050</td>\n",
              "      <td>3287924.4</td>\n",
              "    </tr>\n",
              "  </tbody>\n",
              "</table>\n",
              "</div>\n",
              "      <button class=\"colab-df-convert\" onclick=\"convertToInteractive('df-7dc9b12e-1a8f-43dd-a0db-7bb9e2fc73b8')\"\n",
              "              title=\"Convert this dataframe to an interactive table.\"\n",
              "              style=\"display:none;\">\n",
              "        \n",
              "  <svg xmlns=\"http://www.w3.org/2000/svg\" height=\"24px\"viewBox=\"0 0 24 24\"\n",
              "       width=\"24px\">\n",
              "    <path d=\"M0 0h24v24H0V0z\" fill=\"none\"/>\n",
              "    <path d=\"M18.56 5.44l.94 2.06.94-2.06 2.06-.94-2.06-.94-.94-2.06-.94 2.06-2.06.94zm-11 1L8.5 8.5l.94-2.06 2.06-.94-2.06-.94L8.5 2.5l-.94 2.06-2.06.94zm10 10l.94 2.06.94-2.06 2.06-.94-2.06-.94-.94-2.06-.94 2.06-2.06.94z\"/><path d=\"M17.41 7.96l-1.37-1.37c-.4-.4-.92-.59-1.43-.59-.52 0-1.04.2-1.43.59L10.3 9.45l-7.72 7.72c-.78.78-.78 2.05 0 2.83L4 21.41c.39.39.9.59 1.41.59.51 0 1.02-.2 1.41-.59l7.78-7.78 2.81-2.81c.8-.78.8-2.07 0-2.86zM5.41 20L4 18.59l7.72-7.72 1.47 1.35L5.41 20z\"/>\n",
              "  </svg>\n",
              "      </button>\n",
              "      \n",
              "  <style>\n",
              "    .colab-df-container {\n",
              "      display:flex;\n",
              "      flex-wrap:wrap;\n",
              "      gap: 12px;\n",
              "    }\n",
              "\n",
              "    .colab-df-convert {\n",
              "      background-color: #E8F0FE;\n",
              "      border: none;\n",
              "      border-radius: 50%;\n",
              "      cursor: pointer;\n",
              "      display: none;\n",
              "      fill: #1967D2;\n",
              "      height: 32px;\n",
              "      padding: 0 0 0 0;\n",
              "      width: 32px;\n",
              "    }\n",
              "\n",
              "    .colab-df-convert:hover {\n",
              "      background-color: #E2EBFA;\n",
              "      box-shadow: 0px 1px 2px rgba(60, 64, 67, 0.3), 0px 1px 3px 1px rgba(60, 64, 67, 0.15);\n",
              "      fill: #174EA6;\n",
              "    }\n",
              "\n",
              "    [theme=dark] .colab-df-convert {\n",
              "      background-color: #3B4455;\n",
              "      fill: #D2E3FC;\n",
              "    }\n",
              "\n",
              "    [theme=dark] .colab-df-convert:hover {\n",
              "      background-color: #434B5C;\n",
              "      box-shadow: 0px 1px 3px 1px rgba(0, 0, 0, 0.15);\n",
              "      filter: drop-shadow(0px 1px 2px rgba(0, 0, 0, 0.3));\n",
              "      fill: #FFFFFF;\n",
              "    }\n",
              "  </style>\n",
              "\n",
              "      <script>\n",
              "        const buttonEl =\n",
              "          document.querySelector('#df-7dc9b12e-1a8f-43dd-a0db-7bb9e2fc73b8 button.colab-df-convert');\n",
              "        buttonEl.style.display =\n",
              "          google.colab.kernel.accessAllowed ? 'block' : 'none';\n",
              "\n",
              "        async function convertToInteractive(key) {\n",
              "          const element = document.querySelector('#df-7dc9b12e-1a8f-43dd-a0db-7bb9e2fc73b8');\n",
              "          const dataTable =\n",
              "            await google.colab.kernel.invokeFunction('convertToInteractive',\n",
              "                                                     [key], {});\n",
              "          if (!dataTable) return;\n",
              "\n",
              "          const docLinkHtml = 'Like what you see? Visit the ' +\n",
              "            '<a target=\"_blank\" href=https://colab.research.google.com/notebooks/data_table.ipynb>data table notebook</a>'\n",
              "            + ' to learn more about interactive tables.';\n",
              "          element.innerHTML = '';\n",
              "          dataTable['output_type'] = 'display_data';\n",
              "          await google.colab.output.renderOutput(dataTable, element);\n",
              "          const docLink = document.createElement('div');\n",
              "          docLink.innerHTML = docLinkHtml;\n",
              "          element.appendChild(docLink);\n",
              "        }\n",
              "      </script>\n",
              "    </div>\n",
              "  </div>\n",
              "  "
            ]
          },
          "metadata": {},
          "execution_count": 78
        }
      ]
    },
    {
      "cell_type": "code",
      "source": [
        "data2"
      ],
      "metadata": {
        "id": "QGeSwuODX5yn",
        "outputId": "65690ce9-e62b-4a54-d4fe-fd019eb8a577",
        "colab": {
          "base_uri": "https://localhost:8080/",
          "height": 884
        }
      },
      "execution_count": null,
      "outputs": [
        {
          "output_type": "execute_result",
          "data": {
            "text/plain": [
              "    index 학교종류 설립구분  지역           학교명 재학생\\n(A)        장학금현황        성적우수장학금  \\\n",
              "0       2  대학교   사립  경남    가야대학교(김해)   1962.00   4995635065   674255020.00   \n",
              "1       3  대학교   사립  경기        가천대학교  18777.00  35109669872  6294783100.00   \n",
              "2       4  대학교   사립  강원     가톨릭관동대학교   7135.00  16159991032  2922916230.00   \n",
              "3       5  대학교   사립  충북    가톨릭꽃동네대학교    421.00   1468923590    80527500.00   \n",
              "4       6  대학교   사립  경기       가톨릭대학교   6600.00  12826472948  3074032050.00   \n",
              "..    ...  ...  ...  ..           ...      ...          ...            ...   \n",
              "205   238  대학교   사립  광주      호남신학대학교    479.00   1615079483   218493250.00   \n",
              "206   239  대학교   사립  충남        호서대학교  11702.00  25062148720  4655425100.00   \n",
              "207   241  대학교   사립  서울        홍익대학교  11899.00  19427031590 11178671200.00   \n",
              "208   242  대학교   사립  세종  홍익대학교 _제2캠퍼스  5517.00  10889074157  5008837400.00   \n",
              "209   243  대학교   사립  경기     화성의과학대학교    450.00    184351650   129448500.00   \n",
              "\n",
              "     재학생1인당장학금  \n",
              "0   3710932.70  \n",
              "1   3374647.10  \n",
              "2   3198333.10  \n",
              "3   4927226.50  \n",
              "4   3287924.40  \n",
              "..         ...  \n",
              "205 4385336.40  \n",
              "206 3516573.20  \n",
              "207 3812880.30  \n",
              "208 4235510.00  \n",
              "209 1021009.70  \n",
              "\n",
              "[206 rows x 9 columns]"
            ],
            "text/html": [
              "\n",
              "  <div id=\"df-a36aaea9-ba79-406b-9fa6-0cf545dae930\">\n",
              "    <div class=\"colab-df-container\">\n",
              "      <div>\n",
              "<style scoped>\n",
              "    .dataframe tbody tr th:only-of-type {\n",
              "        vertical-align: middle;\n",
              "    }\n",
              "\n",
              "    .dataframe tbody tr th {\n",
              "        vertical-align: top;\n",
              "    }\n",
              "\n",
              "    .dataframe thead th {\n",
              "        text-align: right;\n",
              "    }\n",
              "</style>\n",
              "<table border=\"1\" class=\"dataframe\">\n",
              "  <thead>\n",
              "    <tr style=\"text-align: right;\">\n",
              "      <th></th>\n",
              "      <th>index</th>\n",
              "      <th>학교종류</th>\n",
              "      <th>설립구분</th>\n",
              "      <th>지역</th>\n",
              "      <th>학교명</th>\n",
              "      <th>재학생\\n(A)</th>\n",
              "      <th>장학금현황</th>\n",
              "      <th>성적우수장학금</th>\n",
              "      <th>재학생1인당장학금</th>\n",
              "    </tr>\n",
              "  </thead>\n",
              "  <tbody>\n",
              "    <tr>\n",
              "      <th>0</th>\n",
              "      <td>2</td>\n",
              "      <td>대학교</td>\n",
              "      <td>사립</td>\n",
              "      <td>경남</td>\n",
              "      <td>가야대학교(김해)</td>\n",
              "      <td>1962.00</td>\n",
              "      <td>4995635065</td>\n",
              "      <td>674255020.00</td>\n",
              "      <td>3710932.70</td>\n",
              "    </tr>\n",
              "    <tr>\n",
              "      <th>1</th>\n",
              "      <td>3</td>\n",
              "      <td>대학교</td>\n",
              "      <td>사립</td>\n",
              "      <td>경기</td>\n",
              "      <td>가천대학교</td>\n",
              "      <td>18777.00</td>\n",
              "      <td>35109669872</td>\n",
              "      <td>6294783100.00</td>\n",
              "      <td>3374647.10</td>\n",
              "    </tr>\n",
              "    <tr>\n",
              "      <th>2</th>\n",
              "      <td>4</td>\n",
              "      <td>대학교</td>\n",
              "      <td>사립</td>\n",
              "      <td>강원</td>\n",
              "      <td>가톨릭관동대학교</td>\n",
              "      <td>7135.00</td>\n",
              "      <td>16159991032</td>\n",
              "      <td>2922916230.00</td>\n",
              "      <td>3198333.10</td>\n",
              "    </tr>\n",
              "    <tr>\n",
              "      <th>3</th>\n",
              "      <td>5</td>\n",
              "      <td>대학교</td>\n",
              "      <td>사립</td>\n",
              "      <td>충북</td>\n",
              "      <td>가톨릭꽃동네대학교</td>\n",
              "      <td>421.00</td>\n",
              "      <td>1468923590</td>\n",
              "      <td>80527500.00</td>\n",
              "      <td>4927226.50</td>\n",
              "    </tr>\n",
              "    <tr>\n",
              "      <th>4</th>\n",
              "      <td>6</td>\n",
              "      <td>대학교</td>\n",
              "      <td>사립</td>\n",
              "      <td>경기</td>\n",
              "      <td>가톨릭대학교</td>\n",
              "      <td>6600.00</td>\n",
              "      <td>12826472948</td>\n",
              "      <td>3074032050.00</td>\n",
              "      <td>3287924.40</td>\n",
              "    </tr>\n",
              "    <tr>\n",
              "      <th>...</th>\n",
              "      <td>...</td>\n",
              "      <td>...</td>\n",
              "      <td>...</td>\n",
              "      <td>...</td>\n",
              "      <td>...</td>\n",
              "      <td>...</td>\n",
              "      <td>...</td>\n",
              "      <td>...</td>\n",
              "      <td>...</td>\n",
              "    </tr>\n",
              "    <tr>\n",
              "      <th>205</th>\n",
              "      <td>238</td>\n",
              "      <td>대학교</td>\n",
              "      <td>사립</td>\n",
              "      <td>광주</td>\n",
              "      <td>호남신학대학교</td>\n",
              "      <td>479.00</td>\n",
              "      <td>1615079483</td>\n",
              "      <td>218493250.00</td>\n",
              "      <td>4385336.40</td>\n",
              "    </tr>\n",
              "    <tr>\n",
              "      <th>206</th>\n",
              "      <td>239</td>\n",
              "      <td>대학교</td>\n",
              "      <td>사립</td>\n",
              "      <td>충남</td>\n",
              "      <td>호서대학교</td>\n",
              "      <td>11702.00</td>\n",
              "      <td>25062148720</td>\n",
              "      <td>4655425100.00</td>\n",
              "      <td>3516573.20</td>\n",
              "    </tr>\n",
              "    <tr>\n",
              "      <th>207</th>\n",
              "      <td>241</td>\n",
              "      <td>대학교</td>\n",
              "      <td>사립</td>\n",
              "      <td>서울</td>\n",
              "      <td>홍익대학교</td>\n",
              "      <td>11899.00</td>\n",
              "      <td>19427031590</td>\n",
              "      <td>11178671200.00</td>\n",
              "      <td>3812880.30</td>\n",
              "    </tr>\n",
              "    <tr>\n",
              "      <th>208</th>\n",
              "      <td>242</td>\n",
              "      <td>대학교</td>\n",
              "      <td>사립</td>\n",
              "      <td>세종</td>\n",
              "      <td>홍익대학교 _제2캠퍼스</td>\n",
              "      <td>5517.00</td>\n",
              "      <td>10889074157</td>\n",
              "      <td>5008837400.00</td>\n",
              "      <td>4235510.00</td>\n",
              "    </tr>\n",
              "    <tr>\n",
              "      <th>209</th>\n",
              "      <td>243</td>\n",
              "      <td>대학교</td>\n",
              "      <td>사립</td>\n",
              "      <td>경기</td>\n",
              "      <td>화성의과학대학교</td>\n",
              "      <td>450.00</td>\n",
              "      <td>184351650</td>\n",
              "      <td>129448500.00</td>\n",
              "      <td>1021009.70</td>\n",
              "    </tr>\n",
              "  </tbody>\n",
              "</table>\n",
              "<p>206 rows × 9 columns</p>\n",
              "</div>\n",
              "      <button class=\"colab-df-convert\" onclick=\"convertToInteractive('df-a36aaea9-ba79-406b-9fa6-0cf545dae930')\"\n",
              "              title=\"Convert this dataframe to an interactive table.\"\n",
              "              style=\"display:none;\">\n",
              "        \n",
              "  <svg xmlns=\"http://www.w3.org/2000/svg\" height=\"24px\"viewBox=\"0 0 24 24\"\n",
              "       width=\"24px\">\n",
              "    <path d=\"M0 0h24v24H0V0z\" fill=\"none\"/>\n",
              "    <path d=\"M18.56 5.44l.94 2.06.94-2.06 2.06-.94-2.06-.94-.94-2.06-.94 2.06-2.06.94zm-11 1L8.5 8.5l.94-2.06 2.06-.94-2.06-.94L8.5 2.5l-.94 2.06-2.06.94zm10 10l.94 2.06.94-2.06 2.06-.94-2.06-.94-.94-2.06-.94 2.06-2.06.94z\"/><path d=\"M17.41 7.96l-1.37-1.37c-.4-.4-.92-.59-1.43-.59-.52 0-1.04.2-1.43.59L10.3 9.45l-7.72 7.72c-.78.78-.78 2.05 0 2.83L4 21.41c.39.39.9.59 1.41.59.51 0 1.02-.2 1.41-.59l7.78-7.78 2.81-2.81c.8-.78.8-2.07 0-2.86zM5.41 20L4 18.59l7.72-7.72 1.47 1.35L5.41 20z\"/>\n",
              "  </svg>\n",
              "      </button>\n",
              "      \n",
              "  <style>\n",
              "    .colab-df-container {\n",
              "      display:flex;\n",
              "      flex-wrap:wrap;\n",
              "      gap: 12px;\n",
              "    }\n",
              "\n",
              "    .colab-df-convert {\n",
              "      background-color: #E8F0FE;\n",
              "      border: none;\n",
              "      border-radius: 50%;\n",
              "      cursor: pointer;\n",
              "      display: none;\n",
              "      fill: #1967D2;\n",
              "      height: 32px;\n",
              "      padding: 0 0 0 0;\n",
              "      width: 32px;\n",
              "    }\n",
              "\n",
              "    .colab-df-convert:hover {\n",
              "      background-color: #E2EBFA;\n",
              "      box-shadow: 0px 1px 2px rgba(60, 64, 67, 0.3), 0px 1px 3px 1px rgba(60, 64, 67, 0.15);\n",
              "      fill: #174EA6;\n",
              "    }\n",
              "\n",
              "    [theme=dark] .colab-df-convert {\n",
              "      background-color: #3B4455;\n",
              "      fill: #D2E3FC;\n",
              "    }\n",
              "\n",
              "    [theme=dark] .colab-df-convert:hover {\n",
              "      background-color: #434B5C;\n",
              "      box-shadow: 0px 1px 3px 1px rgba(0, 0, 0, 0.15);\n",
              "      filter: drop-shadow(0px 1px 2px rgba(0, 0, 0, 0.3));\n",
              "      fill: #FFFFFF;\n",
              "    }\n",
              "  </style>\n",
              "\n",
              "      <script>\n",
              "        const buttonEl =\n",
              "          document.querySelector('#df-a36aaea9-ba79-406b-9fa6-0cf545dae930 button.colab-df-convert');\n",
              "        buttonEl.style.display =\n",
              "          google.colab.kernel.accessAllowed ? 'block' : 'none';\n",
              "\n",
              "        async function convertToInteractive(key) {\n",
              "          const element = document.querySelector('#df-a36aaea9-ba79-406b-9fa6-0cf545dae930');\n",
              "          const dataTable =\n",
              "            await google.colab.kernel.invokeFunction('convertToInteractive',\n",
              "                                                     [key], {});\n",
              "          if (!dataTable) return;\n",
              "\n",
              "          const docLinkHtml = 'Like what you see? Visit the ' +\n",
              "            '<a target=\"_blank\" href=https://colab.research.google.com/notebooks/data_table.ipynb>data table notebook</a>'\n",
              "            + ' to learn more about interactive tables.';\n",
              "          element.innerHTML = '';\n",
              "          dataTable['output_type'] = 'display_data';\n",
              "          await google.colab.output.renderOutput(dataTable, element);\n",
              "          const docLink = document.createElement('div');\n",
              "          docLink.innerHTML = docLinkHtml;\n",
              "          element.appendChild(docLink);\n",
              "        }\n",
              "      </script>\n",
              "    </div>\n",
              "  </div>\n",
              "  "
            ]
          },
          "metadata": {},
          "execution_count": 114
        }
      ]
    },
    {
      "cell_type": "code",
      "source": [
        "data2.info()"
      ],
      "metadata": {
        "id": "Ww2tIsSFP3Gb",
        "outputId": "d3809266-0c41-47f7-a6f3-9b0938dc5c5e",
        "colab": {
          "base_uri": "https://localhost:8080/"
        }
      },
      "execution_count": null,
      "outputs": [
        {
          "output_type": "stream",
          "name": "stdout",
          "text": [
            "<class 'pandas.core.frame.DataFrame'>\n",
            "Int64Index: 206 entries, 0 to 209\n",
            "Data columns (total 9 columns):\n",
            " #   Column     Non-Null Count  Dtype  \n",
            "---  ------     --------------  -----  \n",
            " 0   index      206 non-null    int64  \n",
            " 1   학교종류       206 non-null    object \n",
            " 2   설립구분       206 non-null    object \n",
            " 3   지역         206 non-null    object \n",
            " 4   학교명        206 non-null    object \n",
            " 5   재학생\n",
            "(A)    206 non-null    float64\n",
            " 6   장학금현황      206 non-null    object \n",
            " 7   성적우수장학금    206 non-null    object \n",
            " 8   재학생1인당장학금  206 non-null    float64\n",
            "dtypes: float64(2), int64(1), object(6)\n",
            "memory usage: 16.1+ KB\n"
          ]
        }
      ]
    },
    {
      "cell_type": "markdown",
      "source": [
        "4) 필요한 열만 볼 수 있도록 data type 수정"
      ],
      "metadata": {
        "id": "S_vTuXNf3ZUH"
      }
    },
    {
      "cell_type": "code",
      "source": [
        "data2['성적우수장학금']= data2['성적우수장학금'].astype(float)"
      ],
      "metadata": {
        "id": "R8Q1z-QRSaol"
      },
      "execution_count": null,
      "outputs": []
    },
    {
      "cell_type": "code",
      "source": [
        "data2['재학생\\n(A)']= data2['재학생\\n(A)'].astype(object)\n",
        "data2['index']= data2['index'].astype(object)"
      ],
      "metadata": {
        "id": "t35X7EV-SpIe"
      },
      "execution_count": null,
      "outputs": []
    },
    {
      "cell_type": "code",
      "source": [
        "data_sa_=data2.groupby([\"지역\"]).mean()\n",
        "data_sa_"
      ],
      "metadata": {
        "id": "uoy3cOEUKfGO",
        "outputId": "ea02baac-db6c-4866-8374-2acb0d83a642",
        "colab": {
          "base_uri": "https://localhost:8080/",
          "height": 669
        }
      },
      "execution_count": null,
      "outputs": [
        {
          "output_type": "stream",
          "name": "stderr",
          "text": [
            "<ipython-input-81-ac4ca30b5340>:1: FutureWarning: The default value of numeric_only in DataFrameGroupBy.mean is deprecated. In a future version, numeric_only will default to False. Either specify numeric_only or select only columns which should be valid for the function.\n",
            "  data_sa_=data2.groupby([\"지역\"]).mean()\n"
          ]
        },
        {
          "output_type": "execute_result",
          "data": {
            "text/plain": [
              "         성적우수장학금     재학생1인당장학금\n",
              "지역                            \n",
              "강원  2.029259e+09  3.337956e+06\n",
              "경기  1.773000e+09  3.715315e+06\n",
              "경남  1.789017e+09  3.575842e+06\n",
              "경북  2.014368e+09  3.984156e+06\n",
              "광주  1.883071e+09  4.039768e+06\n",
              "대구  6.428904e+09  3.073856e+06\n",
              "대전  2.792381e+09  4.227570e+06\n",
              "부산  3.112380e+09  3.435736e+06\n",
              "서울  3.084586e+09  3.421971e+06\n",
              "세종  2.712691e+09  3.825177e+06\n",
              "울산  4.890728e+09  4.494447e+06\n",
              "인천  2.126178e+09  3.932888e+06\n",
              "전남  8.272131e+08  3.374566e+06\n",
              "전북  1.677449e+09  3.464946e+06\n",
              "제주  9.334908e+08  2.917824e+06\n",
              "충남  2.828760e+09  3.869497e+06\n",
              "충북  2.338548e+09  3.670038e+06"
            ],
            "text/html": [
              "\n",
              "  <div id=\"df-48270414-74de-4987-8167-c2b9a69fa6e4\">\n",
              "    <div class=\"colab-df-container\">\n",
              "      <div>\n",
              "<style scoped>\n",
              "    .dataframe tbody tr th:only-of-type {\n",
              "        vertical-align: middle;\n",
              "    }\n",
              "\n",
              "    .dataframe tbody tr th {\n",
              "        vertical-align: top;\n",
              "    }\n",
              "\n",
              "    .dataframe thead th {\n",
              "        text-align: right;\n",
              "    }\n",
              "</style>\n",
              "<table border=\"1\" class=\"dataframe\">\n",
              "  <thead>\n",
              "    <tr style=\"text-align: right;\">\n",
              "      <th></th>\n",
              "      <th>성적우수장학금</th>\n",
              "      <th>재학생1인당장학금</th>\n",
              "    </tr>\n",
              "    <tr>\n",
              "      <th>지역</th>\n",
              "      <th></th>\n",
              "      <th></th>\n",
              "    </tr>\n",
              "  </thead>\n",
              "  <tbody>\n",
              "    <tr>\n",
              "      <th>강원</th>\n",
              "      <td>2.029259e+09</td>\n",
              "      <td>3.337956e+06</td>\n",
              "    </tr>\n",
              "    <tr>\n",
              "      <th>경기</th>\n",
              "      <td>1.773000e+09</td>\n",
              "      <td>3.715315e+06</td>\n",
              "    </tr>\n",
              "    <tr>\n",
              "      <th>경남</th>\n",
              "      <td>1.789017e+09</td>\n",
              "      <td>3.575842e+06</td>\n",
              "    </tr>\n",
              "    <tr>\n",
              "      <th>경북</th>\n",
              "      <td>2.014368e+09</td>\n",
              "      <td>3.984156e+06</td>\n",
              "    </tr>\n",
              "    <tr>\n",
              "      <th>광주</th>\n",
              "      <td>1.883071e+09</td>\n",
              "      <td>4.039768e+06</td>\n",
              "    </tr>\n",
              "    <tr>\n",
              "      <th>대구</th>\n",
              "      <td>6.428904e+09</td>\n",
              "      <td>3.073856e+06</td>\n",
              "    </tr>\n",
              "    <tr>\n",
              "      <th>대전</th>\n",
              "      <td>2.792381e+09</td>\n",
              "      <td>4.227570e+06</td>\n",
              "    </tr>\n",
              "    <tr>\n",
              "      <th>부산</th>\n",
              "      <td>3.112380e+09</td>\n",
              "      <td>3.435736e+06</td>\n",
              "    </tr>\n",
              "    <tr>\n",
              "      <th>서울</th>\n",
              "      <td>3.084586e+09</td>\n",
              "      <td>3.421971e+06</td>\n",
              "    </tr>\n",
              "    <tr>\n",
              "      <th>세종</th>\n",
              "      <td>2.712691e+09</td>\n",
              "      <td>3.825177e+06</td>\n",
              "    </tr>\n",
              "    <tr>\n",
              "      <th>울산</th>\n",
              "      <td>4.890728e+09</td>\n",
              "      <td>4.494447e+06</td>\n",
              "    </tr>\n",
              "    <tr>\n",
              "      <th>인천</th>\n",
              "      <td>2.126178e+09</td>\n",
              "      <td>3.932888e+06</td>\n",
              "    </tr>\n",
              "    <tr>\n",
              "      <th>전남</th>\n",
              "      <td>8.272131e+08</td>\n",
              "      <td>3.374566e+06</td>\n",
              "    </tr>\n",
              "    <tr>\n",
              "      <th>전북</th>\n",
              "      <td>1.677449e+09</td>\n",
              "      <td>3.464946e+06</td>\n",
              "    </tr>\n",
              "    <tr>\n",
              "      <th>제주</th>\n",
              "      <td>9.334908e+08</td>\n",
              "      <td>2.917824e+06</td>\n",
              "    </tr>\n",
              "    <tr>\n",
              "      <th>충남</th>\n",
              "      <td>2.828760e+09</td>\n",
              "      <td>3.869497e+06</td>\n",
              "    </tr>\n",
              "    <tr>\n",
              "      <th>충북</th>\n",
              "      <td>2.338548e+09</td>\n",
              "      <td>3.670038e+06</td>\n",
              "    </tr>\n",
              "  </tbody>\n",
              "</table>\n",
              "</div>\n",
              "      <button class=\"colab-df-convert\" onclick=\"convertToInteractive('df-48270414-74de-4987-8167-c2b9a69fa6e4')\"\n",
              "              title=\"Convert this dataframe to an interactive table.\"\n",
              "              style=\"display:none;\">\n",
              "        \n",
              "  <svg xmlns=\"http://www.w3.org/2000/svg\" height=\"24px\"viewBox=\"0 0 24 24\"\n",
              "       width=\"24px\">\n",
              "    <path d=\"M0 0h24v24H0V0z\" fill=\"none\"/>\n",
              "    <path d=\"M18.56 5.44l.94 2.06.94-2.06 2.06-.94-2.06-.94-.94-2.06-.94 2.06-2.06.94zm-11 1L8.5 8.5l.94-2.06 2.06-.94-2.06-.94L8.5 2.5l-.94 2.06-2.06.94zm10 10l.94 2.06.94-2.06 2.06-.94-2.06-.94-.94-2.06-.94 2.06-2.06.94z\"/><path d=\"M17.41 7.96l-1.37-1.37c-.4-.4-.92-.59-1.43-.59-.52 0-1.04.2-1.43.59L10.3 9.45l-7.72 7.72c-.78.78-.78 2.05 0 2.83L4 21.41c.39.39.9.59 1.41.59.51 0 1.02-.2 1.41-.59l7.78-7.78 2.81-2.81c.8-.78.8-2.07 0-2.86zM5.41 20L4 18.59l7.72-7.72 1.47 1.35L5.41 20z\"/>\n",
              "  </svg>\n",
              "      </button>\n",
              "      \n",
              "  <style>\n",
              "    .colab-df-container {\n",
              "      display:flex;\n",
              "      flex-wrap:wrap;\n",
              "      gap: 12px;\n",
              "    }\n",
              "\n",
              "    .colab-df-convert {\n",
              "      background-color: #E8F0FE;\n",
              "      border: none;\n",
              "      border-radius: 50%;\n",
              "      cursor: pointer;\n",
              "      display: none;\n",
              "      fill: #1967D2;\n",
              "      height: 32px;\n",
              "      padding: 0 0 0 0;\n",
              "      width: 32px;\n",
              "    }\n",
              "\n",
              "    .colab-df-convert:hover {\n",
              "      background-color: #E2EBFA;\n",
              "      box-shadow: 0px 1px 2px rgba(60, 64, 67, 0.3), 0px 1px 3px 1px rgba(60, 64, 67, 0.15);\n",
              "      fill: #174EA6;\n",
              "    }\n",
              "\n",
              "    [theme=dark] .colab-df-convert {\n",
              "      background-color: #3B4455;\n",
              "      fill: #D2E3FC;\n",
              "    }\n",
              "\n",
              "    [theme=dark] .colab-df-convert:hover {\n",
              "      background-color: #434B5C;\n",
              "      box-shadow: 0px 1px 3px 1px rgba(0, 0, 0, 0.15);\n",
              "      filter: drop-shadow(0px 1px 2px rgba(0, 0, 0, 0.3));\n",
              "      fill: #FFFFFF;\n",
              "    }\n",
              "  </style>\n",
              "\n",
              "      <script>\n",
              "        const buttonEl =\n",
              "          document.querySelector('#df-48270414-74de-4987-8167-c2b9a69fa6e4 button.colab-df-convert');\n",
              "        buttonEl.style.display =\n",
              "          google.colab.kernel.accessAllowed ? 'block' : 'none';\n",
              "\n",
              "        async function convertToInteractive(key) {\n",
              "          const element = document.querySelector('#df-48270414-74de-4987-8167-c2b9a69fa6e4');\n",
              "          const dataTable =\n",
              "            await google.colab.kernel.invokeFunction('convertToInteractive',\n",
              "                                                     [key], {});\n",
              "          if (!dataTable) return;\n",
              "\n",
              "          const docLinkHtml = 'Like what you see? Visit the ' +\n",
              "            '<a target=\"_blank\" href=https://colab.research.google.com/notebooks/data_table.ipynb>data table notebook</a>'\n",
              "            + ' to learn more about interactive tables.';\n",
              "          element.innerHTML = '';\n",
              "          dataTable['output_type'] = 'display_data';\n",
              "          await google.colab.output.renderOutput(dataTable, element);\n",
              "          const docLink = document.createElement('div');\n",
              "          docLink.innerHTML = docLinkHtml;\n",
              "          element.appendChild(docLink);\n",
              "        }\n",
              "      </script>\n",
              "    </div>\n",
              "  </div>\n",
              "  "
            ]
          },
          "metadata": {},
          "execution_count": 81
        }
      ]
    },
    {
      "cell_type": "markdown",
      "source": [
        "5) dataframe 기본 인덱스로 변환"
      ],
      "metadata": {
        "id": "litIvWdQ3-Zt"
      }
    },
    {
      "cell_type": "code",
      "source": [
        "data_sa2=data_sa2.reset_index()"
      ],
      "metadata": {
        "id": "an2XWNCPTAWh"
      },
      "execution_count": null,
      "outputs": []
    },
    {
      "cell_type": "markdown",
      "source": [
        "#전체 지역의 재학생 1인당 장학금"
      ],
      "metadata": {
        "id": "imjLrpOn4ams"
      }
    },
    {
      "cell_type": "code",
      "source": [
        "sns.barplot(x=\"지역\",y=\"재학생1인당장학금\",data=data_sa2)\n",
        "plt.title(\"재학생1인당장학금\")\n",
        "plt.rc('font', size=15)\n",
        "plt.show()"
      ],
      "metadata": {
        "id": "hkkL8rW1P9h0",
        "outputId": "70428c85-e64a-442d-a014-4bceabe07dda",
        "colab": {
          "base_uri": "https://localhost:8080/",
          "height": 469
        }
      },
      "execution_count": null,
      "outputs": [
        {
          "output_type": "display_data",
          "data": {
            "text/plain": [
              "<Figure size 640x480 with 1 Axes>"
            ],
            "image/png": "[encoded data removed]"
          },
          "metadata": {}
        }
      ]
    },
    {
      "cell_type": "markdown",
      "source": [
        "6) 지역의 일반화를 위해 대학교의 수가 10개 초과인 지역선별"
      ],
      "metadata": {
        "id": "CwE9y88L4eOS"
      }
    },
    {
      "cell_type": "code",
      "source": [
        "data2.groupby('지역').count()"
      ],
      "metadata": {
        "id": "89ADVf5kTjig",
        "outputId": "d15aebae-fc42-4055-9e1a-43beae16d357",
        "colab": {
          "base_uri": "https://localhost:8080/",
          "height": 987
        }
      },
      "execution_count": null,
      "outputs": [
        {
          "output_type": "execute_result",
          "data": {
            "text/plain": [
              "    index  학교종류  설립구분  학교명  재학생\\n(A)  장학금현황  성적우수장학금  재학생1인당장학금\n",
              "지역                                                             \n",
              "강원     11    11    11   11        11     11       11         11\n",
              "경기     35    35    35   35        35     35       35         35\n",
              "경남      9     9     9    9         9      9        9          9\n",
              "경북     18    18    18   18        18     18       18         18\n",
              "광주     10    10    10   10        10     10       10         10\n",
              "대구      3     3     3    3         3      3        3          3\n",
              "대전     12    12    12   12        12     12       12         12\n",
              "부산     13    13    13   13        13     13       13         13\n",
              "서울     42    42    42   42        42     42       42         42\n",
              "세종      2     2     2    2         2      2        2          2\n",
              "울산      2     2     2    2         2      2        2          2\n",
              "인천      5     5     5    5         5      5        5          5\n",
              "전남      8     8     8    8         8      8        8          8\n",
              "전북      8     8     8    8         8      8        8          8\n",
              "제주      2     2     2    2         2      2        2          2\n",
              "충남     15    15    15   15        15     15       15         15\n",
              "충북     11    11    11   11        11     11       11         11"
            ],
            "text/html": [
              "\n",
              "  <div id=\"df-e043c63c-75b9-415d-84a8-0b35d544fba4\">\n",
              "    <div class=\"colab-df-container\">\n",
              "      <div>\n",
              "<style scoped>\n",
              "    .dataframe tbody tr th:only-of-type {\n",
              "        vertical-align: middle;\n",
              "    }\n",
              "\n",
              "    .dataframe tbody tr th {\n",
              "        vertical-align: top;\n",
              "    }\n",
              "\n",
              "    .dataframe thead th {\n",
              "        text-align: right;\n",
              "    }\n",
              "</style>\n",
              "<table border=\"1\" class=\"dataframe\">\n",
              "  <thead>\n",
              "    <tr style=\"text-align: right;\">\n",
              "      <th></th>\n",
              "      <th>index</th>\n",
              "      <th>학교종류</th>\n",
              "      <th>설립구분</th>\n",
              "      <th>학교명</th>\n",
              "      <th>재학생\\n(A)</th>\n",
              "      <th>장학금현황</th>\n",
              "      <th>성적우수장학금</th>\n",
              "      <th>재학생1인당장학금</th>\n",
              "    </tr>\n",
              "    <tr>\n",
              "      <th>지역</th>\n",
              "      <th></th>\n",
              "      <th></th>\n",
              "      <th></th>\n",
              "      <th></th>\n",
              "      <th></th>\n",
              "      <th></th>\n",
              "      <th></th>\n",
              "      <th></th>\n",
              "    </tr>\n",
              "  </thead>\n",
              "  <tbody>\n",
              "    <tr>\n",
              "      <th>강원</th>\n",
              "      <td>11</td>\n",
              "      <td>11</td>\n",
              "      <td>11</td>\n",
              "      <td>11</td>\n",
              "      <td>11</td>\n",
              "      <td>11</td>\n",
              "      <td>11</td>\n",
              "      <td>11</td>\n",
              "    </tr>\n",
              "    <tr>\n",
              "      <th>경기</th>\n",
              "      <td>35</td>\n",
              "      <td>35</td>\n",
              "      <td>35</td>\n",
              "      <td>35</td>\n",
              "      <td>35</td>\n",
              "      <td>35</td>\n",
              "      <td>35</td>\n",
              "      <td>35</td>\n",
              "    </tr>\n",
              "    <tr>\n",
              "      <th>경남</th>\n",
              "      <td>9</td>\n",
              "      <td>9</td>\n",
              "      <td>9</td>\n",
              "      <td>9</td>\n",
              "      <td>9</td>\n",
              "      <td>9</td>\n",
              "      <td>9</td>\n",
              "      <td>9</td>\n",
              "    </tr>\n",
              "    <tr>\n",
              "      <th>경북</th>\n",
              "      <td>18</td>\n",
              "      <td>18</td>\n",
              "      <td>18</td>\n",
              "      <td>18</td>\n",
              "      <td>18</td>\n",
              "      <td>18</td>\n",
              "      <td>18</td>\n",
              "      <td>18</td>\n",
              "    </tr>\n",
              "    <tr>\n",
              "      <th>광주</th>\n",
              "      <td>10</td>\n",
              "      <td>10</td>\n",
              "      <td>10</td>\n",
              "      <td>10</td>\n",
              "      <td>10</td>\n",
              "      <td>10</td>\n",
              "      <td>10</td>\n",
              "      <td>10</td>\n",
              "    </tr>\n",
              "    <tr>\n",
              "      <th>대구</th>\n",
              "      <td>3</td>\n",
              "      <td>3</td>\n",
              "      <td>3</td>\n",
              "      <td>3</td>\n",
              "      <td>3</td>\n",
              "      <td>3</td>\n",
              "      <td>3</td>\n",
              "      <td>3</td>\n",
              "    </tr>\n",
              "    <tr>\n",
              "      <th>대전</th>\n",
              "      <td>12</td>\n",
              "      <td>12</td>\n",
              "      <td>12</td>\n",
              "      <td>12</td>\n",
              "      <td>12</td>\n",
              "      <td>12</td>\n",
              "      <td>12</td>\n",
              "      <td>12</td>\n",
              "    </tr>\n",
              "    <tr>\n",
              "      <th>부산</th>\n",
              "      <td>13</td>\n",
              "      <td>13</td>\n",
              "      <td>13</td>\n",
              "      <td>13</td>\n",
              "      <td>13</td>\n",
              "      <td>13</td>\n",
              "      <td>13</td>\n",
              "      <td>13</td>\n",
              "    </tr>\n",
              "    <tr>\n",
              "      <th>서울</th>\n",
              "      <td>42</td>\n",
              "      <td>42</td>\n",
              "      <td>42</td>\n",
              "      <td>42</td>\n",
              "      <td>42</td>\n",
              "      <td>42</td>\n",
              "      <td>42</td>\n",
              "      <td>42</td>\n",
              "    </tr>\n",
              "    <tr>\n",
              "      <th>세종</th>\n",
              "      <td>2</td>\n",
              "      <td>2</td>\n",
              "      <td>2</td>\n",
              "      <td>2</td>\n",
              "      <td>2</td>\n",
              "      <td>2</td>\n",
              "      <td>2</td>\n",
              "      <td>2</td>\n",
              "    </tr>\n",
              "    <tr>\n",
              "      <th>울산</th>\n",
              "      <td>2</td>\n",
              "      <td>2</td>\n",
              "      <td>2</td>\n",
              "      <td>2</td>\n",
              "      <td>2</td>\n",
              "      <td>2</td>\n",
              "      <td>2</td>\n",
              "      <td>2</td>\n",
              "    </tr>\n",
              "    <tr>\n",
              "      <th>인천</th>\n",
              "      <td>5</td>\n",
              "      <td>5</td>\n",
              "      <td>5</td>\n",
              "      <td>5</td>\n",
              "      <td>5</td>\n",
              "      <td>5</td>\n",
              "      <td>5</td>\n",
              "      <td>5</td>\n",
              "    </tr>\n",
              "    <tr>\n",
              "      <th>전남</th>\n",
              "      <td>8</td>\n",
              "      <td>8</td>\n",
              "      <td>8</td>\n",
              "      <td>8</td>\n",
              "      <td>8</td>\n",
              "      <td>8</td>\n",
              "      <td>8</td>\n",
              "      <td>8</td>\n",
              "    </tr>\n",
              "    <tr>\n",
              "      <th>전북</th>\n",
              "      <td>8</td>\n",
              "      <td>8</td>\n",
              "      <td>8</td>\n",
              "      <td>8</td>\n",
              "      <td>8</td>\n",
              "      <td>8</td>\n",
              "      <td>8</td>\n",
              "      <td>8</td>\n",
              "    </tr>\n",
              "    <tr>\n",
              "      <th>제주</th>\n",
              "      <td>2</td>\n",
              "      <td>2</td>\n",
              "      <td>2</td>\n",
              "      <td>2</td>\n",
              "      <td>2</td>\n",
              "      <td>2</td>\n",
              "      <td>2</td>\n",
              "      <td>2</td>\n",
              "    </tr>\n",
              "    <tr>\n",
              "      <th>충남</th>\n",
              "      <td>15</td>\n",
              "      <td>15</td>\n",
              "      <td>15</td>\n",
              "      <td>15</td>\n",
              "      <td>15</td>\n",
              "      <td>15</td>\n",
              "      <td>15</td>\n",
              "      <td>15</td>\n",
              "    </tr>\n",
              "    <tr>\n",
              "      <th>충북</th>\n",
              "      <td>11</td>\n",
              "      <td>11</td>\n",
              "      <td>11</td>\n",
              "      <td>11</td>\n",
              "      <td>11</td>\n",
              "      <td>11</td>\n",
              "      <td>11</td>\n",
              "      <td>11</td>\n",
              "    </tr>\n",
              "  </tbody>\n",
              "</table>\n",
              "</div>\n",
              "      <button class=\"colab-df-convert\" onclick=\"convertToInteractive('df-e043c63c-75b9-415d-84a8-0b35d544fba4')\"\n",
              "              title=\"Convert this dataframe to an interactive table.\"\n",
              "              style=\"display:none;\">\n",
              "        \n",
              "  <svg xmlns=\"http://www.w3.org/2000/svg\" height=\"24px\"viewBox=\"0 0 24 24\"\n",
              "       width=\"24px\">\n",
              "    <path d=\"M0 0h24v24H0V0z\" fill=\"none\"/>\n",
              "    <path d=\"M18.56 5.44l.94 2.06.94-2.06 2.06-.94-2.06-.94-.94-2.06-.94 2.06-2.06.94zm-11 1L8.5 8.5l.94-2.06 2.06-.94-2.06-.94L8.5 2.5l-.94 2.06-2.06.94zm10 10l.94 2.06.94-2.06 2.06-.94-2.06-.94-.94-2.06-.94 2.06-2.06.94z\"/><path d=\"M17.41 7.96l-1.37-1.37c-.4-.4-.92-.59-1.43-.59-.52 0-1.04.2-1.43.59L10.3 9.45l-7.72 7.72c-.78.78-.78 2.05 0 2.83L4 21.41c.39.39.9.59 1.41.59.51 0 1.02-.2 1.41-.59l7.78-7.78 2.81-2.81c.8-.78.8-2.07 0-2.86zM5.41 20L4 18.59l7.72-7.72 1.47 1.35L5.41 20z\"/>\n",
              "  </svg>\n",
              "      </button>\n",
              "      \n",
              "  <style>\n",
              "    .colab-df-container {\n",
              "      display:flex;\n",
              "      flex-wrap:wrap;\n",
              "      gap: 12px;\n",
              "    }\n",
              "\n",
              "    .colab-df-convert {\n",
              "      background-color: #E8F0FE;\n",
              "      border: none;\n",
              "      border-radius: 50%;\n",
              "      cursor: pointer;\n",
              "      display: none;\n",
              "      fill: #1967D2;\n",
              "      height: 32px;\n",
              "      padding: 0 0 0 0;\n",
              "      width: 32px;\n",
              "    }\n",
              "\n",
              "    .colab-df-convert:hover {\n",
              "      background-color: #E2EBFA;\n",
              "      box-shadow: 0px 1px 2px rgba(60, 64, 67, 0.3), 0px 1px 3px 1px rgba(60, 64, 67, 0.15);\n",
              "      fill: #174EA6;\n",
              "    }\n",
              "\n",
              "    [theme=dark] .colab-df-convert {\n",
              "      background-color: #3B4455;\n",
              "      fill: #D2E3FC;\n",
              "    }\n",
              "\n",
              "    [theme=dark] .colab-df-convert:hover {\n",
              "      background-color: #434B5C;\n",
              "      box-shadow: 0px 1px 3px 1px rgba(0, 0, 0, 0.15);\n",
              "      filter: drop-shadow(0px 1px 2px rgba(0, 0, 0, 0.3));\n",
              "      fill: #FFFFFF;\n",
              "    }\n",
              "  </style>\n",
              "\n",
              "      <script>\n",
              "        const buttonEl =\n",
              "          document.querySelector('#df-e043c63c-75b9-415d-84a8-0b35d544fba4 button.colab-df-convert');\n",
              "        buttonEl.style.display =\n",
              "          google.colab.kernel.accessAllowed ? 'block' : 'none';\n",
              "\n",
              "        async function convertToInteractive(key) {\n",
              "          const element = document.querySelector('#df-e043c63c-75b9-415d-84a8-0b35d544fba4');\n",
              "          const dataTable =\n",
              "            await google.colab.kernel.invokeFunction('convertToInteractive',\n",
              "                                                     [key], {});\n",
              "          if (!dataTable) return;\n",
              "\n",
              "          const docLinkHtml = 'Like what you see? Visit the ' +\n",
              "            '<a target=\"_blank\" href=https://colab.research.google.com/notebooks/data_table.ipynb>data table notebook</a>'\n",
              "            + ' to learn more about interactive tables.';\n",
              "          element.innerHTML = '';\n",
              "          dataTable['output_type'] = 'display_data';\n",
              "          await google.colab.output.renderOutput(dataTable, element);\n",
              "          const docLink = document.createElement('div');\n",
              "          docLink.innerHTML = docLinkHtml;\n",
              "          element.appendChild(docLink);\n",
              "        }\n",
              "      </script>\n",
              "    </div>\n",
              "  </div>\n",
              "  "
            ]
          },
          "metadata": {},
          "execution_count": 84
        }
      ]
    },
    {
      "cell_type": "code",
      "source": [
        "df2 = data2.groupby('지역').filter(lambda x: len(x) > 10)\n",
        "df2.groupby('지역').count()"
      ],
      "metadata": {
        "id": "zrrpNUeuQzsm",
        "outputId": "7c9129dd-18c0-4b5c-9da4-ef81309f169e",
        "colab": {
          "base_uri": "https://localhost:8080/",
          "height": 549
        }
      },
      "execution_count": null,
      "outputs": [
        {
          "output_type": "execute_result",
          "data": {
            "text/plain": [
              "    index  학교종류  설립구분  학교명  재학생\\n(A)  장학금현황  성적우수장학금  재학생1인당장학금\n",
              "지역                                                             \n",
              "강원     11    11    11   11        11     11       11         11\n",
              "경기     35    35    35   35        35     35       35         35\n",
              "경북     18    18    18   18        18     18       18         18\n",
              "대전     12    12    12   12        12     12       12         12\n",
              "부산     13    13    13   13        13     13       13         13\n",
              "서울     42    42    42   42        42     42       42         42\n",
              "충남     15    15    15   15        15     15       15         15\n",
              "충북     11    11    11   11        11     11       11         11"
            ],
            "text/html": [
              "\n",
              "  <div id=\"df-f95dfc6e-522f-4099-912e-b32ceceb952a\">\n",
              "    <div class=\"colab-df-container\">\n",
              "      <div>\n",
              "<style scoped>\n",
              "    .dataframe tbody tr th:only-of-type {\n",
              "        vertical-align: middle;\n",
              "    }\n",
              "\n",
              "    .dataframe tbody tr th {\n",
              "        vertical-align: top;\n",
              "    }\n",
              "\n",
              "    .dataframe thead th {\n",
              "        text-align: right;\n",
              "    }\n",
              "</style>\n",
              "<table border=\"1\" class=\"dataframe\">\n",
              "  <thead>\n",
              "    <tr style=\"text-align: right;\">\n",
              "      <th></th>\n",
              "      <th>index</th>\n",
              "      <th>학교종류</th>\n",
              "      <th>설립구분</th>\n",
              "      <th>학교명</th>\n",
              "      <th>재학생\\n(A)</th>\n",
              "      <th>장학금현황</th>\n",
              "      <th>성적우수장학금</th>\n",
              "      <th>재학생1인당장학금</th>\n",
              "    </tr>\n",
              "    <tr>\n",
              "      <th>지역</th>\n",
              "      <th></th>\n",
              "      <th></th>\n",
              "      <th></th>\n",
              "      <th></th>\n",
              "      <th></th>\n",
              "      <th></th>\n",
              "      <th></th>\n",
              "      <th></th>\n",
              "    </tr>\n",
              "  </thead>\n",
              "  <tbody>\n",
              "    <tr>\n",
              "      <th>강원</th>\n",
              "      <td>11</td>\n",
              "      <td>11</td>\n",
              "      <td>11</td>\n",
              "      <td>11</td>\n",
              "      <td>11</td>\n",
              "      <td>11</td>\n",
              "      <td>11</td>\n",
              "      <td>11</td>\n",
              "    </tr>\n",
              "    <tr>\n",
              "      <th>경기</th>\n",
              "      <td>35</td>\n",
              "      <td>35</td>\n",
              "      <td>35</td>\n",
              "      <td>35</td>\n",
              "      <td>35</td>\n",
              "      <td>35</td>\n",
              "      <td>35</td>\n",
              "      <td>35</td>\n",
              "    </tr>\n",
              "    <tr>\n",
              "      <th>경북</th>\n",
              "      <td>18</td>\n",
              "      <td>18</td>\n",
              "      <td>18</td>\n",
              "      <td>18</td>\n",
              "      <td>18</td>\n",
              "      <td>18</td>\n",
              "      <td>18</td>\n",
              "      <td>18</td>\n",
              "    </tr>\n",
              "    <tr>\n",
              "      <th>대전</th>\n",
              "      <td>12</td>\n",
              "      <td>12</td>\n",
              "      <td>12</td>\n",
              "      <td>12</td>\n",
              "      <td>12</td>\n",
              "      <td>12</td>\n",
              "      <td>12</td>\n",
              "      <td>12</td>\n",
              "    </tr>\n",
              "    <tr>\n",
              "      <th>부산</th>\n",
              "      <td>13</td>\n",
              "      <td>13</td>\n",
              "      <td>13</td>\n",
              "      <td>13</td>\n",
              "      <td>13</td>\n",
              "      <td>13</td>\n",
              "      <td>13</td>\n",
              "      <td>13</td>\n",
              "    </tr>\n",
              "    <tr>\n",
              "      <th>서울</th>\n",
              "      <td>42</td>\n",
              "      <td>42</td>\n",
              "      <td>42</td>\n",
              "      <td>42</td>\n",
              "      <td>42</td>\n",
              "      <td>42</td>\n",
              "      <td>42</td>\n",
              "      <td>42</td>\n",
              "    </tr>\n",
              "    <tr>\n",
              "      <th>충남</th>\n",
              "      <td>15</td>\n",
              "      <td>15</td>\n",
              "      <td>15</td>\n",
              "      <td>15</td>\n",
              "      <td>15</td>\n",
              "      <td>15</td>\n",
              "      <td>15</td>\n",
              "      <td>15</td>\n",
              "    </tr>\n",
              "    <tr>\n",
              "      <th>충북</th>\n",
              "      <td>11</td>\n",
              "      <td>11</td>\n",
              "      <td>11</td>\n",
              "      <td>11</td>\n",
              "      <td>11</td>\n",
              "      <td>11</td>\n",
              "      <td>11</td>\n",
              "      <td>11</td>\n",
              "    </tr>\n",
              "  </tbody>\n",
              "</table>\n",
              "</div>\n",
              "      <button class=\"colab-df-convert\" onclick=\"convertToInteractive('df-f95dfc6e-522f-4099-912e-b32ceceb952a')\"\n",
              "              title=\"Convert this dataframe to an interactive table.\"\n",
              "              style=\"display:none;\">\n",
              "        \n",
              "  <svg xmlns=\"http://www.w3.org/2000/svg\" height=\"24px\"viewBox=\"0 0 24 24\"\n",
              "       width=\"24px\">\n",
              "    <path d=\"M0 0h24v24H0V0z\" fill=\"none\"/>\n",
              "    <path d=\"M18.56 5.44l.94 2.06.94-2.06 2.06-.94-2.06-.94-.94-2.06-.94 2.06-2.06.94zm-11 1L8.5 8.5l.94-2.06 2.06-.94-2.06-.94L8.5 2.5l-.94 2.06-2.06.94zm10 10l.94 2.06.94-2.06 2.06-.94-2.06-.94-.94-2.06-.94 2.06-2.06.94z\"/><path d=\"M17.41 7.96l-1.37-1.37c-.4-.4-.92-.59-1.43-.59-.52 0-1.04.2-1.43.59L10.3 9.45l-7.72 7.72c-.78.78-.78 2.05 0 2.83L4 21.41c.39.39.9.59 1.41.59.51 0 1.02-.2 1.41-.59l7.78-7.78 2.81-2.81c.8-.78.8-2.07 0-2.86zM5.41 20L4 18.59l7.72-7.72 1.47 1.35L5.41 20z\"/>\n",
              "  </svg>\n",
              "      </button>\n",
              "      \n",
              "  <style>\n",
              "    .colab-df-container {\n",
              "      display:flex;\n",
              "      flex-wrap:wrap;\n",
              "      gap: 12px;\n",
              "    }\n",
              "\n",
              "    .colab-df-convert {\n",
              "      background-color: #E8F0FE;\n",
              "      border: none;\n",
              "      border-radius: 50%;\n",
              "      cursor: pointer;\n",
              "      display: none;\n",
              "      fill: #1967D2;\n",
              "      height: 32px;\n",
              "      padding: 0 0 0 0;\n",
              "      width: 32px;\n",
              "    }\n",
              "\n",
              "    .colab-df-convert:hover {\n",
              "      background-color: #E2EBFA;\n",
              "      box-shadow: 0px 1px 2px rgba(60, 64, 67, 0.3), 0px 1px 3px 1px rgba(60, 64, 67, 0.15);\n",
              "      fill: #174EA6;\n",
              "    }\n",
              "\n",
              "    [theme=dark] .colab-df-convert {\n",
              "      background-color: #3B4455;\n",
              "      fill: #D2E3FC;\n",
              "    }\n",
              "\n",
              "    [theme=dark] .colab-df-convert:hover {\n",
              "      background-color: #434B5C;\n",
              "      box-shadow: 0px 1px 3px 1px rgba(0, 0, 0, 0.15);\n",
              "      filter: drop-shadow(0px 1px 2px rgba(0, 0, 0, 0.3));\n",
              "      fill: #FFFFFF;\n",
              "    }\n",
              "  </style>\n",
              "\n",
              "      <script>\n",
              "        const buttonEl =\n",
              "          document.querySelector('#df-f95dfc6e-522f-4099-912e-b32ceceb952a button.colab-df-convert');\n",
              "        buttonEl.style.display =\n",
              "          google.colab.kernel.accessAllowed ? 'block' : 'none';\n",
              "\n",
              "        async function convertToInteractive(key) {\n",
              "          const element = document.querySelector('#df-f95dfc6e-522f-4099-912e-b32ceceb952a');\n",
              "          const dataTable =\n",
              "            await google.colab.kernel.invokeFunction('convertToInteractive',\n",
              "                                                     [key], {});\n",
              "          if (!dataTable) return;\n",
              "\n",
              "          const docLinkHtml = 'Like what you see? Visit the ' +\n",
              "            '<a target=\"_blank\" href=https://colab.research.google.com/notebooks/data_table.ipynb>data table notebook</a>'\n",
              "            + ' to learn more about interactive tables.';\n",
              "          element.innerHTML = '';\n",
              "          dataTable['output_type'] = 'display_data';\n",
              "          await google.colab.output.renderOutput(dataTable, element);\n",
              "          const docLink = document.createElement('div');\n",
              "          docLink.innerHTML = docLinkHtml;\n",
              "          element.appendChild(docLink);\n",
              "        }\n",
              "      </script>\n",
              "    </div>\n",
              "  </div>\n",
              "  "
            ]
          },
          "metadata": {},
          "execution_count": 85
        }
      ]
    },
    {
      "cell_type": "markdown",
      "source": [
        "#일반화 지역별 재학생 1인당 장학금"
      ],
      "metadata": {
        "id": "uMy6lmoc4pjv"
      }
    },
    {
      "cell_type": "code",
      "source": [
        "sns.barplot(x=\"지역\",y=\"재학생1인당장학금\",data=df2)\n",
        "plt.title(\"재학생1인당장학금\")\n",
        "plt.rc('font', size=10)\n",
        "plt.show()"
      ],
      "metadata": {
        "id": "8OaRuWPcUVuV",
        "outputId": "75a0d7e0-8b6b-45f1-ddfb-e43321a50f58",
        "colab": {
          "base_uri": "https://localhost:8080/",
          "height": 469
        }
      },
      "execution_count": null,
      "outputs": [
        {
          "output_type": "display_data",
          "data": {
            "text/plain": [
              "<Figure size 640x480 with 1 Axes>"
            ],
            "image/png": "[encoded data removed]"
          },
          "metadata": {}
        }
      ]
    },
    {
      "cell_type": "code",
      "source": [
        "sns.barplot(x=\"지역\",y=\"성적우수장학금\",data=df2)\n",
        "plt.title(\"성적우수장학금\")\n",
        "plt.rc('font', size=10)\n",
        "plt.show()"
      ],
      "metadata": {
        "id": "3m2e5U5TUeEd",
        "outputId": "df63db3f-6e52-4b40-a50b-47e81ebaae92",
        "colab": {
          "base_uri": "https://localhost:8080/",
          "height": 469
        }
      },
      "execution_count": null,
      "outputs": [
        {
          "output_type": "display_data",
          "data": {
            "text/plain": [
              "<Figure size 640x480 with 1 Axes>"
            ],
            "image/png": "[encoded data removed]"
          },
          "metadata": {}
        }
      ]
    },
    {
      "cell_type": "code",
      "source": [
        "g=df2.groupby([\"지역\"])[\"재학생1인당장학금\"].mean().sort_values(ascending = False)\n",
        "g.plot.bar()"
      ],
      "metadata": {
        "colab": {
          "base_uri": "https://localhost:8080/",
          "height": 493
        },
        "id": "zV2wwoCo73r2",
        "outputId": "254f1db5-1dc0-4bc4-c1c6-1acdedba7ab5"
      },
      "execution_count": null,
      "outputs": [
        {
          "output_type": "execute_result",
          "data": {
            "text/plain": [
              "<Axes: xlabel='지역'>"
            ]
          },
          "metadata": {},
          "execution_count": 92
        },
        {
          "output_type": "display_data",
          "data": {
            "text/plain": [
              "<Figure size 640x480 with 1 Axes>"
            ],
            "image/png": "[encoded data removed]"
          },
          "metadata": {}
        }
      ]
    },
    {
      "cell_type": "code",
      "source": [
        "g=df2.groupby([\"지역\"])[\"성적우수장학금\"].mean().sort_values(ascending = False)\n",
        "g.plot.bar()"
      ],
      "metadata": {
        "colab": {
          "base_uri": "https://localhost:8080/",
          "height": 493
        },
        "id": "IlBNs4FL8Hiu",
        "outputId": "a6ed1ce0-451b-4ead-ee50-39af151eeda3"
      },
      "execution_count": null,
      "outputs": [
        {
          "output_type": "execute_result",
          "data": {
            "text/plain": [
              "<Axes: xlabel='지역'>"
            ]
          },
          "metadata": {},
          "execution_count": 93
        },
        {
          "output_type": "display_data",
          "data": {
            "text/plain": [
              "<Figure size 640x480 with 1 Axes>"
            ],
            "image/png": "[encoded data removed]"
          },
          "metadata": {}
        }
      ]
    },
    {
      "cell_type": "code",
      "source": [
        "sns.violinplot(x=\"지역\",y=\"재학생1인당장학금\",data=df2)\n",
        "plt.show()\n",
        "sns.stripplot(x=\"지역\",y=\"재학생1인당장학금\",data=df2)\n",
        "plt.show()\n",
        "#sns.boxplot(x=\"지역\",y=\"성적우수장학금\",data=data_sa2)\n",
        "#plt.show()"
      ],
      "metadata": {
        "id": "bq-UrA1nUkek",
        "colab": {
          "base_uri": "https://localhost:8080/",
          "height": 907
        },
        "outputId": "753e2b16-dfaf-401c-a355-757e27299a1c"
      },
      "execution_count": null,
      "outputs": [
        {
          "output_type": "display_data",
          "data": {
            "text/plain": [
              "<Figure size 640x480 with 1 Axes>"
            ],
            "image/png": "[encoded data removed]"
          },
          "metadata": {}
        },
        {
          "output_type": "display_data",
          "data": {
            "text/plain": [
              "<Figure size 640x480 with 1 Axes>"
            ],
            "image/png": "[encoded data removed]"
          },
          "metadata": {}
        }
      ]
    },
    {
      "cell_type": "code",
      "source": [],
      "metadata": {
        "id": "Nbtkmfoo5Fnm"
      },
      "execution_count": null,
      "outputs": []
    }
  ]
}