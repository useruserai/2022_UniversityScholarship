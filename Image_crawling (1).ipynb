{
 "cells": [
  {
   "cell_type": "code",
   "execution_count": 2,
   "id": "yQn_29mEIk7m",
   "metadata": {
    "colab": {
     "base_uri": "https://localhost:8080/"
    },
    "id": "yQn_29mEIk7m",
    "outputId": "71120361-95c2-4b14-b49b-f87fc3aabf22"
   },
   "outputs": [
    {
     "name": "stdout",
     "output_type": "stream",
     "text": [
      "Collecting selenium\n",
      "  Downloading selenium-4.8.3-py3-none-any.whl (6.5 MB)\n",
      "     ---------------------------------------- 6.5/6.5 MB 46.6 MB/s eta 0:00:00\n",
      "Collecting trio~=0.17\n",
      "  Downloading trio-0.22.0-py3-none-any.whl (384 kB)\n",
      "     ---------------------------------------- 384.9/384.9 kB ? eta 0:00:00\n",
      "Requirement already satisfied: urllib3[socks]~=1.26 in c:\\users\\admin\\anaconda3\\lib\\site-packages (from selenium) (1.26.15)\n",
      "Collecting trio-websocket~=0.9\n",
      "  Downloading trio_websocket-0.10.2-py3-none-any.whl (17 kB)\n",
      "Requirement already satisfied: certifi>=2021.10.8 in c:\\users\\admin\\anaconda3\\lib\\site-packages (from selenium) (2022.12.7)\n",
      "Requirement already satisfied: sniffio in c:\\users\\admin\\anaconda3\\lib\\site-packages (from trio~=0.17->selenium) (1.2.0)\n",
      "Requirement already satisfied: attrs>=19.2.0 in c:\\users\\admin\\anaconda3\\lib\\site-packages (from trio~=0.17->selenium) (22.1.0)\n",
      "Requirement already satisfied: idna in c:\\users\\admin\\anaconda3\\lib\\site-packages (from trio~=0.17->selenium) (3.4)\n",
      "Requirement already satisfied: cffi>=1.14 in c:\\users\\admin\\anaconda3\\lib\\site-packages (from trio~=0.17->selenium) (1.15.1)\n",
      "Collecting exceptiongroup>=1.0.0rc9\n",
      "  Downloading exceptiongroup-1.1.1-py3-none-any.whl (14 kB)\n",
      "Collecting outcome\n",
      "  Downloading outcome-1.2.0-py2.py3-none-any.whl (9.7 kB)\n",
      "Requirement already satisfied: sortedcontainers in c:\\users\\admin\\anaconda3\\lib\\site-packages (from trio~=0.17->selenium) (2.4.0)\n",
      "Collecting async-generator>=1.9\n",
      "  Downloading async_generator-1.10-py3-none-any.whl (18 kB)\n",
      "Collecting wsproto>=0.14\n",
      "  Downloading wsproto-1.2.0-py3-none-any.whl (24 kB)\n",
      "Requirement already satisfied: PySocks!=1.5.7,<2.0,>=1.5.6 in c:\\users\\admin\\anaconda3\\lib\\site-packages (from urllib3[socks]~=1.26->selenium) (1.7.1)\n",
      "Requirement already satisfied: pycparser in c:\\users\\admin\\anaconda3\\lib\\site-packages (from cffi>=1.14->trio~=0.17->selenium) (2.21)\n",
      "Collecting h11<1,>=0.9.0\n",
      "  Downloading h11-0.14.0-py3-none-any.whl (58 kB)\n",
      "     ---------------------------------------- 58.3/58.3 kB ? eta 0:00:00\n",
      "Installing collected packages: outcome, h11, exceptiongroup, async-generator, wsproto, trio, trio-websocket, selenium\n",
      "Successfully installed async-generator-1.10 exceptiongroup-1.1.1 h11-0.14.0 outcome-1.2.0 selenium-4.8.3 trio-0.22.0 trio-websocket-0.10.2 wsproto-1.2.0\n"
     ]
    },
    {
     "name": "stderr",
     "output_type": "stream",
     "text": [
      "'apt-get'은(는) 내부 또는 외부 명령, 실행할 수 있는 프로그램, 또는\n",
      "배치 파일이 아닙니다.\n",
      "'apt'은(는) 내부 또는 외부 명령, 실행할 수 있는 프로그램, 또는\n",
      "배치 파일이 아닙니다.\n"
     ]
    }
   ],
   "source": [
    "!pip install selenium\n",
    "!apt-get update\n",
    "!apt install chromium-chromedriver"
   ]
  },
  {
   "cell_type": "code",
   "execution_count": 1,
   "id": "b84704a1",
   "metadata": {
    "colab": {
     "base_uri": "https://localhost:8080/"
    },
    "id": "b84704a1",
    "outputId": "99da480d-371e-44af-da74-bda3976c63bd"
   },
   "outputs": [],
   "source": [
    "import time\n",
    "import requests\n",
    "import urllib.request\n",
    "import shutil\n",
    "from selenium import webdriver\n",
    "from bs4 import BeautifulSoup\n",
    "from selenium.webdriver.common.keys import Keys\n",
    "from selenium.webdriver.common.by import By"
   ]
  },
  {
   "cell_type": "code",
   "execution_count": 2,
   "id": "9a8e0dfe",
   "metadata": {
    "colab": {
     "base_uri": "https://localhost:8080/"
    },
    "id": "9a8e0dfe",
    "outputId": "0fc1ad34-11ef-4419-beff-d5acbee2354a"
   },
   "outputs": [
    {
     "name": "stdout",
     "output_type": "stream",
     "text": [
      "Input query : tiger\n"
     ]
    }
   ],
   "source": [
    "query= input(\"Input query : \")"
   ]
  },
  {
   "cell_type": "code",
   "execution_count": 4,
   "id": "0af0ce99",
   "metadata": {
    "colab": {
     "base_uri": "https://localhost:8080/"
    },
    "id": "0af0ce99",
    "outputId": "ad525a4b-1953-47cd-9215-c800ba0399ff"
   },
   "outputs": [
    {
     "name": "stderr",
     "output_type": "stream",
     "text": [
      "C:\\Users\\admin\\AppData\\Local\\Temp\\ipykernel_261132\\2401415068.py:5: DeprecationWarning: executable_path has been deprecated, please pass in a Service object\n",
      "  driver = webdriver.Chrome('./chromedriver.exe')\n"
     ]
    }
   ],
   "source": [
    "chrome_options = webdriver.ChromeOptions()\n",
    "chrome_options.add_argument('--headless')\n",
    "chrome_options.add_argument('--no-sandbox')\n",
    "chrome_options.add_argument('--disable-dev-shm-usage')\n",
    "driver = webdriver.Chrome('./chromedriver.exe')\n",
    "# chrome_options.binary_location = \"C:/Program Files/Google/Chrome Beta/Application/chrome.exe\"\n",
    "# driver = webdriver.Chrome('./chromedriver_win32/chromedriver.exe', options=chrome_options)\n",
    "\n",
    "time.sleep(3)\n",
    "driver.get('https://images.google.com/')\n",
    "driver.maximize_window() # 화면 최대화"
   ]
  },
  {
   "cell_type": "code",
   "execution_count": 5,
   "id": "6ddc6d07",
   "metadata": {
    "colab": {
     "base_uri": "https://localhost:8080/"
    },
    "id": "6ddc6d07",
    "outputId": "1ea482e5-eb84-48a7-9d87-497fbe0aad36"
   },
   "outputs": [],
   "source": [
    "element_query = driver.find_element(By.NAME,\"q\")\n",
    "element_query.send_keys(query)\n",
    "element_query.submit()\n",
    "# element_query.send_keys(Keys.RETURN)"
   ]
  },
  {
   "cell_type": "code",
   "execution_count": 7,
   "id": "b955a6f0",
   "metadata": {},
   "outputs": [],
   "source": [
    "PAUSE_TIME = 2\n",
    "last_hegiht = driver.execute_script(\"return document.body.scrollHeight\")\n",
    "new_height = 0\n",
    "while True :\n",
    "    driver.execute_script(\"window.scrollBy(0,100000)\")\n",
    "    time.sleep(PAUSE_TIME)\n",
    "    new_height = driver.execute_script(\"return document.body.scrollHeight\")\n",
    "    if new_height - last_hegiht > 0 :\n",
    "        last_hegiht = new_height\n",
    "        continue\n",
    "    else :\n",
    "        break\n"
   ]
  },
  {
   "cell_type": "code",
   "execution_count": 9,
   "id": "35c2c5a6",
   "metadata": {},
   "outputs": [],
   "source": [
    "img_elements = driver.find_elements(By.CSS_SELECTOR,\".rg_i\")"
   ]
  },
  {
   "cell_type": "code",
   "execution_count": 11,
   "id": "52159b7d",
   "metadata": {},
   "outputs": [
    {
     "name": "stdout",
     "output_type": "stream",
     "text": [
      "<selenium.webdriver.remote.webelement.WebElement (session=\"6a3cab4670743ea5e58f55dfe1edb36c\", element=\"c6aa1971-97b2-4b57-a949-e6919959c4ea\")>\n"
     ]
    }
   ],
   "source": [
    "len(img_elements)\n",
    "print(img_elements[0])"
   ]
  },
  {
   "cell_type": "code",
   "execution_count": 12,
   "id": "76b5b79c",
   "metadata": {},
   "outputs": [
    {
     "name": "stdout",
     "output_type": "stream",
     "text": [
      "tiger : 1/400 proceed...\n",
      "tiger : 2/400 proceed...\n",
      "tiger : 3/400 proceed...\n"
     ]
    }
   ],
   "source": [
    "img_rst = []\n",
    "# for idx, img in enumerate(img_elements) :\n",
    "for idx, img in enumerate(img_elements) :\n",
    "    print(f\"{query} : {idx+1}/{len(img_elements)} proceed...\")\n",
    "    try :\n",
    "        img.click()\n",
    "        time.sleep(PAUSE_TIME)\n",
    "#         img_element = driver.find_element(By.XPATH,'//*[@id=\"Sva75c\"]/div[2]/div/div[2]/div[2]/div[2]/c-wiz/div[2]/div[3]/div[1]/a/img[2]')\n",
    "        img_src = img.get_attribute('src')\n",
    "        img_alt = img.get_attribute('alt')\n",
    "        img_rst.append({\n",
    "        'alt' : img_alt,\n",
    "        'src' : img_src\n",
    "        })\n",
    "    except :\n",
    "        pass\n",
    "driver.close()"
   ]
  },
  {
   "cell_type": "code",
   "execution_count": 20,
   "id": "c53019da",
   "metadata": {},
   "outputs": [],
   "source": [
    "for i, img in enumerate(img_rst):\n",
    "    alt = img['alt']\n",
    "    src = img['src']\n",
    "    try:\n",
    "        resp = urllib.request.urlretrieve(src, './img/'+str(i)+'.jpg')\n",
    "    except:\n",
    "        continue"
   ]
  },
  {
   "cell_type": "code",
   "execution_count": null,
   "id": "c36ee882",
   "metadata": {},
   "outputs": [],
   "source": []
  }
 ],
 "metadata": {
  "colab": {
   "collapsed_sections": [],
   "name": "google_image_crawling_v4.ipynb",
   "provenance": []
  },
  "kernelspec": {
   "display_name": "Python 3 (ipykernel)",
   "language": "python",
   "name": "python3"
  },
  "language_info": {
   "codemirror_mode": {
    "name": "ipython",
    "version": 3
   },
   "file_extension": ".py",
   "mimetype": "text/x-python",
   "name": "python",
   "nbconvert_exporter": "python",
   "pygments_lexer": "ipython3",
   "version": "3.9.12"
  }
 },
 "nbformat": 4,
 "nbformat_minor": 5
}
